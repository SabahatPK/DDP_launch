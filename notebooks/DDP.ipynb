{
 "cells": [
  {
   "cell_type": "code",
   "execution_count": 1,
   "metadata": {},
   "outputs": [
    {
     "data": {
      "text/html": [
       "<div>\n",
       "<style scoped>\n",
       "    .dataframe tbody tr th:only-of-type {\n",
       "        vertical-align: middle;\n",
       "    }\n",
       "\n",
       "    .dataframe tbody tr th {\n",
       "        vertical-align: top;\n",
       "    }\n",
       "\n",
       "    .dataframe thead th {\n",
       "        text-align: right;\n",
       "    }\n",
       "</style>\n",
       "<table border=\"1\" class=\"dataframe\">\n",
       "  <thead>\n",
       "    <tr style=\"text-align: right;\">\n",
       "      <th></th>\n",
       "      <th>Province</th>\n",
       "      <th>District</th>\n",
       "      <th>Year</th>\n",
       "      <th>Poverty Rate (%)</th>\n",
       "      <th>Access to improved drinking water (% of population)</th>\n",
       "      <th>Access to piped water (% of population)</th>\n",
       "      <th>Access to improved toilet facilities (% of population)</th>\n",
       "      <th>Open defecation (% of population)</th>\n",
       "      <th>Access to electricity (% of population)</th>\n",
       "      <th>Households' mobile phone ownership (% of population)</th>\n",
       "      <th>...</th>\n",
       "      <th>Net school enrollment, middle school, 11-13 years old (% net)</th>\n",
       "      <th>Youth literacy, 15-24 years old (% of population aged 15-24)</th>\n",
       "      <th>Adult literacy, 25 or more years old (% of population aged 25 or more)</th>\n",
       "      <th>Primary completion rate, 14-17 years old (% of population aged 14-17)</th>\n",
       "      <th>Youth literacy gender parity index, 15-24 years old</th>\n",
       "      <th>Adult literacy gender parity index, 25 or more years old</th>\n",
       "      <th>Primary completion gender parity index, 14-17 years old</th>\n",
       "      <th>Net enrolment rate in primary gender parity index, 6-10 years old</th>\n",
       "      <th>Net enrolment rate in middle school gender parity index, 11-13 years old</th>\n",
       "      <th>Urban share of population (% of population)</th>\n",
       "    </tr>\n",
       "  </thead>\n",
       "  <tbody>\n",
       "    <tr>\n",
       "      <th>0</th>\n",
       "      <td>Balochistan</td>\n",
       "      <td>Awaran</td>\n",
       "      <td>2004</td>\n",
       "      <td>57.0</td>\n",
       "      <td>50.52</td>\n",
       "      <td>40.30</td>\n",
       "      <td>1.38</td>\n",
       "      <td>57.21</td>\n",
       "      <td>9.16</td>\n",
       "      <td>0.36</td>\n",
       "      <td>...</td>\n",
       "      <td>16.83</td>\n",
       "      <td>33.46</td>\n",
       "      <td>13.89</td>\n",
       "      <td>38.17</td>\n",
       "      <td>0.23</td>\n",
       "      <td>0.11</td>\n",
       "      <td>0.57</td>\n",
       "      <td>0.45</td>\n",
       "      <td>0.57</td>\n",
       "      <td>0.00</td>\n",
       "    </tr>\n",
       "    <tr>\n",
       "      <th>1</th>\n",
       "      <td>Balochistan</td>\n",
       "      <td>Awaran</td>\n",
       "      <td>2006</td>\n",
       "      <td>69.0</td>\n",
       "      <td>43.16</td>\n",
       "      <td>28.70</td>\n",
       "      <td>0.10</td>\n",
       "      <td>50.68</td>\n",
       "      <td>14.39</td>\n",
       "      <td>0.00</td>\n",
       "      <td>...</td>\n",
       "      <td>18.37</td>\n",
       "      <td>47.70</td>\n",
       "      <td>18.63</td>\n",
       "      <td>40.27</td>\n",
       "      <td>0.39</td>\n",
       "      <td>0.15</td>\n",
       "      <td>0.65</td>\n",
       "      <td>0.82</td>\n",
       "      <td>0.34</td>\n",
       "      <td>0.00</td>\n",
       "    </tr>\n",
       "    <tr>\n",
       "      <th>2</th>\n",
       "      <td>Balochistan</td>\n",
       "      <td>Awaran</td>\n",
       "      <td>2008</td>\n",
       "      <td>83.0</td>\n",
       "      <td>16.26</td>\n",
       "      <td>10.99</td>\n",
       "      <td>0.00</td>\n",
       "      <td>5.56</td>\n",
       "      <td>39.95</td>\n",
       "      <td>43.17</td>\n",
       "      <td>...</td>\n",
       "      <td>21.15</td>\n",
       "      <td>51.43</td>\n",
       "      <td>28.44</td>\n",
       "      <td>51.50</td>\n",
       "      <td>0.28</td>\n",
       "      <td>0.09</td>\n",
       "      <td>0.37</td>\n",
       "      <td>0.53</td>\n",
       "      <td>0.23</td>\n",
       "      <td>0.00</td>\n",
       "    </tr>\n",
       "    <tr>\n",
       "      <th>3</th>\n",
       "      <td>Balochistan</td>\n",
       "      <td>Awaran</td>\n",
       "      <td>2010</td>\n",
       "      <td>42.0</td>\n",
       "      <td>25.51</td>\n",
       "      <td>23.69</td>\n",
       "      <td>5.48</td>\n",
       "      <td>1.32</td>\n",
       "      <td>28.33</td>\n",
       "      <td>52.23</td>\n",
       "      <td>...</td>\n",
       "      <td>40.01</td>\n",
       "      <td>64.31</td>\n",
       "      <td>36.93</td>\n",
       "      <td>81.84</td>\n",
       "      <td>0.60</td>\n",
       "      <td>0.41</td>\n",
       "      <td>0.69</td>\n",
       "      <td>0.82</td>\n",
       "      <td>0.30</td>\n",
       "      <td>0.00</td>\n",
       "    </tr>\n",
       "    <tr>\n",
       "      <th>4</th>\n",
       "      <td>Balochistan</td>\n",
       "      <td>Awaran</td>\n",
       "      <td>2012</td>\n",
       "      <td>68.0</td>\n",
       "      <td>32.08</td>\n",
       "      <td>9.14</td>\n",
       "      <td>4.28</td>\n",
       "      <td>3.92</td>\n",
       "      <td>25.99</td>\n",
       "      <td>58.73</td>\n",
       "      <td>...</td>\n",
       "      <td>29.19</td>\n",
       "      <td>50.52</td>\n",
       "      <td>35.41</td>\n",
       "      <td>42.06</td>\n",
       "      <td>0.58</td>\n",
       "      <td>0.24</td>\n",
       "      <td>0.45</td>\n",
       "      <td>0.42</td>\n",
       "      <td>0.40</td>\n",
       "      <td>0.00</td>\n",
       "    </tr>\n",
       "    <tr>\n",
       "      <th>...</th>\n",
       "      <td>...</td>\n",
       "      <td>...</td>\n",
       "      <td>...</td>\n",
       "      <td>...</td>\n",
       "      <td>...</td>\n",
       "      <td>...</td>\n",
       "      <td>...</td>\n",
       "      <td>...</td>\n",
       "      <td>...</td>\n",
       "      <td>...</td>\n",
       "      <td>...</td>\n",
       "      <td>...</td>\n",
       "      <td>...</td>\n",
       "      <td>...</td>\n",
       "      <td>...</td>\n",
       "      <td>...</td>\n",
       "      <td>...</td>\n",
       "      <td>...</td>\n",
       "      <td>...</td>\n",
       "      <td>...</td>\n",
       "      <td>...</td>\n",
       "    </tr>\n",
       "    <tr>\n",
       "      <th>697</th>\n",
       "      <td>Sindh</td>\n",
       "      <td>Umerkot</td>\n",
       "      <td>2006</td>\n",
       "      <td>55.0</td>\n",
       "      <td>54.54</td>\n",
       "      <td>28.88</td>\n",
       "      <td>13.64</td>\n",
       "      <td>40.15</td>\n",
       "      <td>63.75</td>\n",
       "      <td>17.09</td>\n",
       "      <td>...</td>\n",
       "      <td>27.22</td>\n",
       "      <td>52.40</td>\n",
       "      <td>29.89</td>\n",
       "      <td>52.52</td>\n",
       "      <td>0.54</td>\n",
       "      <td>0.27</td>\n",
       "      <td>0.67</td>\n",
       "      <td>0.67</td>\n",
       "      <td>0.56</td>\n",
       "      <td>25.29</td>\n",
       "    </tr>\n",
       "    <tr>\n",
       "      <th>698</th>\n",
       "      <td>Sindh</td>\n",
       "      <td>Umerkot</td>\n",
       "      <td>2008</td>\n",
       "      <td>55.0</td>\n",
       "      <td>58.61</td>\n",
       "      <td>13.74</td>\n",
       "      <td>16.63</td>\n",
       "      <td>30.52</td>\n",
       "      <td>75.23</td>\n",
       "      <td>49.74</td>\n",
       "      <td>...</td>\n",
       "      <td>35.36</td>\n",
       "      <td>58.58</td>\n",
       "      <td>34.41</td>\n",
       "      <td>58.09</td>\n",
       "      <td>0.66</td>\n",
       "      <td>0.31</td>\n",
       "      <td>0.77</td>\n",
       "      <td>0.84</td>\n",
       "      <td>0.51</td>\n",
       "      <td>25.01</td>\n",
       "    </tr>\n",
       "    <tr>\n",
       "      <th>699</th>\n",
       "      <td>Sindh</td>\n",
       "      <td>Umerkot</td>\n",
       "      <td>2010</td>\n",
       "      <td>46.0</td>\n",
       "      <td>56.17</td>\n",
       "      <td>36.41</td>\n",
       "      <td>6.91</td>\n",
       "      <td>34.31</td>\n",
       "      <td>72.56</td>\n",
       "      <td>80.18</td>\n",
       "      <td>...</td>\n",
       "      <td>34.39</td>\n",
       "      <td>57.45</td>\n",
       "      <td>28.86</td>\n",
       "      <td>57.24</td>\n",
       "      <td>0.51</td>\n",
       "      <td>0.15</td>\n",
       "      <td>0.59</td>\n",
       "      <td>0.89</td>\n",
       "      <td>0.56</td>\n",
       "      <td>18.15</td>\n",
       "    </tr>\n",
       "    <tr>\n",
       "      <th>700</th>\n",
       "      <td>Sindh</td>\n",
       "      <td>Umerkot</td>\n",
       "      <td>2012</td>\n",
       "      <td>47.0</td>\n",
       "      <td>62.82</td>\n",
       "      <td>29.96</td>\n",
       "      <td>12.50</td>\n",
       "      <td>35.15</td>\n",
       "      <td>75.47</td>\n",
       "      <td>78.49</td>\n",
       "      <td>...</td>\n",
       "      <td>22.19</td>\n",
       "      <td>48.77</td>\n",
       "      <td>32.86</td>\n",
       "      <td>44.64</td>\n",
       "      <td>0.55</td>\n",
       "      <td>0.17</td>\n",
       "      <td>0.69</td>\n",
       "      <td>0.91</td>\n",
       "      <td>0.44</td>\n",
       "      <td>17.05</td>\n",
       "    </tr>\n",
       "    <tr>\n",
       "      <th>701</th>\n",
       "      <td>Sindh</td>\n",
       "      <td>Umerkot</td>\n",
       "      <td>2014</td>\n",
       "      <td>46.0</td>\n",
       "      <td>62.89</td>\n",
       "      <td>22.18</td>\n",
       "      <td>5.06</td>\n",
       "      <td>39.52</td>\n",
       "      <td>66.71</td>\n",
       "      <td>81.96</td>\n",
       "      <td>...</td>\n",
       "      <td>20.02</td>\n",
       "      <td>47.55</td>\n",
       "      <td>28.52</td>\n",
       "      <td>44.47</td>\n",
       "      <td>0.44</td>\n",
       "      <td>0.22</td>\n",
       "      <td>0.60</td>\n",
       "      <td>0.81</td>\n",
       "      <td>0.59</td>\n",
       "      <td>21.34</td>\n",
       "    </tr>\n",
       "  </tbody>\n",
       "</table>\n",
       "<p>702 rows × 42 columns</p>\n",
       "</div>"
      ],
      "text/plain": [
       "        Province District  Year  Poverty Rate (%)  \\\n",
       "0    Balochistan   Awaran  2004              57.0   \n",
       "1    Balochistan   Awaran  2006              69.0   \n",
       "2    Balochistan   Awaran  2008              83.0   \n",
       "3    Balochistan   Awaran  2010              42.0   \n",
       "4    Balochistan   Awaran  2012              68.0   \n",
       "..           ...      ...   ...               ...   \n",
       "697        Sindh  Umerkot  2006              55.0   \n",
       "698        Sindh  Umerkot  2008              55.0   \n",
       "699        Sindh  Umerkot  2010              46.0   \n",
       "700        Sindh  Umerkot  2012              47.0   \n",
       "701        Sindh  Umerkot  2014              46.0   \n",
       "\n",
       "     Access to improved drinking water (% of population)  \\\n",
       "0                                                50.52     \n",
       "1                                                43.16     \n",
       "2                                                16.26     \n",
       "3                                                25.51     \n",
       "4                                                32.08     \n",
       "..                                                 ...     \n",
       "697                                              54.54     \n",
       "698                                              58.61     \n",
       "699                                              56.17     \n",
       "700                                              62.82     \n",
       "701                                              62.89     \n",
       "\n",
       "     Access to piped water (% of population)  \\\n",
       "0                                      40.30   \n",
       "1                                      28.70   \n",
       "2                                      10.99   \n",
       "3                                      23.69   \n",
       "4                                       9.14   \n",
       "..                                       ...   \n",
       "697                                    28.88   \n",
       "698                                    13.74   \n",
       "699                                    36.41   \n",
       "700                                    29.96   \n",
       "701                                    22.18   \n",
       "\n",
       "     Access to improved toilet facilities (% of population)  \\\n",
       "0                                                 1.38        \n",
       "1                                                 0.10        \n",
       "2                                                 0.00        \n",
       "3                                                 5.48        \n",
       "4                                                 4.28        \n",
       "..                                                 ...        \n",
       "697                                              13.64        \n",
       "698                                              16.63        \n",
       "699                                               6.91        \n",
       "700                                              12.50        \n",
       "701                                               5.06        \n",
       "\n",
       "     Open defecation (% of population)  \\\n",
       "0                                57.21   \n",
       "1                                50.68   \n",
       "2                                 5.56   \n",
       "3                                 1.32   \n",
       "4                                 3.92   \n",
       "..                                 ...   \n",
       "697                              40.15   \n",
       "698                              30.52   \n",
       "699                              34.31   \n",
       "700                              35.15   \n",
       "701                              39.52   \n",
       "\n",
       "     Access to electricity (% of population)  \\\n",
       "0                                       9.16   \n",
       "1                                      14.39   \n",
       "2                                      39.95   \n",
       "3                                      28.33   \n",
       "4                                      25.99   \n",
       "..                                       ...   \n",
       "697                                    63.75   \n",
       "698                                    75.23   \n",
       "699                                    72.56   \n",
       "700                                    75.47   \n",
       "701                                    66.71   \n",
       "\n",
       "     Households' mobile phone ownership (% of population)  ...  \\\n",
       "0                                                 0.36     ...   \n",
       "1                                                 0.00     ...   \n",
       "2                                                43.17     ...   \n",
       "3                                                52.23     ...   \n",
       "4                                                58.73     ...   \n",
       "..                                                 ...     ...   \n",
       "697                                              17.09     ...   \n",
       "698                                              49.74     ...   \n",
       "699                                              80.18     ...   \n",
       "700                                              78.49     ...   \n",
       "701                                              81.96     ...   \n",
       "\n",
       "     Net school enrollment, middle school, 11-13 years old (% net)  \\\n",
       "0                                                16.83               \n",
       "1                                                18.37               \n",
       "2                                                21.15               \n",
       "3                                                40.01               \n",
       "4                                                29.19               \n",
       "..                                                 ...               \n",
       "697                                              27.22               \n",
       "698                                              35.36               \n",
       "699                                              34.39               \n",
       "700                                              22.19               \n",
       "701                                              20.02               \n",
       "\n",
       "     Youth literacy, 15-24 years old (% of population aged 15-24)  \\\n",
       "0                                                33.46              \n",
       "1                                                47.70              \n",
       "2                                                51.43              \n",
       "3                                                64.31              \n",
       "4                                                50.52              \n",
       "..                                                 ...              \n",
       "697                                              52.40              \n",
       "698                                              58.58              \n",
       "699                                              57.45              \n",
       "700                                              48.77              \n",
       "701                                              47.55              \n",
       "\n",
       "     Adult literacy, 25 or more years old (% of population aged 25 or more)  \\\n",
       "0                                                13.89                        \n",
       "1                                                18.63                        \n",
       "2                                                28.44                        \n",
       "3                                                36.93                        \n",
       "4                                                35.41                        \n",
       "..                                                 ...                        \n",
       "697                                              29.89                        \n",
       "698                                              34.41                        \n",
       "699                                              28.86                        \n",
       "700                                              32.86                        \n",
       "701                                              28.52                        \n",
       "\n",
       "     Primary completion rate, 14-17 years old (% of population aged 14-17)  \\\n",
       "0                                                38.17                       \n",
       "1                                                40.27                       \n",
       "2                                                51.50                       \n",
       "3                                                81.84                       \n",
       "4                                                42.06                       \n",
       "..                                                 ...                       \n",
       "697                                              52.52                       \n",
       "698                                              58.09                       \n",
       "699                                              57.24                       \n",
       "700                                              44.64                       \n",
       "701                                              44.47                       \n",
       "\n",
       "     Youth literacy gender parity index, 15-24 years old  \\\n",
       "0                                                 0.23     \n",
       "1                                                 0.39     \n",
       "2                                                 0.28     \n",
       "3                                                 0.60     \n",
       "4                                                 0.58     \n",
       "..                                                 ...     \n",
       "697                                               0.54     \n",
       "698                                               0.66     \n",
       "699                                               0.51     \n",
       "700                                               0.55     \n",
       "701                                               0.44     \n",
       "\n",
       "     Adult literacy gender parity index, 25 or more years old  \\\n",
       "0                                                 0.11          \n",
       "1                                                 0.15          \n",
       "2                                                 0.09          \n",
       "3                                                 0.41          \n",
       "4                                                 0.24          \n",
       "..                                                 ...          \n",
       "697                                               0.27          \n",
       "698                                               0.31          \n",
       "699                                               0.15          \n",
       "700                                               0.17          \n",
       "701                                               0.22          \n",
       "\n",
       "     Primary completion gender parity index, 14-17 years old  \\\n",
       "0                                                 0.57         \n",
       "1                                                 0.65         \n",
       "2                                                 0.37         \n",
       "3                                                 0.69         \n",
       "4                                                 0.45         \n",
       "..                                                 ...         \n",
       "697                                               0.67         \n",
       "698                                               0.77         \n",
       "699                                               0.59         \n",
       "700                                               0.69         \n",
       "701                                               0.60         \n",
       "\n",
       "     Net enrolment rate in primary gender parity index, 6-10 years old  \\\n",
       "0                                                 0.45                   \n",
       "1                                                 0.82                   \n",
       "2                                                 0.53                   \n",
       "3                                                 0.82                   \n",
       "4                                                 0.42                   \n",
       "..                                                 ...                   \n",
       "697                                               0.67                   \n",
       "698                                               0.84                   \n",
       "699                                               0.89                   \n",
       "700                                               0.91                   \n",
       "701                                               0.81                   \n",
       "\n",
       "     Net enrolment rate in middle school gender parity index, 11-13 years old  \\\n",
       "0                                                 0.57                          \n",
       "1                                                 0.34                          \n",
       "2                                                 0.23                          \n",
       "3                                                 0.30                          \n",
       "4                                                 0.40                          \n",
       "..                                                 ...                          \n",
       "697                                               0.56                          \n",
       "698                                               0.51                          \n",
       "699                                               0.56                          \n",
       "700                                               0.44                          \n",
       "701                                               0.59                          \n",
       "\n",
       "     Urban share of population (% of population)  \n",
       "0                                           0.00  \n",
       "1                                           0.00  \n",
       "2                                           0.00  \n",
       "3                                           0.00  \n",
       "4                                           0.00  \n",
       "..                                           ...  \n",
       "697                                        25.29  \n",
       "698                                        25.01  \n",
       "699                                        18.15  \n",
       "700                                        17.05  \n",
       "701                                        21.34  \n",
       "\n",
       "[702 rows x 42 columns]"
      ]
     },
     "execution_count": 1,
     "metadata": {},
     "output_type": "execute_result"
    }
   ],
   "source": [
    "import pandas as pd\n",
    "input_data_file = '../Data/updatedData.csv' \n",
    "output_grouped_data_file = '../Data/pakistan_indicators.csv' \n",
    "df = pd.read_csv(input_data_file, encoding='latin1')\n",
    "\n",
    "\n",
    "df"
   ]
  },
  {
   "cell_type": "code",
   "execution_count": 2,
   "metadata": {},
   "outputs": [
    {
     "name": "stdout",
     "output_type": "stream",
     "text": [
      "Province\n",
      "District\n",
      "Year\n",
      "Poverty Rate (%)\n",
      "Access to improved drinking water (% of population)\n",
      "Access to piped water (% of population)\n",
      "Access to improved toilet facilities (% of population)\n",
      "Open defecation (% of population)\n",
      "Access to electricity (% of population)\n",
      "Households' mobile phone ownership (% of population)\n",
      "Accessibility, health (% of population within 15 minutes to clinic/hospital)\n",
      "Accessibility, transportation (% of population within 15 minutes to public transportation)\n",
      "Household size\n",
      "Household dependency ratio\n",
      "Occupancy, present occupancy status-owner (% of population)\n",
      "Occupancy, present occupancy status-rented (% of population)\n",
      "Occupancy, present occupancy status-other (% of population)\n",
      "Improved roof material (% of population)\n",
      "Improved wall material (% of population)\n",
      "Improved roof and wall material (% of population)\n",
      "Household members per room\n",
      "Overcrowding (% of population)\n",
      "Labor force participation rate (% of working age population, 15-64 years old)\n",
      "Employment in agriculture (% of total employment)\n",
      "Employment in industry (% of total employment)\n",
      "Employment services (% of total employment)\n",
      "Wage and salaried employment (% of total employment)\n",
      "Self-employment, non-agriculture (% of total employment)\n",
      "Self-employment, agriculture (% of total employment)\n",
      "Unpaid employment (% of total employment)\n",
      "Child labor (% of children aged 10-17)\n",
      "Net school enrollment, primary school, 6-10 years old (% net)\n",
      "Net school enrollment, middle school, 11-13 years old (% net)\n",
      "Youth literacy, 15-24 years old (% of population aged 15-24)\n",
      "Adult literacy, 25 or more years old (% of population aged 25 or more)\n",
      "Primary completion rate, 14-17 years old (% of population aged 14-17)\n",
      "Youth literacy gender parity index, 15-24 years old\n",
      "Adult literacy gender parity index, 25 or more years old\n",
      "Primary completion gender parity index, 14-17 years old\n",
      "Net enrolment rate in primary gender parity index, 6-10 years old\n",
      "Net enrolment rate in middle school gender parity index, 11-13 years old\n",
      "Urban share of population (% of population)\n"
     ]
    }
   ],
   "source": [
    "for col in df.columns: \n",
    "    print(col) \n",
    "    "
   ]
  },
  {
   "cell_type": "code",
   "execution_count": 3,
   "metadata": {},
   "outputs": [
    {
     "data": {
      "text/html": [
       "<div>\n",
       "<style scoped>\n",
       "    .dataframe tbody tr th:only-of-type {\n",
       "        vertical-align: middle;\n",
       "    }\n",
       "\n",
       "    .dataframe tbody tr th {\n",
       "        vertical-align: top;\n",
       "    }\n",
       "\n",
       "    .dataframe thead th {\n",
       "        text-align: right;\n",
       "    }\n",
       "</style>\n",
       "<table border=\"1\" class=\"dataframe\">\n",
       "  <thead>\n",
       "    <tr style=\"text-align: right;\">\n",
       "      <th></th>\n",
       "      <th>Province</th>\n",
       "      <th>District</th>\n",
       "      <th>Year</th>\n",
       "      <th>Poverty Rate (%)</th>\n",
       "      <th>Access to improved drinking water (% of population)</th>\n",
       "      <th>Access to piped water (% of population)</th>\n",
       "      <th>Access to improved toilet facilities (% of population)</th>\n",
       "      <th>Open defecation (% of population)</th>\n",
       "      <th>Access to electricity (% of population)</th>\n",
       "      <th>Households' mobile phone ownership (% of population)</th>\n",
       "      <th>...</th>\n",
       "      <th>Net school enrollment, middle school, 11-13 years old (% net)</th>\n",
       "      <th>Youth literacy, 15-24 years old (% of population aged 15-24)</th>\n",
       "      <th>Adult literacy, 25 or more years old (% of population aged 25 or more)</th>\n",
       "      <th>Primary completion rate, 14-17 years old (% of population aged 14-17)</th>\n",
       "      <th>Youth literacy gender parity index, 15-24 years old</th>\n",
       "      <th>Adult literacy gender parity index, 25 or more years old</th>\n",
       "      <th>Primary completion gender parity index, 14-17 years old</th>\n",
       "      <th>Net enrolment rate in primary gender parity index, 6-10 years old</th>\n",
       "      <th>Net enrolment rate in middle school gender parity index, 11-13 years old</th>\n",
       "      <th>Urban share of population (% of population)</th>\n",
       "    </tr>\n",
       "  </thead>\n",
       "  <tbody>\n",
       "    <tr>\n",
       "      <th>0</th>\n",
       "      <td>Balochistan</td>\n",
       "      <td>Awaran</td>\n",
       "      <td>2004</td>\n",
       "      <td>57.0</td>\n",
       "      <td>50.52</td>\n",
       "      <td>40.30</td>\n",
       "      <td>1.38</td>\n",
       "      <td>57.21</td>\n",
       "      <td>9.16</td>\n",
       "      <td>0.36</td>\n",
       "      <td>...</td>\n",
       "      <td>16.83</td>\n",
       "      <td>33.46</td>\n",
       "      <td>13.89</td>\n",
       "      <td>38.17</td>\n",
       "      <td>0.23</td>\n",
       "      <td>0.11</td>\n",
       "      <td>0.57</td>\n",
       "      <td>0.45</td>\n",
       "      <td>0.57</td>\n",
       "      <td>0.00</td>\n",
       "    </tr>\n",
       "    <tr>\n",
       "      <th>1</th>\n",
       "      <td>Balochistan</td>\n",
       "      <td>Awaran</td>\n",
       "      <td>2006</td>\n",
       "      <td>69.0</td>\n",
       "      <td>43.16</td>\n",
       "      <td>28.70</td>\n",
       "      <td>0.10</td>\n",
       "      <td>50.68</td>\n",
       "      <td>14.39</td>\n",
       "      <td>0.00</td>\n",
       "      <td>...</td>\n",
       "      <td>18.37</td>\n",
       "      <td>47.70</td>\n",
       "      <td>18.63</td>\n",
       "      <td>40.27</td>\n",
       "      <td>0.39</td>\n",
       "      <td>0.15</td>\n",
       "      <td>0.65</td>\n",
       "      <td>0.82</td>\n",
       "      <td>0.34</td>\n",
       "      <td>0.00</td>\n",
       "    </tr>\n",
       "    <tr>\n",
       "      <th>2</th>\n",
       "      <td>Balochistan</td>\n",
       "      <td>Awaran</td>\n",
       "      <td>2008</td>\n",
       "      <td>83.0</td>\n",
       "      <td>16.26</td>\n",
       "      <td>10.99</td>\n",
       "      <td>0.00</td>\n",
       "      <td>5.56</td>\n",
       "      <td>39.95</td>\n",
       "      <td>43.17</td>\n",
       "      <td>...</td>\n",
       "      <td>21.15</td>\n",
       "      <td>51.43</td>\n",
       "      <td>28.44</td>\n",
       "      <td>51.50</td>\n",
       "      <td>0.28</td>\n",
       "      <td>0.09</td>\n",
       "      <td>0.37</td>\n",
       "      <td>0.53</td>\n",
       "      <td>0.23</td>\n",
       "      <td>0.00</td>\n",
       "    </tr>\n",
       "    <tr>\n",
       "      <th>3</th>\n",
       "      <td>Balochistan</td>\n",
       "      <td>Awaran</td>\n",
       "      <td>2010</td>\n",
       "      <td>42.0</td>\n",
       "      <td>25.51</td>\n",
       "      <td>23.69</td>\n",
       "      <td>5.48</td>\n",
       "      <td>1.32</td>\n",
       "      <td>28.33</td>\n",
       "      <td>52.23</td>\n",
       "      <td>...</td>\n",
       "      <td>40.01</td>\n",
       "      <td>64.31</td>\n",
       "      <td>36.93</td>\n",
       "      <td>81.84</td>\n",
       "      <td>0.60</td>\n",
       "      <td>0.41</td>\n",
       "      <td>0.69</td>\n",
       "      <td>0.82</td>\n",
       "      <td>0.30</td>\n",
       "      <td>0.00</td>\n",
       "    </tr>\n",
       "    <tr>\n",
       "      <th>4</th>\n",
       "      <td>Balochistan</td>\n",
       "      <td>Awaran</td>\n",
       "      <td>2012</td>\n",
       "      <td>68.0</td>\n",
       "      <td>32.08</td>\n",
       "      <td>9.14</td>\n",
       "      <td>4.28</td>\n",
       "      <td>3.92</td>\n",
       "      <td>25.99</td>\n",
       "      <td>58.73</td>\n",
       "      <td>...</td>\n",
       "      <td>29.19</td>\n",
       "      <td>50.52</td>\n",
       "      <td>35.41</td>\n",
       "      <td>42.06</td>\n",
       "      <td>0.58</td>\n",
       "      <td>0.24</td>\n",
       "      <td>0.45</td>\n",
       "      <td>0.42</td>\n",
       "      <td>0.40</td>\n",
       "      <td>0.00</td>\n",
       "    </tr>\n",
       "    <tr>\n",
       "      <th>...</th>\n",
       "      <td>...</td>\n",
       "      <td>...</td>\n",
       "      <td>...</td>\n",
       "      <td>...</td>\n",
       "      <td>...</td>\n",
       "      <td>...</td>\n",
       "      <td>...</td>\n",
       "      <td>...</td>\n",
       "      <td>...</td>\n",
       "      <td>...</td>\n",
       "      <td>...</td>\n",
       "      <td>...</td>\n",
       "      <td>...</td>\n",
       "      <td>...</td>\n",
       "      <td>...</td>\n",
       "      <td>...</td>\n",
       "      <td>...</td>\n",
       "      <td>...</td>\n",
       "      <td>...</td>\n",
       "      <td>...</td>\n",
       "      <td>...</td>\n",
       "    </tr>\n",
       "    <tr>\n",
       "      <th>697</th>\n",
       "      <td>Sindh</td>\n",
       "      <td>Umerkot</td>\n",
       "      <td>2006</td>\n",
       "      <td>55.0</td>\n",
       "      <td>54.54</td>\n",
       "      <td>28.88</td>\n",
       "      <td>13.64</td>\n",
       "      <td>40.15</td>\n",
       "      <td>63.75</td>\n",
       "      <td>17.09</td>\n",
       "      <td>...</td>\n",
       "      <td>27.22</td>\n",
       "      <td>52.40</td>\n",
       "      <td>29.89</td>\n",
       "      <td>52.52</td>\n",
       "      <td>0.54</td>\n",
       "      <td>0.27</td>\n",
       "      <td>0.67</td>\n",
       "      <td>0.67</td>\n",
       "      <td>0.56</td>\n",
       "      <td>25.29</td>\n",
       "    </tr>\n",
       "    <tr>\n",
       "      <th>698</th>\n",
       "      <td>Sindh</td>\n",
       "      <td>Umerkot</td>\n",
       "      <td>2008</td>\n",
       "      <td>55.0</td>\n",
       "      <td>58.61</td>\n",
       "      <td>13.74</td>\n",
       "      <td>16.63</td>\n",
       "      <td>30.52</td>\n",
       "      <td>75.23</td>\n",
       "      <td>49.74</td>\n",
       "      <td>...</td>\n",
       "      <td>35.36</td>\n",
       "      <td>58.58</td>\n",
       "      <td>34.41</td>\n",
       "      <td>58.09</td>\n",
       "      <td>0.66</td>\n",
       "      <td>0.31</td>\n",
       "      <td>0.77</td>\n",
       "      <td>0.84</td>\n",
       "      <td>0.51</td>\n",
       "      <td>25.01</td>\n",
       "    </tr>\n",
       "    <tr>\n",
       "      <th>699</th>\n",
       "      <td>Sindh</td>\n",
       "      <td>Umerkot</td>\n",
       "      <td>2010</td>\n",
       "      <td>46.0</td>\n",
       "      <td>56.17</td>\n",
       "      <td>36.41</td>\n",
       "      <td>6.91</td>\n",
       "      <td>34.31</td>\n",
       "      <td>72.56</td>\n",
       "      <td>80.18</td>\n",
       "      <td>...</td>\n",
       "      <td>34.39</td>\n",
       "      <td>57.45</td>\n",
       "      <td>28.86</td>\n",
       "      <td>57.24</td>\n",
       "      <td>0.51</td>\n",
       "      <td>0.15</td>\n",
       "      <td>0.59</td>\n",
       "      <td>0.89</td>\n",
       "      <td>0.56</td>\n",
       "      <td>18.15</td>\n",
       "    </tr>\n",
       "    <tr>\n",
       "      <th>700</th>\n",
       "      <td>Sindh</td>\n",
       "      <td>Umerkot</td>\n",
       "      <td>2012</td>\n",
       "      <td>47.0</td>\n",
       "      <td>62.82</td>\n",
       "      <td>29.96</td>\n",
       "      <td>12.50</td>\n",
       "      <td>35.15</td>\n",
       "      <td>75.47</td>\n",
       "      <td>78.49</td>\n",
       "      <td>...</td>\n",
       "      <td>22.19</td>\n",
       "      <td>48.77</td>\n",
       "      <td>32.86</td>\n",
       "      <td>44.64</td>\n",
       "      <td>0.55</td>\n",
       "      <td>0.17</td>\n",
       "      <td>0.69</td>\n",
       "      <td>0.91</td>\n",
       "      <td>0.44</td>\n",
       "      <td>17.05</td>\n",
       "    </tr>\n",
       "    <tr>\n",
       "      <th>701</th>\n",
       "      <td>Sindh</td>\n",
       "      <td>Umerkot</td>\n",
       "      <td>2014</td>\n",
       "      <td>46.0</td>\n",
       "      <td>62.89</td>\n",
       "      <td>22.18</td>\n",
       "      <td>5.06</td>\n",
       "      <td>39.52</td>\n",
       "      <td>66.71</td>\n",
       "      <td>81.96</td>\n",
       "      <td>...</td>\n",
       "      <td>20.02</td>\n",
       "      <td>47.55</td>\n",
       "      <td>28.52</td>\n",
       "      <td>44.47</td>\n",
       "      <td>0.44</td>\n",
       "      <td>0.22</td>\n",
       "      <td>0.60</td>\n",
       "      <td>0.81</td>\n",
       "      <td>0.59</td>\n",
       "      <td>21.34</td>\n",
       "    </tr>\n",
       "  </tbody>\n",
       "</table>\n",
       "<p>702 rows × 42 columns</p>\n",
       "</div>"
      ],
      "text/plain": [
       "        Province District  Year  Poverty Rate (%)  \\\n",
       "0    Balochistan   Awaran  2004              57.0   \n",
       "1    Balochistan   Awaran  2006              69.0   \n",
       "2    Balochistan   Awaran  2008              83.0   \n",
       "3    Balochistan   Awaran  2010              42.0   \n",
       "4    Balochistan   Awaran  2012              68.0   \n",
       "..           ...      ...   ...               ...   \n",
       "697        Sindh  Umerkot  2006              55.0   \n",
       "698        Sindh  Umerkot  2008              55.0   \n",
       "699        Sindh  Umerkot  2010              46.0   \n",
       "700        Sindh  Umerkot  2012              47.0   \n",
       "701        Sindh  Umerkot  2014              46.0   \n",
       "\n",
       "     Access to improved drinking water (% of population)  \\\n",
       "0                                                50.52     \n",
       "1                                                43.16     \n",
       "2                                                16.26     \n",
       "3                                                25.51     \n",
       "4                                                32.08     \n",
       "..                                                 ...     \n",
       "697                                              54.54     \n",
       "698                                              58.61     \n",
       "699                                              56.17     \n",
       "700                                              62.82     \n",
       "701                                              62.89     \n",
       "\n",
       "     Access to piped water (% of population)  \\\n",
       "0                                      40.30   \n",
       "1                                      28.70   \n",
       "2                                      10.99   \n",
       "3                                      23.69   \n",
       "4                                       9.14   \n",
       "..                                       ...   \n",
       "697                                    28.88   \n",
       "698                                    13.74   \n",
       "699                                    36.41   \n",
       "700                                    29.96   \n",
       "701                                    22.18   \n",
       "\n",
       "     Access to improved toilet facilities (% of population)  \\\n",
       "0                                                 1.38        \n",
       "1                                                 0.10        \n",
       "2                                                 0.00        \n",
       "3                                                 5.48        \n",
       "4                                                 4.28        \n",
       "..                                                 ...        \n",
       "697                                              13.64        \n",
       "698                                              16.63        \n",
       "699                                               6.91        \n",
       "700                                              12.50        \n",
       "701                                               5.06        \n",
       "\n",
       "     Open defecation (% of population)  \\\n",
       "0                                57.21   \n",
       "1                                50.68   \n",
       "2                                 5.56   \n",
       "3                                 1.32   \n",
       "4                                 3.92   \n",
       "..                                 ...   \n",
       "697                              40.15   \n",
       "698                              30.52   \n",
       "699                              34.31   \n",
       "700                              35.15   \n",
       "701                              39.52   \n",
       "\n",
       "     Access to electricity (% of population)  \\\n",
       "0                                       9.16   \n",
       "1                                      14.39   \n",
       "2                                      39.95   \n",
       "3                                      28.33   \n",
       "4                                      25.99   \n",
       "..                                       ...   \n",
       "697                                    63.75   \n",
       "698                                    75.23   \n",
       "699                                    72.56   \n",
       "700                                    75.47   \n",
       "701                                    66.71   \n",
       "\n",
       "     Households' mobile phone ownership (% of population)  ...  \\\n",
       "0                                                 0.36     ...   \n",
       "1                                                 0.00     ...   \n",
       "2                                                43.17     ...   \n",
       "3                                                52.23     ...   \n",
       "4                                                58.73     ...   \n",
       "..                                                 ...     ...   \n",
       "697                                              17.09     ...   \n",
       "698                                              49.74     ...   \n",
       "699                                              80.18     ...   \n",
       "700                                              78.49     ...   \n",
       "701                                              81.96     ...   \n",
       "\n",
       "     Net school enrollment, middle school, 11-13 years old (% net)  \\\n",
       "0                                                16.83               \n",
       "1                                                18.37               \n",
       "2                                                21.15               \n",
       "3                                                40.01               \n",
       "4                                                29.19               \n",
       "..                                                 ...               \n",
       "697                                              27.22               \n",
       "698                                              35.36               \n",
       "699                                              34.39               \n",
       "700                                              22.19               \n",
       "701                                              20.02               \n",
       "\n",
       "     Youth literacy, 15-24 years old (% of population aged 15-24)  \\\n",
       "0                                                33.46              \n",
       "1                                                47.70              \n",
       "2                                                51.43              \n",
       "3                                                64.31              \n",
       "4                                                50.52              \n",
       "..                                                 ...              \n",
       "697                                              52.40              \n",
       "698                                              58.58              \n",
       "699                                              57.45              \n",
       "700                                              48.77              \n",
       "701                                              47.55              \n",
       "\n",
       "     Adult literacy, 25 or more years old (% of population aged 25 or more)  \\\n",
       "0                                                13.89                        \n",
       "1                                                18.63                        \n",
       "2                                                28.44                        \n",
       "3                                                36.93                        \n",
       "4                                                35.41                        \n",
       "..                                                 ...                        \n",
       "697                                              29.89                        \n",
       "698                                              34.41                        \n",
       "699                                              28.86                        \n",
       "700                                              32.86                        \n",
       "701                                              28.52                        \n",
       "\n",
       "     Primary completion rate, 14-17 years old (% of population aged 14-17)  \\\n",
       "0                                                38.17                       \n",
       "1                                                40.27                       \n",
       "2                                                51.50                       \n",
       "3                                                81.84                       \n",
       "4                                                42.06                       \n",
       "..                                                 ...                       \n",
       "697                                              52.52                       \n",
       "698                                              58.09                       \n",
       "699                                              57.24                       \n",
       "700                                              44.64                       \n",
       "701                                              44.47                       \n",
       "\n",
       "     Youth literacy gender parity index, 15-24 years old  \\\n",
       "0                                                 0.23     \n",
       "1                                                 0.39     \n",
       "2                                                 0.28     \n",
       "3                                                 0.60     \n",
       "4                                                 0.58     \n",
       "..                                                 ...     \n",
       "697                                               0.54     \n",
       "698                                               0.66     \n",
       "699                                               0.51     \n",
       "700                                               0.55     \n",
       "701                                               0.44     \n",
       "\n",
       "     Adult literacy gender parity index, 25 or more years old  \\\n",
       "0                                                 0.11          \n",
       "1                                                 0.15          \n",
       "2                                                 0.09          \n",
       "3                                                 0.41          \n",
       "4                                                 0.24          \n",
       "..                                                 ...          \n",
       "697                                               0.27          \n",
       "698                                               0.31          \n",
       "699                                               0.15          \n",
       "700                                               0.17          \n",
       "701                                               0.22          \n",
       "\n",
       "     Primary completion gender parity index, 14-17 years old  \\\n",
       "0                                                 0.57         \n",
       "1                                                 0.65         \n",
       "2                                                 0.37         \n",
       "3                                                 0.69         \n",
       "4                                                 0.45         \n",
       "..                                                 ...         \n",
       "697                                               0.67         \n",
       "698                                               0.77         \n",
       "699                                               0.59         \n",
       "700                                               0.69         \n",
       "701                                               0.60         \n",
       "\n",
       "     Net enrolment rate in primary gender parity index, 6-10 years old  \\\n",
       "0                                                 0.45                   \n",
       "1                                                 0.82                   \n",
       "2                                                 0.53                   \n",
       "3                                                 0.82                   \n",
       "4                                                 0.42                   \n",
       "..                                                 ...                   \n",
       "697                                               0.67                   \n",
       "698                                               0.84                   \n",
       "699                                               0.89                   \n",
       "700                                               0.91                   \n",
       "701                                               0.81                   \n",
       "\n",
       "     Net enrolment rate in middle school gender parity index, 11-13 years old  \\\n",
       "0                                                 0.57                          \n",
       "1                                                 0.34                          \n",
       "2                                                 0.23                          \n",
       "3                                                 0.30                          \n",
       "4                                                 0.40                          \n",
       "..                                                 ...                          \n",
       "697                                               0.56                          \n",
       "698                                               0.51                          \n",
       "699                                               0.56                          \n",
       "700                                               0.44                          \n",
       "701                                               0.59                          \n",
       "\n",
       "     Urban share of population (% of population)  \n",
       "0                                           0.00  \n",
       "1                                           0.00  \n",
       "2                                           0.00  \n",
       "3                                           0.00  \n",
       "4                                           0.00  \n",
       "..                                           ...  \n",
       "697                                        25.29  \n",
       "698                                        25.01  \n",
       "699                                        18.15  \n",
       "700                                        17.05  \n",
       "701                                        21.34  \n",
       "\n",
       "[702 rows x 42 columns]"
      ]
     },
     "execution_count": 3,
     "metadata": {},
     "output_type": "execute_result"
    }
   ],
   "source": [
    "def sort_group_values(group):\n",
    "    group = group.sort_values(by=['Year'])\n",
    "    return group\n",
    "\n",
    "# Original dataframe after group by\n",
    "grouped_df = df.groupby(['Province', 'District']).apply(lambda group: sort_group_values(group)).reset_index(drop=True)\n",
    "grouped_df.to_csv(output_grouped_data_file)\n",
    "grouped_df"
   ]
  },
  {
   "cell_type": "code",
   "execution_count": 4,
   "metadata": {},
   "outputs": [
    {
     "data": {
      "text/html": [
       "<div>\n",
       "<style scoped>\n",
       "    .dataframe tbody tr th:only-of-type {\n",
       "        vertical-align: middle;\n",
       "    }\n",
       "\n",
       "    .dataframe tbody tr th {\n",
       "        vertical-align: top;\n",
       "    }\n",
       "\n",
       "    .dataframe thead th {\n",
       "        text-align: right;\n",
       "    }\n",
       "</style>\n",
       "<table border=\"1\" class=\"dataframe\">\n",
       "  <thead>\n",
       "    <tr style=\"text-align: right;\">\n",
       "      <th></th>\n",
       "      <th>Poverty Rate (%)</th>\n",
       "      <th>Adult literacy gender parity index, 25 or more years old</th>\n",
       "    </tr>\n",
       "  </thead>\n",
       "  <tbody>\n",
       "    <tr>\n",
       "      <th>0</th>\n",
       "      <td>57.0</td>\n",
       "      <td>0.11</td>\n",
       "    </tr>\n",
       "    <tr>\n",
       "      <th>1</th>\n",
       "      <td>61.0</td>\n",
       "      <td>0.04</td>\n",
       "    </tr>\n",
       "    <tr>\n",
       "      <th>2</th>\n",
       "      <td>74.0</td>\n",
       "      <td>0.19</td>\n",
       "    </tr>\n",
       "    <tr>\n",
       "      <th>3</th>\n",
       "      <td>49.0</td>\n",
       "      <td>0.18</td>\n",
       "    </tr>\n",
       "    <tr>\n",
       "      <th>4</th>\n",
       "      <td>66.0</td>\n",
       "      <td>0.19</td>\n",
       "    </tr>\n",
       "    <tr>\n",
       "      <th>5</th>\n",
       "      <td>49.0</td>\n",
       "      <td>0.06</td>\n",
       "    </tr>\n",
       "    <tr>\n",
       "      <th>6</th>\n",
       "      <td>71.0</td>\n",
       "      <td>0.06</td>\n",
       "    </tr>\n",
       "    <tr>\n",
       "      <th>7</th>\n",
       "      <td>64.0</td>\n",
       "      <td>0.07</td>\n",
       "    </tr>\n",
       "    <tr>\n",
       "      <th>8</th>\n",
       "      <td>52.0</td>\n",
       "      <td>0.13</td>\n",
       "    </tr>\n",
       "    <tr>\n",
       "      <th>9</th>\n",
       "      <td>51.0</td>\n",
       "      <td>0.11</td>\n",
       "    </tr>\n",
       "    <tr>\n",
       "      <th>10</th>\n",
       "      <td>60.0</td>\n",
       "      <td>0.13</td>\n",
       "    </tr>\n",
       "    <tr>\n",
       "      <th>11</th>\n",
       "      <td>55.0</td>\n",
       "      <td>0.08</td>\n",
       "    </tr>\n",
       "    <tr>\n",
       "      <th>12</th>\n",
       "      <td>65.0</td>\n",
       "      <td>0.04</td>\n",
       "    </tr>\n",
       "    <tr>\n",
       "      <th>13</th>\n",
       "      <td>66.0</td>\n",
       "      <td>0.12</td>\n",
       "    </tr>\n",
       "    <tr>\n",
       "      <th>14</th>\n",
       "      <td>65.0</td>\n",
       "      <td>0.12</td>\n",
       "    </tr>\n",
       "    <tr>\n",
       "      <th>15</th>\n",
       "      <td>66.0</td>\n",
       "      <td>0.19</td>\n",
       "    </tr>\n",
       "    <tr>\n",
       "      <th>16</th>\n",
       "      <td>64.0</td>\n",
       "      <td>0.09</td>\n",
       "    </tr>\n",
       "    <tr>\n",
       "      <th>17</th>\n",
       "      <td>53.0</td>\n",
       "      <td>0.19</td>\n",
       "    </tr>\n",
       "    <tr>\n",
       "      <th>18</th>\n",
       "      <td>67.0</td>\n",
       "      <td>0.11</td>\n",
       "    </tr>\n",
       "    <tr>\n",
       "      <th>19</th>\n",
       "      <td>62.0</td>\n",
       "      <td>0.06</td>\n",
       "    </tr>\n",
       "    <tr>\n",
       "      <th>20</th>\n",
       "      <td>74.0</td>\n",
       "      <td>0.19</td>\n",
       "    </tr>\n",
       "    <tr>\n",
       "      <th>21</th>\n",
       "      <td>58.0</td>\n",
       "      <td>0.27</td>\n",
       "    </tr>\n",
       "    <tr>\n",
       "      <th>22</th>\n",
       "      <td>71.0</td>\n",
       "      <td>0.37</td>\n",
       "    </tr>\n",
       "    <tr>\n",
       "      <th>23</th>\n",
       "      <td>46.0</td>\n",
       "      <td>0.38</td>\n",
       "    </tr>\n",
       "    <tr>\n",
       "      <th>24</th>\n",
       "      <td>71.0</td>\n",
       "      <td>0.07</td>\n",
       "    </tr>\n",
       "    <tr>\n",
       "      <th>25</th>\n",
       "      <td>66.0</td>\n",
       "      <td>0.19</td>\n",
       "    </tr>\n",
       "    <tr>\n",
       "      <th>26</th>\n",
       "      <td>49.0</td>\n",
       "      <td>0.06</td>\n",
       "    </tr>\n",
       "    <tr>\n",
       "      <th>27</th>\n",
       "      <td>60.0</td>\n",
       "      <td>0.13</td>\n",
       "    </tr>\n",
       "    <tr>\n",
       "      <th>28</th>\n",
       "      <td>71.0</td>\n",
       "      <td>0.07</td>\n",
       "    </tr>\n",
       "    <tr>\n",
       "      <th>29</th>\n",
       "      <td>67.0</td>\n",
       "      <td>0.06</td>\n",
       "    </tr>\n",
       "  </tbody>\n",
       "</table>\n",
       "</div>"
      ],
      "text/plain": [
       "    Poverty Rate (%)  Adult literacy gender parity index, 25 or more years old\n",
       "0               57.0                                               0.11       \n",
       "1               61.0                                               0.04       \n",
       "2               74.0                                               0.19       \n",
       "3               49.0                                               0.18       \n",
       "4               66.0                                               0.19       \n",
       "5               49.0                                               0.06       \n",
       "6               71.0                                               0.06       \n",
       "7               64.0                                               0.07       \n",
       "8               52.0                                               0.13       \n",
       "9               51.0                                               0.11       \n",
       "10              60.0                                               0.13       \n",
       "11              55.0                                               0.08       \n",
       "12              65.0                                               0.04       \n",
       "13              66.0                                               0.12       \n",
       "14              65.0                                               0.12       \n",
       "15              66.0                                               0.19       \n",
       "16              64.0                                               0.09       \n",
       "17              53.0                                               0.19       \n",
       "18              67.0                                               0.11       \n",
       "19              62.0                                               0.06       \n",
       "20              74.0                                               0.19       \n",
       "21              58.0                                               0.27       \n",
       "22              71.0                                               0.37       \n",
       "23              46.0                                               0.38       \n",
       "24              71.0                                               0.07       \n",
       "25              66.0                                               0.19       \n",
       "26              49.0                                               0.06       \n",
       "27              60.0                                               0.13       \n",
       "28              71.0                                               0.07       \n",
       "29              67.0                                               0.06       "
      ]
     },
     "execution_count": 4,
     "metadata": {},
     "output_type": "execute_result"
    }
   ],
   "source": [
    "new_df = df[(df['Province'] == \"Balochistan\") & (df['Year'] == 2004)].reset_index(drop=True)\n",
    "new_df = new_df[['Poverty Rate (%)', 'Adult literacy gender parity index, 25 or more years old' ]]\n",
    "new_df            "
   ]
  },
  {
   "cell_type": "code",
   "execution_count": 5,
   "metadata": {},
   "outputs": [],
   "source": [
    "# df.rename(columns={'oldName1': 'newName1', 'oldName2': 'newName2'}, inplace=True)"
   ]
  },
  {
   "cell_type": "code",
   "execution_count": 6,
   "metadata": {
    "scrolled": true
   },
   "outputs": [
    {
     "data": {
      "text/html": [
       "        <script type=\"text/javascript\">\n",
       "        window.PlotlyConfig = {MathJaxConfig: 'local'};\n",
       "        if (window.MathJax) {MathJax.Hub.Config({SVG: {font: \"STIX-Web\"}});}\n",
       "        if (typeof require !== 'undefined') {\n",
       "        require.undef(\"plotly\");\n",
       "        requirejs.config({\n",
       "            paths: {\n",
       "                'plotly': ['https://cdn.plot.ly/plotly-latest.min']\n",
       "            }\n",
       "        });\n",
       "        require(['plotly'], function(Plotly) {\n",
       "            window._Plotly = Plotly;\n",
       "        });\n",
       "        }\n",
       "        </script>\n",
       "        "
      ]
     },
     "metadata": {},
     "output_type": "display_data"
    },
    {
     "data": {
      "text/html": [
       "        <script type=\"text/javascript\">\n",
       "        window.PlotlyConfig = {MathJaxConfig: 'local'};\n",
       "        if (window.MathJax) {MathJax.Hub.Config({SVG: {font: \"STIX-Web\"}});}\n",
       "        if (typeof require !== 'undefined') {\n",
       "        require.undef(\"plotly\");\n",
       "        requirejs.config({\n",
       "            paths: {\n",
       "                'plotly': ['https://cdn.plot.ly/plotly-latest.min']\n",
       "            }\n",
       "        });\n",
       "        require(['plotly'], function(Plotly) {\n",
       "            window._Plotly = Plotly;\n",
       "        });\n",
       "        }\n",
       "        </script>\n",
       "        "
      ]
     },
     "metadata": {},
     "output_type": "display_data"
    }
   ],
   "source": [
    "import pandas as pd\n",
    "import numpy as np\n",
    "%matplotlib inline\n",
    "from plotly.offline import download_plotlyjs, init_notebook_mode, plot, iplot\n",
    "init_notebook_mode(connected=True)\n",
    "import cufflinks as cf\n",
    "cf.go_offline()\n",
    "\n",
    "\n"
   ]
  },
  {
   "cell_type": "code",
   "execution_count": 7,
   "metadata": {},
   "outputs": [
    {
     "data": {
      "application/vnd.plotly.v1+json": {
       "config": {
        "displaylogo": false,
        "modeBarButtonsToRemove": [
         "zoomIn2d",
         "zoomOut2d",
         "lasso2d",
         "zoom2d"
        ],
        "plotlyServerURL": "https://plot.ly"
       },
       "data": [
        {
         "hovertemplate": "Adult Literacy=%{x}<br>Poverty Rate=%{y}<extra></extra>",
         "legendgroup": "",
         "marker": {
          "color": "#636efa",
          "symbol": "circle"
         },
         "mode": "markers",
         "name": "",
         "orientation": "v",
         "showlegend": false,
         "type": "scatter",
         "x": [
          0.11,
          0.04,
          0.19,
          0.18,
          0.19,
          0.06,
          0.06,
          0.07,
          0.13,
          0.11,
          0.13,
          0.08,
          0.04,
          0.12,
          0.12,
          0.19,
          0.09,
          0.19,
          0.11,
          0.06,
          0.19,
          0.27,
          0.37,
          0.38,
          0.07,
          0.19,
          0.06,
          0.13,
          0.07,
          0.06
         ],
         "xaxis": "x",
         "y": [
          57,
          61,
          74,
          49,
          66,
          49,
          71,
          64,
          52,
          51,
          60,
          55,
          65,
          66,
          65,
          66,
          64,
          53,
          67,
          62,
          74,
          58,
          71,
          46,
          71,
          66,
          49,
          60,
          71,
          67
         ],
         "yaxis": "y"
        }
       ],
       "layout": {
        "legend": {
         "tracegroupgap": 0
        },
        "margin": {
         "t": 60
        },
        "template": {
         "data": {
          "bar": [
           {
            "error_x": {
             "color": "#2a3f5f"
            },
            "error_y": {
             "color": "#2a3f5f"
            },
            "marker": {
             "line": {
              "color": "#E5ECF6",
              "width": 0.5
             }
            },
            "type": "bar"
           }
          ],
          "barpolar": [
           {
            "marker": {
             "line": {
              "color": "#E5ECF6",
              "width": 0.5
             }
            },
            "type": "barpolar"
           }
          ],
          "carpet": [
           {
            "aaxis": {
             "endlinecolor": "#2a3f5f",
             "gridcolor": "white",
             "linecolor": "white",
             "minorgridcolor": "white",
             "startlinecolor": "#2a3f5f"
            },
            "baxis": {
             "endlinecolor": "#2a3f5f",
             "gridcolor": "white",
             "linecolor": "white",
             "minorgridcolor": "white",
             "startlinecolor": "#2a3f5f"
            },
            "type": "carpet"
           }
          ],
          "choropleth": [
           {
            "colorbar": {
             "outlinewidth": 0,
             "ticks": ""
            },
            "type": "choropleth"
           }
          ],
          "contour": [
           {
            "colorbar": {
             "outlinewidth": 0,
             "ticks": ""
            },
            "colorscale": [
             [
              0,
              "#0d0887"
             ],
             [
              0.1111111111111111,
              "#46039f"
             ],
             [
              0.2222222222222222,
              "#7201a8"
             ],
             [
              0.3333333333333333,
              "#9c179e"
             ],
             [
              0.4444444444444444,
              "#bd3786"
             ],
             [
              0.5555555555555556,
              "#d8576b"
             ],
             [
              0.6666666666666666,
              "#ed7953"
             ],
             [
              0.7777777777777778,
              "#fb9f3a"
             ],
             [
              0.8888888888888888,
              "#fdca26"
             ],
             [
              1,
              "#f0f921"
             ]
            ],
            "type": "contour"
           }
          ],
          "contourcarpet": [
           {
            "colorbar": {
             "outlinewidth": 0,
             "ticks": ""
            },
            "type": "contourcarpet"
           }
          ],
          "heatmap": [
           {
            "colorbar": {
             "outlinewidth": 0,
             "ticks": ""
            },
            "colorscale": [
             [
              0,
              "#0d0887"
             ],
             [
              0.1111111111111111,
              "#46039f"
             ],
             [
              0.2222222222222222,
              "#7201a8"
             ],
             [
              0.3333333333333333,
              "#9c179e"
             ],
             [
              0.4444444444444444,
              "#bd3786"
             ],
             [
              0.5555555555555556,
              "#d8576b"
             ],
             [
              0.6666666666666666,
              "#ed7953"
             ],
             [
              0.7777777777777778,
              "#fb9f3a"
             ],
             [
              0.8888888888888888,
              "#fdca26"
             ],
             [
              1,
              "#f0f921"
             ]
            ],
            "type": "heatmap"
           }
          ],
          "heatmapgl": [
           {
            "colorbar": {
             "outlinewidth": 0,
             "ticks": ""
            },
            "colorscale": [
             [
              0,
              "#0d0887"
             ],
             [
              0.1111111111111111,
              "#46039f"
             ],
             [
              0.2222222222222222,
              "#7201a8"
             ],
             [
              0.3333333333333333,
              "#9c179e"
             ],
             [
              0.4444444444444444,
              "#bd3786"
             ],
             [
              0.5555555555555556,
              "#d8576b"
             ],
             [
              0.6666666666666666,
              "#ed7953"
             ],
             [
              0.7777777777777778,
              "#fb9f3a"
             ],
             [
              0.8888888888888888,
              "#fdca26"
             ],
             [
              1,
              "#f0f921"
             ]
            ],
            "type": "heatmapgl"
           }
          ],
          "histogram": [
           {
            "marker": {
             "colorbar": {
              "outlinewidth": 0,
              "ticks": ""
             }
            },
            "type": "histogram"
           }
          ],
          "histogram2d": [
           {
            "colorbar": {
             "outlinewidth": 0,
             "ticks": ""
            },
            "colorscale": [
             [
              0,
              "#0d0887"
             ],
             [
              0.1111111111111111,
              "#46039f"
             ],
             [
              0.2222222222222222,
              "#7201a8"
             ],
             [
              0.3333333333333333,
              "#9c179e"
             ],
             [
              0.4444444444444444,
              "#bd3786"
             ],
             [
              0.5555555555555556,
              "#d8576b"
             ],
             [
              0.6666666666666666,
              "#ed7953"
             ],
             [
              0.7777777777777778,
              "#fb9f3a"
             ],
             [
              0.8888888888888888,
              "#fdca26"
             ],
             [
              1,
              "#f0f921"
             ]
            ],
            "type": "histogram2d"
           }
          ],
          "histogram2dcontour": [
           {
            "colorbar": {
             "outlinewidth": 0,
             "ticks": ""
            },
            "colorscale": [
             [
              0,
              "#0d0887"
             ],
             [
              0.1111111111111111,
              "#46039f"
             ],
             [
              0.2222222222222222,
              "#7201a8"
             ],
             [
              0.3333333333333333,
              "#9c179e"
             ],
             [
              0.4444444444444444,
              "#bd3786"
             ],
             [
              0.5555555555555556,
              "#d8576b"
             ],
             [
              0.6666666666666666,
              "#ed7953"
             ],
             [
              0.7777777777777778,
              "#fb9f3a"
             ],
             [
              0.8888888888888888,
              "#fdca26"
             ],
             [
              1,
              "#f0f921"
             ]
            ],
            "type": "histogram2dcontour"
           }
          ],
          "mesh3d": [
           {
            "colorbar": {
             "outlinewidth": 0,
             "ticks": ""
            },
            "type": "mesh3d"
           }
          ],
          "parcoords": [
           {
            "line": {
             "colorbar": {
              "outlinewidth": 0,
              "ticks": ""
             }
            },
            "type": "parcoords"
           }
          ],
          "pie": [
           {
            "automargin": true,
            "type": "pie"
           }
          ],
          "scatter": [
           {
            "marker": {
             "colorbar": {
              "outlinewidth": 0,
              "ticks": ""
             }
            },
            "type": "scatter"
           }
          ],
          "scatter3d": [
           {
            "line": {
             "colorbar": {
              "outlinewidth": 0,
              "ticks": ""
             }
            },
            "marker": {
             "colorbar": {
              "outlinewidth": 0,
              "ticks": ""
             }
            },
            "type": "scatter3d"
           }
          ],
          "scattercarpet": [
           {
            "marker": {
             "colorbar": {
              "outlinewidth": 0,
              "ticks": ""
             }
            },
            "type": "scattercarpet"
           }
          ],
          "scattergeo": [
           {
            "marker": {
             "colorbar": {
              "outlinewidth": 0,
              "ticks": ""
             }
            },
            "type": "scattergeo"
           }
          ],
          "scattergl": [
           {
            "marker": {
             "colorbar": {
              "outlinewidth": 0,
              "ticks": ""
             }
            },
            "type": "scattergl"
           }
          ],
          "scattermapbox": [
           {
            "marker": {
             "colorbar": {
              "outlinewidth": 0,
              "ticks": ""
             }
            },
            "type": "scattermapbox"
           }
          ],
          "scatterpolar": [
           {
            "marker": {
             "colorbar": {
              "outlinewidth": 0,
              "ticks": ""
             }
            },
            "type": "scatterpolar"
           }
          ],
          "scatterpolargl": [
           {
            "marker": {
             "colorbar": {
              "outlinewidth": 0,
              "ticks": ""
             }
            },
            "type": "scatterpolargl"
           }
          ],
          "scatterternary": [
           {
            "marker": {
             "colorbar": {
              "outlinewidth": 0,
              "ticks": ""
             }
            },
            "type": "scatterternary"
           }
          ],
          "surface": [
           {
            "colorbar": {
             "outlinewidth": 0,
             "ticks": ""
            },
            "colorscale": [
             [
              0,
              "#0d0887"
             ],
             [
              0.1111111111111111,
              "#46039f"
             ],
             [
              0.2222222222222222,
              "#7201a8"
             ],
             [
              0.3333333333333333,
              "#9c179e"
             ],
             [
              0.4444444444444444,
              "#bd3786"
             ],
             [
              0.5555555555555556,
              "#d8576b"
             ],
             [
              0.6666666666666666,
              "#ed7953"
             ],
             [
              0.7777777777777778,
              "#fb9f3a"
             ],
             [
              0.8888888888888888,
              "#fdca26"
             ],
             [
              1,
              "#f0f921"
             ]
            ],
            "type": "surface"
           }
          ],
          "table": [
           {
            "cells": {
             "fill": {
              "color": "#EBF0F8"
             },
             "line": {
              "color": "white"
             }
            },
            "header": {
             "fill": {
              "color": "#C8D4E3"
             },
             "line": {
              "color": "white"
             }
            },
            "type": "table"
           }
          ]
         },
         "layout": {
          "annotationdefaults": {
           "arrowcolor": "#2a3f5f",
           "arrowhead": 0,
           "arrowwidth": 1
          },
          "coloraxis": {
           "colorbar": {
            "outlinewidth": 0,
            "ticks": ""
           }
          },
          "colorscale": {
           "diverging": [
            [
             0,
             "#8e0152"
            ],
            [
             0.1,
             "#c51b7d"
            ],
            [
             0.2,
             "#de77ae"
            ],
            [
             0.3,
             "#f1b6da"
            ],
            [
             0.4,
             "#fde0ef"
            ],
            [
             0.5,
             "#f7f7f7"
            ],
            [
             0.6,
             "#e6f5d0"
            ],
            [
             0.7,
             "#b8e186"
            ],
            [
             0.8,
             "#7fbc41"
            ],
            [
             0.9,
             "#4d9221"
            ],
            [
             1,
             "#276419"
            ]
           ],
           "sequential": [
            [
             0,
             "#0d0887"
            ],
            [
             0.1111111111111111,
             "#46039f"
            ],
            [
             0.2222222222222222,
             "#7201a8"
            ],
            [
             0.3333333333333333,
             "#9c179e"
            ],
            [
             0.4444444444444444,
             "#bd3786"
            ],
            [
             0.5555555555555556,
             "#d8576b"
            ],
            [
             0.6666666666666666,
             "#ed7953"
            ],
            [
             0.7777777777777778,
             "#fb9f3a"
            ],
            [
             0.8888888888888888,
             "#fdca26"
            ],
            [
             1,
             "#f0f921"
            ]
           ],
           "sequentialminus": [
            [
             0,
             "#0d0887"
            ],
            [
             0.1111111111111111,
             "#46039f"
            ],
            [
             0.2222222222222222,
             "#7201a8"
            ],
            [
             0.3333333333333333,
             "#9c179e"
            ],
            [
             0.4444444444444444,
             "#bd3786"
            ],
            [
             0.5555555555555556,
             "#d8576b"
            ],
            [
             0.6666666666666666,
             "#ed7953"
            ],
            [
             0.7777777777777778,
             "#fb9f3a"
            ],
            [
             0.8888888888888888,
             "#fdca26"
            ],
            [
             1,
             "#f0f921"
            ]
           ]
          },
          "colorway": [
           "#636efa",
           "#EF553B",
           "#00cc96",
           "#ab63fa",
           "#FFA15A",
           "#19d3f3",
           "#FF6692",
           "#B6E880",
           "#FF97FF",
           "#FECB52"
          ],
          "font": {
           "color": "#2a3f5f"
          },
          "geo": {
           "bgcolor": "white",
           "lakecolor": "white",
           "landcolor": "#E5ECF6",
           "showlakes": true,
           "showland": true,
           "subunitcolor": "white"
          },
          "hoverlabel": {
           "align": "left"
          },
          "hovermode": "closest",
          "mapbox": {
           "style": "light"
          },
          "paper_bgcolor": "white",
          "plot_bgcolor": "#E5ECF6",
          "polar": {
           "angularaxis": {
            "gridcolor": "white",
            "linecolor": "white",
            "ticks": ""
           },
           "bgcolor": "#E5ECF6",
           "radialaxis": {
            "gridcolor": "white",
            "linecolor": "white",
            "ticks": ""
           }
          },
          "scene": {
           "xaxis": {
            "backgroundcolor": "#E5ECF6",
            "gridcolor": "white",
            "gridwidth": 2,
            "linecolor": "white",
            "showbackground": true,
            "ticks": "",
            "zerolinecolor": "white"
           },
           "yaxis": {
            "backgroundcolor": "#E5ECF6",
            "gridcolor": "white",
            "gridwidth": 2,
            "linecolor": "white",
            "showbackground": true,
            "ticks": "",
            "zerolinecolor": "white"
           },
           "zaxis": {
            "backgroundcolor": "#E5ECF6",
            "gridcolor": "white",
            "gridwidth": 2,
            "linecolor": "white",
            "showbackground": true,
            "ticks": "",
            "zerolinecolor": "white"
           }
          },
          "shapedefaults": {
           "line": {
            "color": "#2a3f5f"
           }
          },
          "ternary": {
           "aaxis": {
            "gridcolor": "white",
            "linecolor": "white",
            "ticks": ""
           },
           "baxis": {
            "gridcolor": "white",
            "linecolor": "white",
            "ticks": ""
           },
           "bgcolor": "#E5ECF6",
           "caxis": {
            "gridcolor": "white",
            "linecolor": "white",
            "ticks": ""
           }
          },
          "title": {
           "x": 0.05
          },
          "xaxis": {
           "automargin": true,
           "gridcolor": "white",
           "linecolor": "white",
           "ticks": "",
           "title": {
            "standoff": 15
           },
           "zerolinecolor": "white",
           "zerolinewidth": 2
          },
          "yaxis": {
           "automargin": true,
           "gridcolor": "white",
           "linecolor": "white",
           "ticks": "",
           "title": {
            "standoff": 15
           },
           "zerolinecolor": "white",
           "zerolinewidth": 2
          }
         }
        },
        "xaxis": {
         "anchor": "y",
         "domain": [
          0,
          1
         ],
         "title": {
          "text": "Adult Literacy"
         }
        },
        "yaxis": {
         "anchor": "x",
         "domain": [
          0,
          1
         ],
         "title": {
          "text": "Poverty Rate"
         }
        }
       }
      },
      "text/html": [
       "<div>\n",
       "        \n",
       "        \n",
       "            <div id=\"5af76155-4c31-44ea-80a3-d34f03a6a290\" class=\"plotly-graph-div\" style=\"height:525px; width:100%;\"></div>\n",
       "            <script type=\"text/javascript\">\n",
       "                require([\"plotly\"], function(Plotly) {\n",
       "                    window.PLOTLYENV=window.PLOTLYENV || {};\n",
       "                    \n",
       "                if (document.getElementById(\"5af76155-4c31-44ea-80a3-d34f03a6a290\")) {\n",
       "                    Plotly.newPlot(\n",
       "                        '5af76155-4c31-44ea-80a3-d34f03a6a290',\n",
       "                        [{\"hovertemplate\": \"Adult Literacy=%{x}<br>Poverty Rate=%{y}<extra></extra>\", \"legendgroup\": \"\", \"marker\": {\"color\": \"#636efa\", \"symbol\": \"circle\"}, \"mode\": \"markers\", \"name\": \"\", \"orientation\": \"v\", \"showlegend\": false, \"type\": \"scatter\", \"x\": [0.11, 0.04, 0.19, 0.18, 0.19, 0.06, 0.06, 0.07, 0.13, 0.11, 0.13, 0.08, 0.04, 0.12, 0.12, 0.19, 0.09, 0.19, 0.11, 0.06, 0.19, 0.27, 0.37, 0.38, 0.07, 0.19, 0.06, 0.13, 0.07, 0.06], \"xaxis\": \"x\", \"y\": [57.0, 61.0, 74.0, 49.0, 66.0, 49.0, 71.0, 64.0, 52.0, 51.0, 60.0, 55.0, 65.0, 66.0, 65.0, 66.0, 64.0, 53.0, 67.0, 62.0, 74.0, 58.0, 71.0, 46.0, 71.0, 66.0, 49.0, 60.0, 71.0, 67.0], \"yaxis\": \"y\"}],\n",
       "                        {\"legend\": {\"tracegroupgap\": 0}, \"margin\": {\"t\": 60}, \"template\": {\"data\": {\"bar\": [{\"error_x\": {\"color\": \"#2a3f5f\"}, \"error_y\": {\"color\": \"#2a3f5f\"}, \"marker\": {\"line\": {\"color\": \"#E5ECF6\", \"width\": 0.5}}, \"type\": \"bar\"}], \"barpolar\": [{\"marker\": {\"line\": {\"color\": \"#E5ECF6\", \"width\": 0.5}}, \"type\": \"barpolar\"}], \"carpet\": [{\"aaxis\": {\"endlinecolor\": \"#2a3f5f\", \"gridcolor\": \"white\", \"linecolor\": \"white\", \"minorgridcolor\": \"white\", \"startlinecolor\": \"#2a3f5f\"}, \"baxis\": {\"endlinecolor\": \"#2a3f5f\", \"gridcolor\": \"white\", \"linecolor\": \"white\", \"minorgridcolor\": \"white\", \"startlinecolor\": \"#2a3f5f\"}, \"type\": \"carpet\"}], \"choropleth\": [{\"colorbar\": {\"outlinewidth\": 0, \"ticks\": \"\"}, \"type\": \"choropleth\"}], \"contour\": [{\"colorbar\": {\"outlinewidth\": 0, \"ticks\": \"\"}, \"colorscale\": [[0.0, \"#0d0887\"], [0.1111111111111111, \"#46039f\"], [0.2222222222222222, \"#7201a8\"], [0.3333333333333333, \"#9c179e\"], [0.4444444444444444, \"#bd3786\"], [0.5555555555555556, \"#d8576b\"], [0.6666666666666666, \"#ed7953\"], [0.7777777777777778, \"#fb9f3a\"], [0.8888888888888888, \"#fdca26\"], [1.0, \"#f0f921\"]], \"type\": \"contour\"}], \"contourcarpet\": [{\"colorbar\": {\"outlinewidth\": 0, \"ticks\": \"\"}, \"type\": \"contourcarpet\"}], \"heatmap\": [{\"colorbar\": {\"outlinewidth\": 0, \"ticks\": \"\"}, \"colorscale\": [[0.0, \"#0d0887\"], [0.1111111111111111, \"#46039f\"], [0.2222222222222222, \"#7201a8\"], [0.3333333333333333, \"#9c179e\"], [0.4444444444444444, \"#bd3786\"], [0.5555555555555556, \"#d8576b\"], [0.6666666666666666, \"#ed7953\"], [0.7777777777777778, \"#fb9f3a\"], [0.8888888888888888, \"#fdca26\"], [1.0, \"#f0f921\"]], \"type\": \"heatmap\"}], \"heatmapgl\": [{\"colorbar\": {\"outlinewidth\": 0, \"ticks\": \"\"}, \"colorscale\": [[0.0, \"#0d0887\"], [0.1111111111111111, \"#46039f\"], [0.2222222222222222, \"#7201a8\"], [0.3333333333333333, \"#9c179e\"], [0.4444444444444444, \"#bd3786\"], [0.5555555555555556, \"#d8576b\"], [0.6666666666666666, \"#ed7953\"], [0.7777777777777778, \"#fb9f3a\"], [0.8888888888888888, \"#fdca26\"], [1.0, \"#f0f921\"]], \"type\": \"heatmapgl\"}], \"histogram\": [{\"marker\": {\"colorbar\": {\"outlinewidth\": 0, \"ticks\": \"\"}}, \"type\": \"histogram\"}], \"histogram2d\": [{\"colorbar\": {\"outlinewidth\": 0, \"ticks\": \"\"}, \"colorscale\": [[0.0, \"#0d0887\"], [0.1111111111111111, \"#46039f\"], [0.2222222222222222, \"#7201a8\"], [0.3333333333333333, \"#9c179e\"], [0.4444444444444444, \"#bd3786\"], [0.5555555555555556, \"#d8576b\"], [0.6666666666666666, \"#ed7953\"], [0.7777777777777778, \"#fb9f3a\"], [0.8888888888888888, \"#fdca26\"], [1.0, \"#f0f921\"]], \"type\": \"histogram2d\"}], \"histogram2dcontour\": [{\"colorbar\": {\"outlinewidth\": 0, \"ticks\": \"\"}, \"colorscale\": [[0.0, \"#0d0887\"], [0.1111111111111111, \"#46039f\"], [0.2222222222222222, \"#7201a8\"], [0.3333333333333333, \"#9c179e\"], [0.4444444444444444, \"#bd3786\"], [0.5555555555555556, \"#d8576b\"], [0.6666666666666666, \"#ed7953\"], [0.7777777777777778, \"#fb9f3a\"], [0.8888888888888888, \"#fdca26\"], [1.0, \"#f0f921\"]], \"type\": \"histogram2dcontour\"}], \"mesh3d\": [{\"colorbar\": {\"outlinewidth\": 0, \"ticks\": \"\"}, \"type\": \"mesh3d\"}], \"parcoords\": [{\"line\": {\"colorbar\": {\"outlinewidth\": 0, \"ticks\": \"\"}}, \"type\": \"parcoords\"}], \"pie\": [{\"automargin\": true, \"type\": \"pie\"}], \"scatter\": [{\"marker\": {\"colorbar\": {\"outlinewidth\": 0, \"ticks\": \"\"}}, \"type\": \"scatter\"}], \"scatter3d\": [{\"line\": {\"colorbar\": {\"outlinewidth\": 0, \"ticks\": \"\"}}, \"marker\": {\"colorbar\": {\"outlinewidth\": 0, \"ticks\": \"\"}}, \"type\": \"scatter3d\"}], \"scattercarpet\": [{\"marker\": {\"colorbar\": {\"outlinewidth\": 0, \"ticks\": \"\"}}, \"type\": \"scattercarpet\"}], \"scattergeo\": [{\"marker\": {\"colorbar\": {\"outlinewidth\": 0, \"ticks\": \"\"}}, \"type\": \"scattergeo\"}], \"scattergl\": [{\"marker\": {\"colorbar\": {\"outlinewidth\": 0, \"ticks\": \"\"}}, \"type\": \"scattergl\"}], \"scattermapbox\": [{\"marker\": {\"colorbar\": {\"outlinewidth\": 0, \"ticks\": \"\"}}, \"type\": \"scattermapbox\"}], \"scatterpolar\": [{\"marker\": {\"colorbar\": {\"outlinewidth\": 0, \"ticks\": \"\"}}, \"type\": \"scatterpolar\"}], \"scatterpolargl\": [{\"marker\": {\"colorbar\": {\"outlinewidth\": 0, \"ticks\": \"\"}}, \"type\": \"scatterpolargl\"}], \"scatterternary\": [{\"marker\": {\"colorbar\": {\"outlinewidth\": 0, \"ticks\": \"\"}}, \"type\": \"scatterternary\"}], \"surface\": [{\"colorbar\": {\"outlinewidth\": 0, \"ticks\": \"\"}, \"colorscale\": [[0.0, \"#0d0887\"], [0.1111111111111111, \"#46039f\"], [0.2222222222222222, \"#7201a8\"], [0.3333333333333333, \"#9c179e\"], [0.4444444444444444, \"#bd3786\"], [0.5555555555555556, \"#d8576b\"], [0.6666666666666666, \"#ed7953\"], [0.7777777777777778, \"#fb9f3a\"], [0.8888888888888888, \"#fdca26\"], [1.0, \"#f0f921\"]], \"type\": \"surface\"}], \"table\": [{\"cells\": {\"fill\": {\"color\": \"#EBF0F8\"}, \"line\": {\"color\": \"white\"}}, \"header\": {\"fill\": {\"color\": \"#C8D4E3\"}, \"line\": {\"color\": \"white\"}}, \"type\": \"table\"}]}, \"layout\": {\"annotationdefaults\": {\"arrowcolor\": \"#2a3f5f\", \"arrowhead\": 0, \"arrowwidth\": 1}, \"coloraxis\": {\"colorbar\": {\"outlinewidth\": 0, \"ticks\": \"\"}}, \"colorscale\": {\"diverging\": [[0, \"#8e0152\"], [0.1, \"#c51b7d\"], [0.2, \"#de77ae\"], [0.3, \"#f1b6da\"], [0.4, \"#fde0ef\"], [0.5, \"#f7f7f7\"], [0.6, \"#e6f5d0\"], [0.7, \"#b8e186\"], [0.8, \"#7fbc41\"], [0.9, \"#4d9221\"], [1, \"#276419\"]], \"sequential\": [[0.0, \"#0d0887\"], [0.1111111111111111, \"#46039f\"], [0.2222222222222222, \"#7201a8\"], [0.3333333333333333, \"#9c179e\"], [0.4444444444444444, \"#bd3786\"], [0.5555555555555556, \"#d8576b\"], [0.6666666666666666, \"#ed7953\"], [0.7777777777777778, \"#fb9f3a\"], [0.8888888888888888, \"#fdca26\"], [1.0, \"#f0f921\"]], \"sequentialminus\": [[0.0, \"#0d0887\"], [0.1111111111111111, \"#46039f\"], [0.2222222222222222, \"#7201a8\"], [0.3333333333333333, \"#9c179e\"], [0.4444444444444444, \"#bd3786\"], [0.5555555555555556, \"#d8576b\"], [0.6666666666666666, \"#ed7953\"], [0.7777777777777778, \"#fb9f3a\"], [0.8888888888888888, \"#fdca26\"], [1.0, \"#f0f921\"]]}, \"colorway\": [\"#636efa\", \"#EF553B\", \"#00cc96\", \"#ab63fa\", \"#FFA15A\", \"#19d3f3\", \"#FF6692\", \"#B6E880\", \"#FF97FF\", \"#FECB52\"], \"font\": {\"color\": \"#2a3f5f\"}, \"geo\": {\"bgcolor\": \"white\", \"lakecolor\": \"white\", \"landcolor\": \"#E5ECF6\", \"showlakes\": true, \"showland\": true, \"subunitcolor\": \"white\"}, \"hoverlabel\": {\"align\": \"left\"}, \"hovermode\": \"closest\", \"mapbox\": {\"style\": \"light\"}, \"paper_bgcolor\": \"white\", \"plot_bgcolor\": \"#E5ECF6\", \"polar\": {\"angularaxis\": {\"gridcolor\": \"white\", \"linecolor\": \"white\", \"ticks\": \"\"}, \"bgcolor\": \"#E5ECF6\", \"radialaxis\": {\"gridcolor\": \"white\", \"linecolor\": \"white\", \"ticks\": \"\"}}, \"scene\": {\"xaxis\": {\"backgroundcolor\": \"#E5ECF6\", \"gridcolor\": \"white\", \"gridwidth\": 2, \"linecolor\": \"white\", \"showbackground\": true, \"ticks\": \"\", \"zerolinecolor\": \"white\"}, \"yaxis\": {\"backgroundcolor\": \"#E5ECF6\", \"gridcolor\": \"white\", \"gridwidth\": 2, \"linecolor\": \"white\", \"showbackground\": true, \"ticks\": \"\", \"zerolinecolor\": \"white\"}, \"zaxis\": {\"backgroundcolor\": \"#E5ECF6\", \"gridcolor\": \"white\", \"gridwidth\": 2, \"linecolor\": \"white\", \"showbackground\": true, \"ticks\": \"\", \"zerolinecolor\": \"white\"}}, \"shapedefaults\": {\"line\": {\"color\": \"#2a3f5f\"}}, \"ternary\": {\"aaxis\": {\"gridcolor\": \"white\", \"linecolor\": \"white\", \"ticks\": \"\"}, \"baxis\": {\"gridcolor\": \"white\", \"linecolor\": \"white\", \"ticks\": \"\"}, \"bgcolor\": \"#E5ECF6\", \"caxis\": {\"gridcolor\": \"white\", \"linecolor\": \"white\", \"ticks\": \"\"}}, \"title\": {\"x\": 0.05}, \"xaxis\": {\"automargin\": true, \"gridcolor\": \"white\", \"linecolor\": \"white\", \"ticks\": \"\", \"title\": {\"standoff\": 15}, \"zerolinecolor\": \"white\", \"zerolinewidth\": 2}, \"yaxis\": {\"automargin\": true, \"gridcolor\": \"white\", \"linecolor\": \"white\", \"ticks\": \"\", \"title\": {\"standoff\": 15}, \"zerolinecolor\": \"white\", \"zerolinewidth\": 2}}}, \"xaxis\": {\"anchor\": \"y\", \"domain\": [0.0, 1.0], \"title\": {\"text\": \"Adult Literacy\"}}, \"yaxis\": {\"anchor\": \"x\", \"domain\": [0.0, 1.0], \"title\": {\"text\": \"Poverty Rate\"}}},\n",
       "                        {\"displaylogo\": false, \"modeBarButtonsToRemove\": [\"zoomIn2d\", \"zoomOut2d\", \"lasso2d\", \"zoom2d\"], \"responsive\": true}\n",
       "                    ).then(function(){\n",
       "                            \n",
       "var gd = document.getElementById('5af76155-4c31-44ea-80a3-d34f03a6a290');\n",
       "var x = new MutationObserver(function (mutations, observer) {{\n",
       "        var display = window.getComputedStyle(gd).display;\n",
       "        if (!display || display === 'none') {{\n",
       "            console.log([gd, 'removed!']);\n",
       "            Plotly.purge(gd);\n",
       "            observer.disconnect();\n",
       "        }}\n",
       "}});\n",
       "\n",
       "// Listen for the removal of the full notebook cells\n",
       "var notebookContainer = gd.closest('#notebook-container');\n",
       "if (notebookContainer) {{\n",
       "    x.observe(notebookContainer, {childList: true});\n",
       "}}\n",
       "\n",
       "// Listen for the clearing of the current output cell\n",
       "var outputEl = gd.closest('.output');\n",
       "if (outputEl) {{\n",
       "    x.observe(outputEl, {childList: true});\n",
       "}}\n",
       "\n",
       "                        })\n",
       "                };\n",
       "                });\n",
       "            </script>\n",
       "        </div>"
      ]
     },
     "metadata": {},
     "output_type": "display_data"
    }
   ],
   "source": [
    "import plotly.express as px\n",
    "\n",
    "fig = px.scatter(new_df,x='Adult literacy gender parity index, 25 or more years old', \n",
    "             y='Poverty Rate (%)', \n",
    "            labels={\n",
    "                     \"Adult literacy gender parity index, 25 or more years old\": \"Adult Literacy\",\n",
    "                     \"Poverty Rate (%)\": \"Poverty Rate\",\n",
    "                 }, )\n",
    "fig.show(config=dict(displaylogo=False,\n",
    "                 modeBarButtonsToRemove=[\"zoomIn2d\", \"zoomOut2d\", 'lasso2d', 'zoom2d']))\n"
   ]
  },
  {
   "cell_type": "markdown",
   "metadata": {},
   "source": [
    "# Plotly\n",
    "https://medium.com/plotly/introducing-plotly-express-808df010143d"
   ]
  },
  {
   "cell_type": "code",
   "execution_count": 8,
   "metadata": {},
   "outputs": [
    {
     "data": {
      "application/vnd.jupyter.widget-view+json": {
       "model_id": "2e9d1985364c4ecc97bbd3094475dd61",
       "version_major": 2,
       "version_minor": 0
      },
      "text/plain": [
       "HBox(children=(FloatProgress(value=0.0, description='Summarize dataset', max=56.0, style=ProgressStyle(descrip…"
      ]
     },
     "metadata": {},
     "output_type": "display_data"
    },
    {
     "name": "stdout",
     "output_type": "stream",
     "text": [
      "\n"
     ]
    },
    {
     "data": {
      "application/vnd.jupyter.widget-view+json": {
       "model_id": "391dcc9b88fe403ab37eb758a67e7bcd",
       "version_major": 2,
       "version_minor": 0
      },
      "text/plain": [
       "HBox(children=(FloatProgress(value=0.0, description='Generate report structure', max=1.0, style=ProgressStyle(…"
      ]
     },
     "metadata": {},
     "output_type": "display_data"
    },
    {
     "name": "stderr",
     "output_type": "stream",
     "text": [
      "/home/noman/anaconda3/envs/vision/lib/python3.7/site-packages/pandas_profiling/visualisation/plot.py:154: MatplotlibDeprecationWarning:\n",
      "\n",
      "You are modifying the state of a globally registered colormap. In future versions, you will not be able to modify a registered colormap in-place. To remove this warning, you can make a copy of the colormap first. cmap = copy.copy(mpl.cm.get_cmap(\"RdBu\"))\n",
      "\n",
      "/home/noman/anaconda3/envs/vision/lib/python3.7/site-packages/pandas_profiling/visualisation/plot.py:154: MatplotlibDeprecationWarning:\n",
      "\n",
      "You are modifying the state of a globally registered colormap. In future versions, you will not be able to modify a registered colormap in-place. To remove this warning, you can make a copy of the colormap first. cmap = copy.copy(mpl.cm.get_cmap(\"RdBu\"))\n",
      "\n",
      "/home/noman/anaconda3/envs/vision/lib/python3.7/site-packages/pandas_profiling/visualisation/plot.py:154: MatplotlibDeprecationWarning:\n",
      "\n",
      "You are modifying the state of a globally registered colormap. In future versions, you will not be able to modify a registered colormap in-place. To remove this warning, you can make a copy of the colormap first. cmap = copy.copy(mpl.cm.get_cmap(\"RdBu\"))\n",
      "\n"
     ]
    },
    {
     "name": "stdout",
     "output_type": "stream",
     "text": [
      "\n"
     ]
    },
    {
     "data": {
      "application/vnd.jupyter.widget-view+json": {
       "model_id": "2b5641f547e94156a5617a1804fd94c2",
       "version_major": 2,
       "version_minor": 0
      },
      "text/plain": [
       "HBox(children=(FloatProgress(value=0.0, description='Render HTML', max=1.0, style=ProgressStyle(description_wi…"
      ]
     },
     "metadata": {},
     "output_type": "display_data"
    },
    {
     "name": "stdout",
     "output_type": "stream",
     "text": [
      "\n"
     ]
    },
    {
     "data": {
      "application/vnd.jupyter.widget-view+json": {
       "model_id": "9c21ca0309044f3cac5eab4d32710ae1",
       "version_major": 2,
       "version_minor": 0
      },
      "text/plain": [
       "HBox(children=(FloatProgress(value=0.0, description='Export report to file', max=1.0, style=ProgressStyle(desc…"
      ]
     },
     "metadata": {},
     "output_type": "display_data"
    },
    {
     "name": "stdout",
     "output_type": "stream",
     "text": [
      "\n"
     ]
    }
   ],
   "source": [
    "import numpy as np\n",
    "import pandas as pd\n",
    "import os\n",
    "from pandas_profiling import ProfileReport\n",
    "\n",
    "profile = ProfileReport(df, title='Pandas Profiling Report',  explorative=True)\n",
    "\n",
    "if not os.path.exists('../data_report'):\n",
    "    os.makedirs('../data_report')\n",
    "\n",
    "profile.to_file(output_file='../data_report/report.html')"
   ]
  }
 ],
 "metadata": {
  "kernelspec": {
   "display_name": "Python 3",
   "language": "python",
   "name": "python3"
  },
  "language_info": {
   "codemirror_mode": {
    "name": "ipython",
    "version": 3
   },
   "file_extension": ".py",
   "mimetype": "text/x-python",
   "name": "python",
   "nbconvert_exporter": "python",
   "pygments_lexer": "ipython3",
   "version": "3.7.3"
  }
 },
 "nbformat": 4,
 "nbformat_minor": 2
}
