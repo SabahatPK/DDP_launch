{
 "cells": [
  {
   "cell_type": "code",
   "execution_count": 1,
   "metadata": {},
   "outputs": [],
   "source": [
    "import ipywidgets as widgets\n",
    "from ipywidgets import interact, interact_manual"
   ]
  },
  {
   "cell_type": "code",
   "execution_count": 2,
   "metadata": {},
   "outputs": [
    {
     "data": {
      "text/html": [
       "<div>\n",
       "<style scoped>\n",
       "    .dataframe tbody tr th:only-of-type {\n",
       "        vertical-align: middle;\n",
       "    }\n",
       "\n",
       "    .dataframe tbody tr th {\n",
       "        vertical-align: top;\n",
       "    }\n",
       "\n",
       "    .dataframe thead th {\n",
       "        text-align: right;\n",
       "    }\n",
       "</style>\n",
       "<table border=\"1\" class=\"dataframe\">\n",
       "  <thead>\n",
       "    <tr style=\"text-align: right;\">\n",
       "      <th></th>\n",
       "      <th>Province</th>\n",
       "      <th>District</th>\n",
       "      <th>Year</th>\n",
       "      <th>Poverty Rate (%)</th>\n",
       "      <th>Access to improved drinking water (% of population)</th>\n",
       "      <th>Access to piped water (% of population)</th>\n",
       "      <th>Access to improved toilet facilities (% of population)</th>\n",
       "      <th>Open defecation (% of population)</th>\n",
       "      <th>Access to electricity (% of population)</th>\n",
       "      <th>Households' mobile phone ownership (% of population)</th>\n",
       "      <th>...</th>\n",
       "      <th>Net school enrollment, middle school, 11-13 years old (% net)</th>\n",
       "      <th>Youth literacy, 15-24 years old (% of population aged 15-24)</th>\n",
       "      <th>Adult literacy, 25 or more years old (% of population aged 25 or more)</th>\n",
       "      <th>Primary completion rate, 14-17 years old (% of population aged 14-17)</th>\n",
       "      <th>Youth literacy gender parity index, 15-24 years old</th>\n",
       "      <th>Adult literacy gender parity index, 25 or more years old</th>\n",
       "      <th>Primary completion gender parity index, 14-17 years old</th>\n",
       "      <th>Net enrolment rate in primary gender parity index, 6-10 years old</th>\n",
       "      <th>Net enrolment rate in middle school gender parity index, 11-13 years old</th>\n",
       "      <th>Urban share of population (% of population)</th>\n",
       "    </tr>\n",
       "  </thead>\n",
       "  <tbody>\n",
       "    <tr>\n",
       "      <th>0</th>\n",
       "      <td>Balochistan</td>\n",
       "      <td>Awaran</td>\n",
       "      <td>2004</td>\n",
       "      <td>57.0</td>\n",
       "      <td>50.52</td>\n",
       "      <td>40.30</td>\n",
       "      <td>1.38</td>\n",
       "      <td>57.21</td>\n",
       "      <td>9.16</td>\n",
       "      <td>0.36</td>\n",
       "      <td>...</td>\n",
       "      <td>16.83</td>\n",
       "      <td>33.46</td>\n",
       "      <td>13.89</td>\n",
       "      <td>38.17</td>\n",
       "      <td>0.23</td>\n",
       "      <td>0.11</td>\n",
       "      <td>0.57</td>\n",
       "      <td>0.45</td>\n",
       "      <td>0.57</td>\n",
       "      <td>0.00</td>\n",
       "    </tr>\n",
       "    <tr>\n",
       "      <th>1</th>\n",
       "      <td>Balochistan</td>\n",
       "      <td>Awaran</td>\n",
       "      <td>2006</td>\n",
       "      <td>69.0</td>\n",
       "      <td>43.16</td>\n",
       "      <td>28.70</td>\n",
       "      <td>0.10</td>\n",
       "      <td>50.68</td>\n",
       "      <td>14.39</td>\n",
       "      <td>0.00</td>\n",
       "      <td>...</td>\n",
       "      <td>18.37</td>\n",
       "      <td>47.70</td>\n",
       "      <td>18.63</td>\n",
       "      <td>40.27</td>\n",
       "      <td>0.39</td>\n",
       "      <td>0.15</td>\n",
       "      <td>0.65</td>\n",
       "      <td>0.82</td>\n",
       "      <td>0.34</td>\n",
       "      <td>0.00</td>\n",
       "    </tr>\n",
       "    <tr>\n",
       "      <th>2</th>\n",
       "      <td>Balochistan</td>\n",
       "      <td>Awaran</td>\n",
       "      <td>2008</td>\n",
       "      <td>83.0</td>\n",
       "      <td>16.26</td>\n",
       "      <td>10.99</td>\n",
       "      <td>0.00</td>\n",
       "      <td>5.56</td>\n",
       "      <td>39.95</td>\n",
       "      <td>43.17</td>\n",
       "      <td>...</td>\n",
       "      <td>21.15</td>\n",
       "      <td>51.43</td>\n",
       "      <td>28.44</td>\n",
       "      <td>51.50</td>\n",
       "      <td>0.28</td>\n",
       "      <td>0.09</td>\n",
       "      <td>0.37</td>\n",
       "      <td>0.53</td>\n",
       "      <td>0.23</td>\n",
       "      <td>0.00</td>\n",
       "    </tr>\n",
       "    <tr>\n",
       "      <th>3</th>\n",
       "      <td>Balochistan</td>\n",
       "      <td>Awaran</td>\n",
       "      <td>2010</td>\n",
       "      <td>42.0</td>\n",
       "      <td>25.51</td>\n",
       "      <td>23.69</td>\n",
       "      <td>5.48</td>\n",
       "      <td>1.32</td>\n",
       "      <td>28.33</td>\n",
       "      <td>52.23</td>\n",
       "      <td>...</td>\n",
       "      <td>40.01</td>\n",
       "      <td>64.31</td>\n",
       "      <td>36.93</td>\n",
       "      <td>81.84</td>\n",
       "      <td>0.60</td>\n",
       "      <td>0.41</td>\n",
       "      <td>0.69</td>\n",
       "      <td>0.82</td>\n",
       "      <td>0.30</td>\n",
       "      <td>0.00</td>\n",
       "    </tr>\n",
       "    <tr>\n",
       "      <th>4</th>\n",
       "      <td>Balochistan</td>\n",
       "      <td>Awaran</td>\n",
       "      <td>2012</td>\n",
       "      <td>68.0</td>\n",
       "      <td>32.08</td>\n",
       "      <td>9.14</td>\n",
       "      <td>4.28</td>\n",
       "      <td>3.92</td>\n",
       "      <td>25.99</td>\n",
       "      <td>58.73</td>\n",
       "      <td>...</td>\n",
       "      <td>29.19</td>\n",
       "      <td>50.52</td>\n",
       "      <td>35.41</td>\n",
       "      <td>42.06</td>\n",
       "      <td>0.58</td>\n",
       "      <td>0.24</td>\n",
       "      <td>0.45</td>\n",
       "      <td>0.42</td>\n",
       "      <td>0.40</td>\n",
       "      <td>0.00</td>\n",
       "    </tr>\n",
       "    <tr>\n",
       "      <th>...</th>\n",
       "      <td>...</td>\n",
       "      <td>...</td>\n",
       "      <td>...</td>\n",
       "      <td>...</td>\n",
       "      <td>...</td>\n",
       "      <td>...</td>\n",
       "      <td>...</td>\n",
       "      <td>...</td>\n",
       "      <td>...</td>\n",
       "      <td>...</td>\n",
       "      <td>...</td>\n",
       "      <td>...</td>\n",
       "      <td>...</td>\n",
       "      <td>...</td>\n",
       "      <td>...</td>\n",
       "      <td>...</td>\n",
       "      <td>...</td>\n",
       "      <td>...</td>\n",
       "      <td>...</td>\n",
       "      <td>...</td>\n",
       "      <td>...</td>\n",
       "    </tr>\n",
       "    <tr>\n",
       "      <th>697</th>\n",
       "      <td>Sindh</td>\n",
       "      <td>Umerkot</td>\n",
       "      <td>2006</td>\n",
       "      <td>55.0</td>\n",
       "      <td>54.54</td>\n",
       "      <td>28.88</td>\n",
       "      <td>13.64</td>\n",
       "      <td>40.15</td>\n",
       "      <td>63.75</td>\n",
       "      <td>17.09</td>\n",
       "      <td>...</td>\n",
       "      <td>27.22</td>\n",
       "      <td>52.40</td>\n",
       "      <td>29.89</td>\n",
       "      <td>52.52</td>\n",
       "      <td>0.54</td>\n",
       "      <td>0.27</td>\n",
       "      <td>0.67</td>\n",
       "      <td>0.67</td>\n",
       "      <td>0.56</td>\n",
       "      <td>25.29</td>\n",
       "    </tr>\n",
       "    <tr>\n",
       "      <th>698</th>\n",
       "      <td>Sindh</td>\n",
       "      <td>Umerkot</td>\n",
       "      <td>2008</td>\n",
       "      <td>55.0</td>\n",
       "      <td>58.61</td>\n",
       "      <td>13.74</td>\n",
       "      <td>16.63</td>\n",
       "      <td>30.52</td>\n",
       "      <td>75.23</td>\n",
       "      <td>49.74</td>\n",
       "      <td>...</td>\n",
       "      <td>35.36</td>\n",
       "      <td>58.58</td>\n",
       "      <td>34.41</td>\n",
       "      <td>58.09</td>\n",
       "      <td>0.66</td>\n",
       "      <td>0.31</td>\n",
       "      <td>0.77</td>\n",
       "      <td>0.84</td>\n",
       "      <td>0.51</td>\n",
       "      <td>25.01</td>\n",
       "    </tr>\n",
       "    <tr>\n",
       "      <th>699</th>\n",
       "      <td>Sindh</td>\n",
       "      <td>Umerkot</td>\n",
       "      <td>2010</td>\n",
       "      <td>46.0</td>\n",
       "      <td>56.17</td>\n",
       "      <td>36.41</td>\n",
       "      <td>6.91</td>\n",
       "      <td>34.31</td>\n",
       "      <td>72.56</td>\n",
       "      <td>80.18</td>\n",
       "      <td>...</td>\n",
       "      <td>34.39</td>\n",
       "      <td>57.45</td>\n",
       "      <td>28.86</td>\n",
       "      <td>57.24</td>\n",
       "      <td>0.51</td>\n",
       "      <td>0.15</td>\n",
       "      <td>0.59</td>\n",
       "      <td>0.89</td>\n",
       "      <td>0.56</td>\n",
       "      <td>18.15</td>\n",
       "    </tr>\n",
       "    <tr>\n",
       "      <th>700</th>\n",
       "      <td>Sindh</td>\n",
       "      <td>Umerkot</td>\n",
       "      <td>2012</td>\n",
       "      <td>47.0</td>\n",
       "      <td>62.82</td>\n",
       "      <td>29.96</td>\n",
       "      <td>12.50</td>\n",
       "      <td>35.15</td>\n",
       "      <td>75.47</td>\n",
       "      <td>78.49</td>\n",
       "      <td>...</td>\n",
       "      <td>22.19</td>\n",
       "      <td>48.77</td>\n",
       "      <td>32.86</td>\n",
       "      <td>44.64</td>\n",
       "      <td>0.55</td>\n",
       "      <td>0.17</td>\n",
       "      <td>0.69</td>\n",
       "      <td>0.91</td>\n",
       "      <td>0.44</td>\n",
       "      <td>17.05</td>\n",
       "    </tr>\n",
       "    <tr>\n",
       "      <th>701</th>\n",
       "      <td>Sindh</td>\n",
       "      <td>Umerkot</td>\n",
       "      <td>2014</td>\n",
       "      <td>46.0</td>\n",
       "      <td>62.89</td>\n",
       "      <td>22.18</td>\n",
       "      <td>5.06</td>\n",
       "      <td>39.52</td>\n",
       "      <td>66.71</td>\n",
       "      <td>81.96</td>\n",
       "      <td>...</td>\n",
       "      <td>20.02</td>\n",
       "      <td>47.55</td>\n",
       "      <td>28.52</td>\n",
       "      <td>44.47</td>\n",
       "      <td>0.44</td>\n",
       "      <td>0.22</td>\n",
       "      <td>0.60</td>\n",
       "      <td>0.81</td>\n",
       "      <td>0.59</td>\n",
       "      <td>21.34</td>\n",
       "    </tr>\n",
       "  </tbody>\n",
       "</table>\n",
       "<p>702 rows × 42 columns</p>\n",
       "</div>"
      ],
      "text/plain": [
       "        Province District  Year  Poverty Rate (%)  \\\n",
       "0    Balochistan   Awaran  2004              57.0   \n",
       "1    Balochistan   Awaran  2006              69.0   \n",
       "2    Balochistan   Awaran  2008              83.0   \n",
       "3    Balochistan   Awaran  2010              42.0   \n",
       "4    Balochistan   Awaran  2012              68.0   \n",
       "..           ...      ...   ...               ...   \n",
       "697        Sindh  Umerkot  2006              55.0   \n",
       "698        Sindh  Umerkot  2008              55.0   \n",
       "699        Sindh  Umerkot  2010              46.0   \n",
       "700        Sindh  Umerkot  2012              47.0   \n",
       "701        Sindh  Umerkot  2014              46.0   \n",
       "\n",
       "     Access to improved drinking water (% of population)  \\\n",
       "0                                                50.52     \n",
       "1                                                43.16     \n",
       "2                                                16.26     \n",
       "3                                                25.51     \n",
       "4                                                32.08     \n",
       "..                                                 ...     \n",
       "697                                              54.54     \n",
       "698                                              58.61     \n",
       "699                                              56.17     \n",
       "700                                              62.82     \n",
       "701                                              62.89     \n",
       "\n",
       "     Access to piped water (% of population)  \\\n",
       "0                                      40.30   \n",
       "1                                      28.70   \n",
       "2                                      10.99   \n",
       "3                                      23.69   \n",
       "4                                       9.14   \n",
       "..                                       ...   \n",
       "697                                    28.88   \n",
       "698                                    13.74   \n",
       "699                                    36.41   \n",
       "700                                    29.96   \n",
       "701                                    22.18   \n",
       "\n",
       "     Access to improved toilet facilities (% of population)  \\\n",
       "0                                                 1.38        \n",
       "1                                                 0.10        \n",
       "2                                                 0.00        \n",
       "3                                                 5.48        \n",
       "4                                                 4.28        \n",
       "..                                                 ...        \n",
       "697                                              13.64        \n",
       "698                                              16.63        \n",
       "699                                               6.91        \n",
       "700                                              12.50        \n",
       "701                                               5.06        \n",
       "\n",
       "     Open defecation (% of population)  \\\n",
       "0                                57.21   \n",
       "1                                50.68   \n",
       "2                                 5.56   \n",
       "3                                 1.32   \n",
       "4                                 3.92   \n",
       "..                                 ...   \n",
       "697                              40.15   \n",
       "698                              30.52   \n",
       "699                              34.31   \n",
       "700                              35.15   \n",
       "701                              39.52   \n",
       "\n",
       "     Access to electricity (% of population)  \\\n",
       "0                                       9.16   \n",
       "1                                      14.39   \n",
       "2                                      39.95   \n",
       "3                                      28.33   \n",
       "4                                      25.99   \n",
       "..                                       ...   \n",
       "697                                    63.75   \n",
       "698                                    75.23   \n",
       "699                                    72.56   \n",
       "700                                    75.47   \n",
       "701                                    66.71   \n",
       "\n",
       "     Households' mobile phone ownership (% of population)  ...  \\\n",
       "0                                                 0.36     ...   \n",
       "1                                                 0.00     ...   \n",
       "2                                                43.17     ...   \n",
       "3                                                52.23     ...   \n",
       "4                                                58.73     ...   \n",
       "..                                                 ...     ...   \n",
       "697                                              17.09     ...   \n",
       "698                                              49.74     ...   \n",
       "699                                              80.18     ...   \n",
       "700                                              78.49     ...   \n",
       "701                                              81.96     ...   \n",
       "\n",
       "     Net school enrollment, middle school, 11-13 years old (% net)  \\\n",
       "0                                                16.83               \n",
       "1                                                18.37               \n",
       "2                                                21.15               \n",
       "3                                                40.01               \n",
       "4                                                29.19               \n",
       "..                                                 ...               \n",
       "697                                              27.22               \n",
       "698                                              35.36               \n",
       "699                                              34.39               \n",
       "700                                              22.19               \n",
       "701                                              20.02               \n",
       "\n",
       "     Youth literacy, 15-24 years old (% of population aged 15-24)  \\\n",
       "0                                                33.46              \n",
       "1                                                47.70              \n",
       "2                                                51.43              \n",
       "3                                                64.31              \n",
       "4                                                50.52              \n",
       "..                                                 ...              \n",
       "697                                              52.40              \n",
       "698                                              58.58              \n",
       "699                                              57.45              \n",
       "700                                              48.77              \n",
       "701                                              47.55              \n",
       "\n",
       "     Adult literacy, 25 or more years old (% of population aged 25 or more)  \\\n",
       "0                                                13.89                        \n",
       "1                                                18.63                        \n",
       "2                                                28.44                        \n",
       "3                                                36.93                        \n",
       "4                                                35.41                        \n",
       "..                                                 ...                        \n",
       "697                                              29.89                        \n",
       "698                                              34.41                        \n",
       "699                                              28.86                        \n",
       "700                                              32.86                        \n",
       "701                                              28.52                        \n",
       "\n",
       "     Primary completion rate, 14-17 years old (% of population aged 14-17)  \\\n",
       "0                                                38.17                       \n",
       "1                                                40.27                       \n",
       "2                                                51.50                       \n",
       "3                                                81.84                       \n",
       "4                                                42.06                       \n",
       "..                                                 ...                       \n",
       "697                                              52.52                       \n",
       "698                                              58.09                       \n",
       "699                                              57.24                       \n",
       "700                                              44.64                       \n",
       "701                                              44.47                       \n",
       "\n",
       "     Youth literacy gender parity index, 15-24 years old  \\\n",
       "0                                                 0.23     \n",
       "1                                                 0.39     \n",
       "2                                                 0.28     \n",
       "3                                                 0.60     \n",
       "4                                                 0.58     \n",
       "..                                                 ...     \n",
       "697                                               0.54     \n",
       "698                                               0.66     \n",
       "699                                               0.51     \n",
       "700                                               0.55     \n",
       "701                                               0.44     \n",
       "\n",
       "     Adult literacy gender parity index, 25 or more years old  \\\n",
       "0                                                 0.11          \n",
       "1                                                 0.15          \n",
       "2                                                 0.09          \n",
       "3                                                 0.41          \n",
       "4                                                 0.24          \n",
       "..                                                 ...          \n",
       "697                                               0.27          \n",
       "698                                               0.31          \n",
       "699                                               0.15          \n",
       "700                                               0.17          \n",
       "701                                               0.22          \n",
       "\n",
       "     Primary completion gender parity index, 14-17 years old  \\\n",
       "0                                                 0.57         \n",
       "1                                                 0.65         \n",
       "2                                                 0.37         \n",
       "3                                                 0.69         \n",
       "4                                                 0.45         \n",
       "..                                                 ...         \n",
       "697                                               0.67         \n",
       "698                                               0.77         \n",
       "699                                               0.59         \n",
       "700                                               0.69         \n",
       "701                                               0.60         \n",
       "\n",
       "     Net enrolment rate in primary gender parity index, 6-10 years old  \\\n",
       "0                                                 0.45                   \n",
       "1                                                 0.82                   \n",
       "2                                                 0.53                   \n",
       "3                                                 0.82                   \n",
       "4                                                 0.42                   \n",
       "..                                                 ...                   \n",
       "697                                               0.67                   \n",
       "698                                               0.84                   \n",
       "699                                               0.89                   \n",
       "700                                               0.91                   \n",
       "701                                               0.81                   \n",
       "\n",
       "     Net enrolment rate in middle school gender parity index, 11-13 years old  \\\n",
       "0                                                 0.57                          \n",
       "1                                                 0.34                          \n",
       "2                                                 0.23                          \n",
       "3                                                 0.30                          \n",
       "4                                                 0.40                          \n",
       "..                                                 ...                          \n",
       "697                                               0.56                          \n",
       "698                                               0.51                          \n",
       "699                                               0.56                          \n",
       "700                                               0.44                          \n",
       "701                                               0.59                          \n",
       "\n",
       "     Urban share of population (% of population)  \n",
       "0                                           0.00  \n",
       "1                                           0.00  \n",
       "2                                           0.00  \n",
       "3                                           0.00  \n",
       "4                                           0.00  \n",
       "..                                           ...  \n",
       "697                                        25.29  \n",
       "698                                        25.01  \n",
       "699                                        18.15  \n",
       "700                                        17.05  \n",
       "701                                        21.34  \n",
       "\n",
       "[702 rows x 42 columns]"
      ]
     },
     "execution_count": 2,
     "metadata": {},
     "output_type": "execute_result"
    }
   ],
   "source": [
    "import pandas as pd\n",
    "input_data_file = '../Data/updatedData.csv' \n",
    "output_grouped_data_file = '../Data/pakistan_indicators.csv' \n",
    "df = pd.read_csv(input_data_file, encoding='latin1')\n",
    "df"
   ]
  },
  {
   "cell_type": "code",
   "execution_count": 3,
   "metadata": {},
   "outputs": [],
   "source": [
    "# print(len( df.columns))\n",
    "# for col in df.columns: \n",
    "#     print(col) \n",
    "    "
   ]
  },
  {
   "cell_type": "code",
   "execution_count": 4,
   "metadata": {},
   "outputs": [],
   "source": [
    "# new_df = df[(df['Province'] == \"Balochistan\") & (df['Year'] == 2004)].reset_index(drop=True)\n",
    "# new_df = new_df[['Poverty Rate (%)', 'Adult literacy gender parity index, 25 or more years old' ]]\n",
    "# new_df            "
   ]
  },
  {
   "cell_type": "code",
   "execution_count": 5,
   "metadata": {
    "scrolled": true
   },
   "outputs": [
    {
     "name": "stderr",
     "output_type": "stream",
     "text": [
      "In /home/noman/anaconda3/envs/thumbcrowd/lib/python3.6/site-packages/matplotlib/mpl-data/stylelib/_classic_test.mplstyle: \n",
      "The text.latex.unicode rcparam was deprecated in Matplotlib 3.0 and will be removed in 3.2.\n",
      "In /home/noman/anaconda3/envs/thumbcrowd/lib/python3.6/site-packages/matplotlib/mpl-data/stylelib/_classic_test.mplstyle: \n",
      "The savefig.frameon rcparam was deprecated in Matplotlib 3.1 and will be removed in 3.3.\n",
      "In /home/noman/anaconda3/envs/thumbcrowd/lib/python3.6/site-packages/matplotlib/mpl-data/stylelib/_classic_test.mplstyle: \n",
      "The pgf.debug rcparam was deprecated in Matplotlib 3.0 and will be removed in 3.2.\n",
      "In /home/noman/anaconda3/envs/thumbcrowd/lib/python3.6/site-packages/matplotlib/mpl-data/stylelib/_classic_test.mplstyle: \n",
      "The verbose.level rcparam was deprecated in Matplotlib 3.1 and will be removed in 3.3.\n",
      "In /home/noman/anaconda3/envs/thumbcrowd/lib/python3.6/site-packages/matplotlib/mpl-data/stylelib/_classic_test.mplstyle: \n",
      "The verbose.fileo rcparam was deprecated in Matplotlib 3.1 and will be removed in 3.3.\n"
     ]
    },
    {
     "data": {
      "text/html": [
       "        <script type=\"text/javascript\">\n",
       "        window.PlotlyConfig = {MathJaxConfig: 'local'};\n",
       "        if (window.MathJax) {MathJax.Hub.Config({SVG: {font: \"STIX-Web\"}});}\n",
       "        if (typeof require !== 'undefined') {\n",
       "        require.undef(\"plotly\");\n",
       "        requirejs.config({\n",
       "            paths: {\n",
       "                'plotly': ['https://cdn.plot.ly/plotly-latest.min']\n",
       "            }\n",
       "        });\n",
       "        require(['plotly'], function(Plotly) {\n",
       "            window._Plotly = Plotly;\n",
       "        });\n",
       "        }\n",
       "        </script>\n",
       "        "
      ]
     },
     "metadata": {},
     "output_type": "display_data"
    },
    {
     "data": {
      "text/html": [
       "        <script type=\"text/javascript\">\n",
       "        window.PlotlyConfig = {MathJaxConfig: 'local'};\n",
       "        if (window.MathJax) {MathJax.Hub.Config({SVG: {font: \"STIX-Web\"}});}\n",
       "        if (typeof require !== 'undefined') {\n",
       "        require.undef(\"plotly\");\n",
       "        requirejs.config({\n",
       "            paths: {\n",
       "                'plotly': ['https://cdn.plot.ly/plotly-latest.min']\n",
       "            }\n",
       "        });\n",
       "        require(['plotly'], function(Plotly) {\n",
       "            window._Plotly = Plotly;\n",
       "        });\n",
       "        }\n",
       "        </script>\n",
       "        "
      ]
     },
     "metadata": {},
     "output_type": "display_data"
    }
   ],
   "source": [
    "import pandas as pd\n",
    "import numpy as np\n",
    "%matplotlib inline\n",
    "from plotly.offline import download_plotlyjs, init_notebook_mode, plot, iplot\n",
    "init_notebook_mode(connected=True)\n",
    "import cufflinks as cf\n",
    "cf.go_offline()\n",
    "\n",
    "\n"
   ]
  },
  {
   "cell_type": "code",
   "execution_count": 6,
   "metadata": {},
   "outputs": [
    {
     "name": "stdout",
     "output_type": "stream",
     "text": [
      "Access to improved drinking water (% of population) Poverty Rate (%)\n"
     ]
    },
    {
     "data": {
      "application/vnd.plotly.v1+json": {
       "config": {
        "displaylogo": false,
        "modeBarButtonsToRemove": [
         "zoomIn2d",
         "lasso2d",
         "zoom2d"
        ],
        "plotlyServerURL": "https://plot.ly"
       },
       "data": [
        {
         "hovertemplate": "Access to improved drinking water (% of population)=%{x}<br>Poverty Rate (%)=%{y}<extra></extra>",
         "legendgroup": "",
         "marker": {
          "color": "#636efa",
          "symbol": "circle"
         },
         "mode": "markers",
         "name": "",
         "orientation": "v",
         "showlegend": false,
         "type": "scatter",
         "x": [
          16.26,
          14.99,
          28.02,
          32.18,
          75.95,
          58.04,
          45.79,
          17.19,
          26.86,
          47.7,
          51.66,
          63.2,
          54.98,
          41.9,
          19.99,
          7.44,
          41.85,
          58.04,
          49.13,
          31.02,
          0.72,
          44.5,
          78.74,
          40.37,
          65.37,
          76.94,
          27.97,
          58.04,
          45.79,
          11.42,
          27.97,
          14.77
         ],
         "xaxis": "x",
         "y": [
          83,
          82,
          74,
          85,
          71,
          64,
          80,
          81,
          84,
          83,
          71,
          75,
          77,
          62,
          73,
          87,
          76,
          64,
          71,
          82,
          85,
          82,
          74,
          72,
          55,
          55,
          73,
          64,
          80,
          81,
          73,
          54
         ],
         "yaxis": "y"
        }
       ],
       "layout": {
        "legend": {
         "tracegroupgap": 0
        },
        "margin": {
         "t": 60
        },
        "template": {
         "data": {
          "bar": [
           {
            "error_x": {
             "color": "#2a3f5f"
            },
            "error_y": {
             "color": "#2a3f5f"
            },
            "marker": {
             "line": {
              "color": "#E5ECF6",
              "width": 0.5
             }
            },
            "type": "bar"
           }
          ],
          "barpolar": [
           {
            "marker": {
             "line": {
              "color": "#E5ECF6",
              "width": 0.5
             }
            },
            "type": "barpolar"
           }
          ],
          "carpet": [
           {
            "aaxis": {
             "endlinecolor": "#2a3f5f",
             "gridcolor": "white",
             "linecolor": "white",
             "minorgridcolor": "white",
             "startlinecolor": "#2a3f5f"
            },
            "baxis": {
             "endlinecolor": "#2a3f5f",
             "gridcolor": "white",
             "linecolor": "white",
             "minorgridcolor": "white",
             "startlinecolor": "#2a3f5f"
            },
            "type": "carpet"
           }
          ],
          "choropleth": [
           {
            "colorbar": {
             "outlinewidth": 0,
             "ticks": ""
            },
            "type": "choropleth"
           }
          ],
          "contour": [
           {
            "colorbar": {
             "outlinewidth": 0,
             "ticks": ""
            },
            "colorscale": [
             [
              0,
              "#0d0887"
             ],
             [
              0.1111111111111111,
              "#46039f"
             ],
             [
              0.2222222222222222,
              "#7201a8"
             ],
             [
              0.3333333333333333,
              "#9c179e"
             ],
             [
              0.4444444444444444,
              "#bd3786"
             ],
             [
              0.5555555555555556,
              "#d8576b"
             ],
             [
              0.6666666666666666,
              "#ed7953"
             ],
             [
              0.7777777777777778,
              "#fb9f3a"
             ],
             [
              0.8888888888888888,
              "#fdca26"
             ],
             [
              1,
              "#f0f921"
             ]
            ],
            "type": "contour"
           }
          ],
          "contourcarpet": [
           {
            "colorbar": {
             "outlinewidth": 0,
             "ticks": ""
            },
            "type": "contourcarpet"
           }
          ],
          "heatmap": [
           {
            "colorbar": {
             "outlinewidth": 0,
             "ticks": ""
            },
            "colorscale": [
             [
              0,
              "#0d0887"
             ],
             [
              0.1111111111111111,
              "#46039f"
             ],
             [
              0.2222222222222222,
              "#7201a8"
             ],
             [
              0.3333333333333333,
              "#9c179e"
             ],
             [
              0.4444444444444444,
              "#bd3786"
             ],
             [
              0.5555555555555556,
              "#d8576b"
             ],
             [
              0.6666666666666666,
              "#ed7953"
             ],
             [
              0.7777777777777778,
              "#fb9f3a"
             ],
             [
              0.8888888888888888,
              "#fdca26"
             ],
             [
              1,
              "#f0f921"
             ]
            ],
            "type": "heatmap"
           }
          ],
          "heatmapgl": [
           {
            "colorbar": {
             "outlinewidth": 0,
             "ticks": ""
            },
            "colorscale": [
             [
              0,
              "#0d0887"
             ],
             [
              0.1111111111111111,
              "#46039f"
             ],
             [
              0.2222222222222222,
              "#7201a8"
             ],
             [
              0.3333333333333333,
              "#9c179e"
             ],
             [
              0.4444444444444444,
              "#bd3786"
             ],
             [
              0.5555555555555556,
              "#d8576b"
             ],
             [
              0.6666666666666666,
              "#ed7953"
             ],
             [
              0.7777777777777778,
              "#fb9f3a"
             ],
             [
              0.8888888888888888,
              "#fdca26"
             ],
             [
              1,
              "#f0f921"
             ]
            ],
            "type": "heatmapgl"
           }
          ],
          "histogram": [
           {
            "marker": {
             "colorbar": {
              "outlinewidth": 0,
              "ticks": ""
             }
            },
            "type": "histogram"
           }
          ],
          "histogram2d": [
           {
            "colorbar": {
             "outlinewidth": 0,
             "ticks": ""
            },
            "colorscale": [
             [
              0,
              "#0d0887"
             ],
             [
              0.1111111111111111,
              "#46039f"
             ],
             [
              0.2222222222222222,
              "#7201a8"
             ],
             [
              0.3333333333333333,
              "#9c179e"
             ],
             [
              0.4444444444444444,
              "#bd3786"
             ],
             [
              0.5555555555555556,
              "#d8576b"
             ],
             [
              0.6666666666666666,
              "#ed7953"
             ],
             [
              0.7777777777777778,
              "#fb9f3a"
             ],
             [
              0.8888888888888888,
              "#fdca26"
             ],
             [
              1,
              "#f0f921"
             ]
            ],
            "type": "histogram2d"
           }
          ],
          "histogram2dcontour": [
           {
            "colorbar": {
             "outlinewidth": 0,
             "ticks": ""
            },
            "colorscale": [
             [
              0,
              "#0d0887"
             ],
             [
              0.1111111111111111,
              "#46039f"
             ],
             [
              0.2222222222222222,
              "#7201a8"
             ],
             [
              0.3333333333333333,
              "#9c179e"
             ],
             [
              0.4444444444444444,
              "#bd3786"
             ],
             [
              0.5555555555555556,
              "#d8576b"
             ],
             [
              0.6666666666666666,
              "#ed7953"
             ],
             [
              0.7777777777777778,
              "#fb9f3a"
             ],
             [
              0.8888888888888888,
              "#fdca26"
             ],
             [
              1,
              "#f0f921"
             ]
            ],
            "type": "histogram2dcontour"
           }
          ],
          "mesh3d": [
           {
            "colorbar": {
             "outlinewidth": 0,
             "ticks": ""
            },
            "type": "mesh3d"
           }
          ],
          "parcoords": [
           {
            "line": {
             "colorbar": {
              "outlinewidth": 0,
              "ticks": ""
             }
            },
            "type": "parcoords"
           }
          ],
          "pie": [
           {
            "automargin": true,
            "type": "pie"
           }
          ],
          "scatter": [
           {
            "marker": {
             "colorbar": {
              "outlinewidth": 0,
              "ticks": ""
             }
            },
            "type": "scatter"
           }
          ],
          "scatter3d": [
           {
            "line": {
             "colorbar": {
              "outlinewidth": 0,
              "ticks": ""
             }
            },
            "marker": {
             "colorbar": {
              "outlinewidth": 0,
              "ticks": ""
             }
            },
            "type": "scatter3d"
           }
          ],
          "scattercarpet": [
           {
            "marker": {
             "colorbar": {
              "outlinewidth": 0,
              "ticks": ""
             }
            },
            "type": "scattercarpet"
           }
          ],
          "scattergeo": [
           {
            "marker": {
             "colorbar": {
              "outlinewidth": 0,
              "ticks": ""
             }
            },
            "type": "scattergeo"
           }
          ],
          "scattergl": [
           {
            "marker": {
             "colorbar": {
              "outlinewidth": 0,
              "ticks": ""
             }
            },
            "type": "scattergl"
           }
          ],
          "scattermapbox": [
           {
            "marker": {
             "colorbar": {
              "outlinewidth": 0,
              "ticks": ""
             }
            },
            "type": "scattermapbox"
           }
          ],
          "scatterpolar": [
           {
            "marker": {
             "colorbar": {
              "outlinewidth": 0,
              "ticks": ""
             }
            },
            "type": "scatterpolar"
           }
          ],
          "scatterpolargl": [
           {
            "marker": {
             "colorbar": {
              "outlinewidth": 0,
              "ticks": ""
             }
            },
            "type": "scatterpolargl"
           }
          ],
          "scatterternary": [
           {
            "marker": {
             "colorbar": {
              "outlinewidth": 0,
              "ticks": ""
             }
            },
            "type": "scatterternary"
           }
          ],
          "surface": [
           {
            "colorbar": {
             "outlinewidth": 0,
             "ticks": ""
            },
            "colorscale": [
             [
              0,
              "#0d0887"
             ],
             [
              0.1111111111111111,
              "#46039f"
             ],
             [
              0.2222222222222222,
              "#7201a8"
             ],
             [
              0.3333333333333333,
              "#9c179e"
             ],
             [
              0.4444444444444444,
              "#bd3786"
             ],
             [
              0.5555555555555556,
              "#d8576b"
             ],
             [
              0.6666666666666666,
              "#ed7953"
             ],
             [
              0.7777777777777778,
              "#fb9f3a"
             ],
             [
              0.8888888888888888,
              "#fdca26"
             ],
             [
              1,
              "#f0f921"
             ]
            ],
            "type": "surface"
           }
          ],
          "table": [
           {
            "cells": {
             "fill": {
              "color": "#EBF0F8"
             },
             "line": {
              "color": "white"
             }
            },
            "header": {
             "fill": {
              "color": "#C8D4E3"
             },
             "line": {
              "color": "white"
             }
            },
            "type": "table"
           }
          ]
         },
         "layout": {
          "annotationdefaults": {
           "arrowcolor": "#2a3f5f",
           "arrowhead": 0,
           "arrowwidth": 1
          },
          "coloraxis": {
           "colorbar": {
            "outlinewidth": 0,
            "ticks": ""
           }
          },
          "colorscale": {
           "diverging": [
            [
             0,
             "#8e0152"
            ],
            [
             0.1,
             "#c51b7d"
            ],
            [
             0.2,
             "#de77ae"
            ],
            [
             0.3,
             "#f1b6da"
            ],
            [
             0.4,
             "#fde0ef"
            ],
            [
             0.5,
             "#f7f7f7"
            ],
            [
             0.6,
             "#e6f5d0"
            ],
            [
             0.7,
             "#b8e186"
            ],
            [
             0.8,
             "#7fbc41"
            ],
            [
             0.9,
             "#4d9221"
            ],
            [
             1,
             "#276419"
            ]
           ],
           "sequential": [
            [
             0,
             "#0d0887"
            ],
            [
             0.1111111111111111,
             "#46039f"
            ],
            [
             0.2222222222222222,
             "#7201a8"
            ],
            [
             0.3333333333333333,
             "#9c179e"
            ],
            [
             0.4444444444444444,
             "#bd3786"
            ],
            [
             0.5555555555555556,
             "#d8576b"
            ],
            [
             0.6666666666666666,
             "#ed7953"
            ],
            [
             0.7777777777777778,
             "#fb9f3a"
            ],
            [
             0.8888888888888888,
             "#fdca26"
            ],
            [
             1,
             "#f0f921"
            ]
           ],
           "sequentialminus": [
            [
             0,
             "#0d0887"
            ],
            [
             0.1111111111111111,
             "#46039f"
            ],
            [
             0.2222222222222222,
             "#7201a8"
            ],
            [
             0.3333333333333333,
             "#9c179e"
            ],
            [
             0.4444444444444444,
             "#bd3786"
            ],
            [
             0.5555555555555556,
             "#d8576b"
            ],
            [
             0.6666666666666666,
             "#ed7953"
            ],
            [
             0.7777777777777778,
             "#fb9f3a"
            ],
            [
             0.8888888888888888,
             "#fdca26"
            ],
            [
             1,
             "#f0f921"
            ]
           ]
          },
          "colorway": [
           "#636efa",
           "#EF553B",
           "#00cc96",
           "#ab63fa",
           "#FFA15A",
           "#19d3f3",
           "#FF6692",
           "#B6E880",
           "#FF97FF",
           "#FECB52"
          ],
          "font": {
           "color": "#2a3f5f"
          },
          "geo": {
           "bgcolor": "white",
           "lakecolor": "white",
           "landcolor": "#E5ECF6",
           "showlakes": true,
           "showland": true,
           "subunitcolor": "white"
          },
          "hoverlabel": {
           "align": "left"
          },
          "hovermode": "closest",
          "mapbox": {
           "style": "light"
          },
          "paper_bgcolor": "white",
          "plot_bgcolor": "#E5ECF6",
          "polar": {
           "angularaxis": {
            "gridcolor": "white",
            "linecolor": "white",
            "ticks": ""
           },
           "bgcolor": "#E5ECF6",
           "radialaxis": {
            "gridcolor": "white",
            "linecolor": "white",
            "ticks": ""
           }
          },
          "scene": {
           "xaxis": {
            "backgroundcolor": "#E5ECF6",
            "gridcolor": "white",
            "gridwidth": 2,
            "linecolor": "white",
            "showbackground": true,
            "ticks": "",
            "zerolinecolor": "white"
           },
           "yaxis": {
            "backgroundcolor": "#E5ECF6",
            "gridcolor": "white",
            "gridwidth": 2,
            "linecolor": "white",
            "showbackground": true,
            "ticks": "",
            "zerolinecolor": "white"
           },
           "zaxis": {
            "backgroundcolor": "#E5ECF6",
            "gridcolor": "white",
            "gridwidth": 2,
            "linecolor": "white",
            "showbackground": true,
            "ticks": "",
            "zerolinecolor": "white"
           }
          },
          "shapedefaults": {
           "line": {
            "color": "#2a3f5f"
           }
          },
          "ternary": {
           "aaxis": {
            "gridcolor": "white",
            "linecolor": "white",
            "ticks": ""
           },
           "baxis": {
            "gridcolor": "white",
            "linecolor": "white",
            "ticks": ""
           },
           "bgcolor": "#E5ECF6",
           "caxis": {
            "gridcolor": "white",
            "linecolor": "white",
            "ticks": ""
           }
          },
          "title": {
           "x": 0.05
          },
          "xaxis": {
           "automargin": true,
           "gridcolor": "white",
           "linecolor": "white",
           "ticks": "",
           "title": {
            "standoff": 15
           },
           "zerolinecolor": "white",
           "zerolinewidth": 2
          },
          "yaxis": {
           "automargin": true,
           "gridcolor": "white",
           "linecolor": "white",
           "ticks": "",
           "title": {
            "standoff": 15
           },
           "zerolinecolor": "white",
           "zerolinewidth": 2
          }
         }
        },
        "xaxis": {
         "anchor": "y",
         "domain": [
          0,
          1
         ],
         "title": {
          "text": "Access to improved drinking water (% of population)"
         }
        },
        "yaxis": {
         "anchor": "x",
         "domain": [
          0,
          1
         ],
         "title": {
          "text": "Poverty Rate (%)"
         }
        }
       }
      },
      "text/html": [
       "<div>\n",
       "        \n",
       "        \n",
       "            <div id=\"6dc959b5-ee0c-4d2a-83c4-1c2e2ff72c50\" class=\"plotly-graph-div\" style=\"height:525px; width:100%;\"></div>\n",
       "            <script type=\"text/javascript\">\n",
       "                require([\"plotly\"], function(Plotly) {\n",
       "                    window.PLOTLYENV=window.PLOTLYENV || {};\n",
       "                    \n",
       "                if (document.getElementById(\"6dc959b5-ee0c-4d2a-83c4-1c2e2ff72c50\")) {\n",
       "                    Plotly.newPlot(\n",
       "                        '6dc959b5-ee0c-4d2a-83c4-1c2e2ff72c50',\n",
       "                        [{\"hovertemplate\": \"Access to improved drinking water (% of population)=%{x}<br>Poverty Rate (%)=%{y}<extra></extra>\", \"legendgroup\": \"\", \"marker\": {\"color\": \"#636efa\", \"symbol\": \"circle\"}, \"mode\": \"markers\", \"name\": \"\", \"orientation\": \"v\", \"showlegend\": false, \"type\": \"scatter\", \"x\": [16.26, 14.99, 28.02, 32.18, 75.95, 58.04, 45.79, 17.19, 26.86, 47.7, 51.66, 63.2, 54.98, 41.9, 19.99, 7.44, 41.85, 58.04, 49.13, 31.02, 0.72, 44.5, 78.74, 40.37, 65.37, 76.94, 27.97, 58.04, 45.79, 11.42, 27.97, 14.77], \"xaxis\": \"x\", \"y\": [83.0, 82.0, 74.0, 85.0, 71.0, 64.0, 80.0, 81.0, 84.0, 83.0, 71.0, 75.0, 77.0, 62.0, 73.0, 87.0, 76.0, 64.0, 71.0, 82.0, 85.0, 82.0, 74.0, 72.0, 55.0, 55.0, 73.0, 64.0, 80.0, 81.0, 73.0, 54.0], \"yaxis\": \"y\"}],\n",
       "                        {\"legend\": {\"tracegroupgap\": 0}, \"margin\": {\"t\": 60}, \"template\": {\"data\": {\"bar\": [{\"error_x\": {\"color\": \"#2a3f5f\"}, \"error_y\": {\"color\": \"#2a3f5f\"}, \"marker\": {\"line\": {\"color\": \"#E5ECF6\", \"width\": 0.5}}, \"type\": \"bar\"}], \"barpolar\": [{\"marker\": {\"line\": {\"color\": \"#E5ECF6\", \"width\": 0.5}}, \"type\": \"barpolar\"}], \"carpet\": [{\"aaxis\": {\"endlinecolor\": \"#2a3f5f\", \"gridcolor\": \"white\", \"linecolor\": \"white\", \"minorgridcolor\": \"white\", \"startlinecolor\": \"#2a3f5f\"}, \"baxis\": {\"endlinecolor\": \"#2a3f5f\", \"gridcolor\": \"white\", \"linecolor\": \"white\", \"minorgridcolor\": \"white\", \"startlinecolor\": \"#2a3f5f\"}, \"type\": \"carpet\"}], \"choropleth\": [{\"colorbar\": {\"outlinewidth\": 0, \"ticks\": \"\"}, \"type\": \"choropleth\"}], \"contour\": [{\"colorbar\": {\"outlinewidth\": 0, \"ticks\": \"\"}, \"colorscale\": [[0.0, \"#0d0887\"], [0.1111111111111111, \"#46039f\"], [0.2222222222222222, \"#7201a8\"], [0.3333333333333333, \"#9c179e\"], [0.4444444444444444, \"#bd3786\"], [0.5555555555555556, \"#d8576b\"], [0.6666666666666666, \"#ed7953\"], [0.7777777777777778, \"#fb9f3a\"], [0.8888888888888888, \"#fdca26\"], [1.0, \"#f0f921\"]], \"type\": \"contour\"}], \"contourcarpet\": [{\"colorbar\": {\"outlinewidth\": 0, \"ticks\": \"\"}, \"type\": \"contourcarpet\"}], \"heatmap\": [{\"colorbar\": {\"outlinewidth\": 0, \"ticks\": \"\"}, \"colorscale\": [[0.0, \"#0d0887\"], [0.1111111111111111, \"#46039f\"], [0.2222222222222222, \"#7201a8\"], [0.3333333333333333, \"#9c179e\"], [0.4444444444444444, \"#bd3786\"], [0.5555555555555556, \"#d8576b\"], [0.6666666666666666, \"#ed7953\"], [0.7777777777777778, \"#fb9f3a\"], [0.8888888888888888, \"#fdca26\"], [1.0, \"#f0f921\"]], \"type\": \"heatmap\"}], \"heatmapgl\": [{\"colorbar\": {\"outlinewidth\": 0, \"ticks\": \"\"}, \"colorscale\": [[0.0, \"#0d0887\"], [0.1111111111111111, \"#46039f\"], [0.2222222222222222, \"#7201a8\"], [0.3333333333333333, \"#9c179e\"], [0.4444444444444444, \"#bd3786\"], [0.5555555555555556, \"#d8576b\"], [0.6666666666666666, \"#ed7953\"], [0.7777777777777778, \"#fb9f3a\"], [0.8888888888888888, \"#fdca26\"], [1.0, \"#f0f921\"]], \"type\": \"heatmapgl\"}], \"histogram\": [{\"marker\": {\"colorbar\": {\"outlinewidth\": 0, \"ticks\": \"\"}}, \"type\": \"histogram\"}], \"histogram2d\": [{\"colorbar\": {\"outlinewidth\": 0, \"ticks\": \"\"}, \"colorscale\": [[0.0, \"#0d0887\"], [0.1111111111111111, \"#46039f\"], [0.2222222222222222, \"#7201a8\"], [0.3333333333333333, \"#9c179e\"], [0.4444444444444444, \"#bd3786\"], [0.5555555555555556, \"#d8576b\"], [0.6666666666666666, \"#ed7953\"], [0.7777777777777778, \"#fb9f3a\"], [0.8888888888888888, \"#fdca26\"], [1.0, \"#f0f921\"]], \"type\": \"histogram2d\"}], \"histogram2dcontour\": [{\"colorbar\": {\"outlinewidth\": 0, \"ticks\": \"\"}, \"colorscale\": [[0.0, \"#0d0887\"], [0.1111111111111111, \"#46039f\"], [0.2222222222222222, \"#7201a8\"], [0.3333333333333333, \"#9c179e\"], [0.4444444444444444, \"#bd3786\"], [0.5555555555555556, \"#d8576b\"], [0.6666666666666666, \"#ed7953\"], [0.7777777777777778, \"#fb9f3a\"], [0.8888888888888888, \"#fdca26\"], [1.0, \"#f0f921\"]], \"type\": \"histogram2dcontour\"}], \"mesh3d\": [{\"colorbar\": {\"outlinewidth\": 0, \"ticks\": \"\"}, \"type\": \"mesh3d\"}], \"parcoords\": [{\"line\": {\"colorbar\": {\"outlinewidth\": 0, \"ticks\": \"\"}}, \"type\": \"parcoords\"}], \"pie\": [{\"automargin\": true, \"type\": \"pie\"}], \"scatter\": [{\"marker\": {\"colorbar\": {\"outlinewidth\": 0, \"ticks\": \"\"}}, \"type\": \"scatter\"}], \"scatter3d\": [{\"line\": {\"colorbar\": {\"outlinewidth\": 0, \"ticks\": \"\"}}, \"marker\": {\"colorbar\": {\"outlinewidth\": 0, \"ticks\": \"\"}}, \"type\": \"scatter3d\"}], \"scattercarpet\": [{\"marker\": {\"colorbar\": {\"outlinewidth\": 0, \"ticks\": \"\"}}, \"type\": \"scattercarpet\"}], \"scattergeo\": [{\"marker\": {\"colorbar\": {\"outlinewidth\": 0, \"ticks\": \"\"}}, \"type\": \"scattergeo\"}], \"scattergl\": [{\"marker\": {\"colorbar\": {\"outlinewidth\": 0, \"ticks\": \"\"}}, \"type\": \"scattergl\"}], \"scattermapbox\": [{\"marker\": {\"colorbar\": {\"outlinewidth\": 0, \"ticks\": \"\"}}, \"type\": \"scattermapbox\"}], \"scatterpolar\": [{\"marker\": {\"colorbar\": {\"outlinewidth\": 0, \"ticks\": \"\"}}, \"type\": \"scatterpolar\"}], \"scatterpolargl\": [{\"marker\": {\"colorbar\": {\"outlinewidth\": 0, \"ticks\": \"\"}}, \"type\": \"scatterpolargl\"}], \"scatterternary\": [{\"marker\": {\"colorbar\": {\"outlinewidth\": 0, \"ticks\": \"\"}}, \"type\": \"scatterternary\"}], \"surface\": [{\"colorbar\": {\"outlinewidth\": 0, \"ticks\": \"\"}, \"colorscale\": [[0.0, \"#0d0887\"], [0.1111111111111111, \"#46039f\"], [0.2222222222222222, \"#7201a8\"], [0.3333333333333333, \"#9c179e\"], [0.4444444444444444, \"#bd3786\"], [0.5555555555555556, \"#d8576b\"], [0.6666666666666666, \"#ed7953\"], [0.7777777777777778, \"#fb9f3a\"], [0.8888888888888888, \"#fdca26\"], [1.0, \"#f0f921\"]], \"type\": \"surface\"}], \"table\": [{\"cells\": {\"fill\": {\"color\": \"#EBF0F8\"}, \"line\": {\"color\": \"white\"}}, \"header\": {\"fill\": {\"color\": \"#C8D4E3\"}, \"line\": {\"color\": \"white\"}}, \"type\": \"table\"}]}, \"layout\": {\"annotationdefaults\": {\"arrowcolor\": \"#2a3f5f\", \"arrowhead\": 0, \"arrowwidth\": 1}, \"coloraxis\": {\"colorbar\": {\"outlinewidth\": 0, \"ticks\": \"\"}}, \"colorscale\": {\"diverging\": [[0, \"#8e0152\"], [0.1, \"#c51b7d\"], [0.2, \"#de77ae\"], [0.3, \"#f1b6da\"], [0.4, \"#fde0ef\"], [0.5, \"#f7f7f7\"], [0.6, \"#e6f5d0\"], [0.7, \"#b8e186\"], [0.8, \"#7fbc41\"], [0.9, \"#4d9221\"], [1, \"#276419\"]], \"sequential\": [[0.0, \"#0d0887\"], [0.1111111111111111, \"#46039f\"], [0.2222222222222222, \"#7201a8\"], [0.3333333333333333, \"#9c179e\"], [0.4444444444444444, \"#bd3786\"], [0.5555555555555556, \"#d8576b\"], [0.6666666666666666, \"#ed7953\"], [0.7777777777777778, \"#fb9f3a\"], [0.8888888888888888, \"#fdca26\"], [1.0, \"#f0f921\"]], \"sequentialminus\": [[0.0, \"#0d0887\"], [0.1111111111111111, \"#46039f\"], [0.2222222222222222, \"#7201a8\"], [0.3333333333333333, \"#9c179e\"], [0.4444444444444444, \"#bd3786\"], [0.5555555555555556, \"#d8576b\"], [0.6666666666666666, \"#ed7953\"], [0.7777777777777778, \"#fb9f3a\"], [0.8888888888888888, \"#fdca26\"], [1.0, \"#f0f921\"]]}, \"colorway\": [\"#636efa\", \"#EF553B\", \"#00cc96\", \"#ab63fa\", \"#FFA15A\", \"#19d3f3\", \"#FF6692\", \"#B6E880\", \"#FF97FF\", \"#FECB52\"], \"font\": {\"color\": \"#2a3f5f\"}, \"geo\": {\"bgcolor\": \"white\", \"lakecolor\": \"white\", \"landcolor\": \"#E5ECF6\", \"showlakes\": true, \"showland\": true, \"subunitcolor\": \"white\"}, \"hoverlabel\": {\"align\": \"left\"}, \"hovermode\": \"closest\", \"mapbox\": {\"style\": \"light\"}, \"paper_bgcolor\": \"white\", \"plot_bgcolor\": \"#E5ECF6\", \"polar\": {\"angularaxis\": {\"gridcolor\": \"white\", \"linecolor\": \"white\", \"ticks\": \"\"}, \"bgcolor\": \"#E5ECF6\", \"radialaxis\": {\"gridcolor\": \"white\", \"linecolor\": \"white\", \"ticks\": \"\"}}, \"scene\": {\"xaxis\": {\"backgroundcolor\": \"#E5ECF6\", \"gridcolor\": \"white\", \"gridwidth\": 2, \"linecolor\": \"white\", \"showbackground\": true, \"ticks\": \"\", \"zerolinecolor\": \"white\"}, \"yaxis\": {\"backgroundcolor\": \"#E5ECF6\", \"gridcolor\": \"white\", \"gridwidth\": 2, \"linecolor\": \"white\", \"showbackground\": true, \"ticks\": \"\", \"zerolinecolor\": \"white\"}, \"zaxis\": {\"backgroundcolor\": \"#E5ECF6\", \"gridcolor\": \"white\", \"gridwidth\": 2, \"linecolor\": \"white\", \"showbackground\": true, \"ticks\": \"\", \"zerolinecolor\": \"white\"}}, \"shapedefaults\": {\"line\": {\"color\": \"#2a3f5f\"}}, \"ternary\": {\"aaxis\": {\"gridcolor\": \"white\", \"linecolor\": \"white\", \"ticks\": \"\"}, \"baxis\": {\"gridcolor\": \"white\", \"linecolor\": \"white\", \"ticks\": \"\"}, \"bgcolor\": \"#E5ECF6\", \"caxis\": {\"gridcolor\": \"white\", \"linecolor\": \"white\", \"ticks\": \"\"}}, \"title\": {\"x\": 0.05}, \"xaxis\": {\"automargin\": true, \"gridcolor\": \"white\", \"linecolor\": \"white\", \"ticks\": \"\", \"title\": {\"standoff\": 15}, \"zerolinecolor\": \"white\", \"zerolinewidth\": 2}, \"yaxis\": {\"automargin\": true, \"gridcolor\": \"white\", \"linecolor\": \"white\", \"ticks\": \"\", \"title\": {\"standoff\": 15}, \"zerolinecolor\": \"white\", \"zerolinewidth\": 2}}}, \"xaxis\": {\"anchor\": \"y\", \"domain\": [0.0, 1.0], \"title\": {\"text\": \"Access to improved drinking water (% of population)\"}}, \"yaxis\": {\"anchor\": \"x\", \"domain\": [0.0, 1.0], \"title\": {\"text\": \"Poverty Rate (%)\"}}},\n",
       "                        {\"displaylogo\": false, \"modeBarButtonsToRemove\": [\"zoomIn2d\", \"lasso2d\", \"zoom2d\"], \"responsive\": true}\n",
       "                    ).then(function(){\n",
       "                            \n",
       "var gd = document.getElementById('6dc959b5-ee0c-4d2a-83c4-1c2e2ff72c50');\n",
       "var x = new MutationObserver(function (mutations, observer) {{\n",
       "        var display = window.getComputedStyle(gd).display;\n",
       "        if (!display || display === 'none') {{\n",
       "            console.log([gd, 'removed!']);\n",
       "            Plotly.purge(gd);\n",
       "            observer.disconnect();\n",
       "        }}\n",
       "}});\n",
       "\n",
       "// Listen for the removal of the full notebook cells\n",
       "var notebookContainer = gd.closest('#notebook-container');\n",
       "if (notebookContainer) {{\n",
       "    x.observe(notebookContainer, {childList: true});\n",
       "}}\n",
       "\n",
       "// Listen for the clearing of the current output cell\n",
       "var outputEl = gd.closest('.output');\n",
       "if (outputEl) {{\n",
       "    x.observe(outputEl, {childList: true});\n",
       "}}\n",
       "\n",
       "                        })\n",
       "                };\n",
       "                });\n",
       "            </script>\n",
       "        </div>"
      ]
     },
     "metadata": {},
     "output_type": "display_data"
    }
   ],
   "source": [
    "import plotly.express as px\n",
    "\n",
    "# @interact\n",
    "def draw_plot(x=list(df.columns)[4], \n",
    "              y=list(df.columns)[3],\n",
    "              Year= 2008, #list(df.Year.unique()),\n",
    "              Province= \"Balochistan\" #list(df.select_dtypes(include=['object']).Province.unique())\n",
    "             ):\n",
    "    \n",
    "    new_df = df[(df['Province'] == Province) & (df['Year'] == Year)].reset_index(drop=True)\n",
    "    new_df = new_df[[y, x]]\n",
    "    print(x, y)\n",
    "    fig = px.scatter(new_df,x=x, y=y) \n",
    "    fig.show(config=dict(displaylogo=False,\n",
    "                     modeBarButtonsToRemove=[\"zoomIn2d\", 'lasso2d', 'zoom2d']))\n",
    "    fig.write_html(\"../data_report/plot.html\")\n",
    "\n",
    "draw_plot(list(df.columns)[4], list(df.columns)[3], 2008, \"Balochistan\" )   \n",
    "# fig\n"
   ]
  },
  {
   "cell_type": "code",
   "execution_count": 7,
   "metadata": {
    "scrolled": false
   },
   "outputs": [
    {
     "name": "stdout",
     "output_type": "stream",
     "text": [
      "BALOCHISTAN\n"
     ]
    },
    {
     "data": {
      "application/vnd.plotly.v1+json": {
       "config": {
        "plotlyServerURL": "https://plot.ly"
       },
       "data": [
        {
         "marker": {
          "line": {
           "width": 0.1
          },
          "size": 0.5
         },
         "mode": "lines",
         "name": "Awaran",
         "opacity": 1,
         "type": "scatter",
         "x": [
          2004,
          2006,
          2008,
          2010,
          2012,
          2014
         ],
         "y": [
          57,
          69,
          83,
          42,
          68,
          57
         ]
        },
        {
         "marker": {
          "line": {
           "width": 0.1
          },
          "size": 0.5
         },
         "mode": "lines",
         "name": "Barkhan",
         "opacity": 1,
         "type": "scatter",
         "x": [
          2004,
          2006,
          2008,
          2010,
          2012,
          2014
         ],
         "y": [
          61,
          76,
          82,
          64,
          51,
          59
         ]
        },
        {
         "marker": {
          "line": {
           "width": 0.1
          },
          "size": 0.5
         },
         "mode": "lines",
         "name": "Chagai",
         "opacity": 1,
         "type": "scatter",
         "x": [
          2004,
          2006,
          2008,
          2010,
          2012,
          2014
         ],
         "y": [
          74,
          82,
          74,
          56,
          53,
          58
         ]
        },
        {
         "marker": {
          "line": {
           "width": 0.1
          },
          "size": 0.5
         },
         "mode": "lines",
         "name": "Gwadar",
         "opacity": 1,
         "type": "scatter",
         "x": [
          2004,
          2006,
          2008,
          2010,
          2012,
          2014
         ],
         "y": [
          49,
          59,
          71,
          50,
          35,
          47
         ]
        },
        {
         "marker": {
          "line": {
           "width": 0.1
          },
          "size": 0.5
         },
         "mode": "lines",
         "name": "Harnai",
         "opacity": 1,
         "type": "scatter",
         "x": [
          2004,
          2006,
          2008,
          2010,
          2012,
          2014
         ],
         "y": [
          66,
          77,
          64,
          19,
          35,
          65
         ]
        },
        {
         "marker": {
          "line": {
           "width": 0.1
          },
          "size": 0.5
         },
         "mode": "lines",
         "name": "Jaffarabad",
         "opacity": 1,
         "type": "scatter",
         "x": [
          2004,
          2006,
          2008,
          2010,
          2012,
          2014
         ],
         "y": [
          49,
          73,
          80,
          64,
          62,
          64
         ]
        },
        {
         "marker": {
          "line": {
           "width": 0.1
          },
          "size": 0.5
         },
         "mode": "lines",
         "name": "Jhal Magsi",
         "opacity": 1,
         "type": "scatter",
         "x": [
          2004,
          2006,
          2008,
          2010,
          2012,
          2014
         ],
         "y": [
          71,
          86,
          81,
          56,
          46,
          65
         ]
        },
        {
         "marker": {
          "line": {
           "width": 0.1
          },
          "size": 0.5
         },
         "mode": "lines",
         "name": "Kachhi",
         "opacity": 1,
         "type": "scatter",
         "x": [
          2004,
          2006,
          2008,
          2010,
          2012,
          2014
         ],
         "y": [
          64,
          76,
          84,
          55,
          49,
          57
         ]
        },
        {
         "marker": {
          "line": {
           "width": 0.1
          },
          "size": 0.5
         },
         "mode": "lines",
         "name": "Kalat",
         "opacity": 1,
         "type": "scatter",
         "x": [
          2004,
          2006,
          2008,
          2010,
          2012,
          2014
         ],
         "y": [
          52,
          74,
          83,
          42,
          50,
          44
         ]
        },
        {
         "marker": {
          "line": {
           "width": 0.1
          },
          "size": 0.5
         },
         "mode": "lines",
         "name": "Kharan",
         "opacity": 1,
         "type": "scatter",
         "x": [
          2004,
          2006,
          2008,
          2010,
          2012,
          2014
         ],
         "y": [
          60,
          68,
          75,
          56,
          50,
          58
         ]
        },
        {
         "marker": {
          "line": {
           "width": 0.1
          },
          "size": 0.5
         },
         "mode": "lines",
         "name": "Khuzdar",
         "opacity": 1,
         "type": "scatter",
         "x": [
          2004,
          2006,
          2008,
          2010,
          2012,
          2014
         ],
         "y": [
          55,
          77,
          77,
          45,
          46,
          49
         ]
        },
        {
         "marker": {
          "line": {
           "width": 0.1
          },
          "size": 0.5
         },
         "mode": "lines",
         "name": "Killa Abdullah",
         "opacity": 1,
         "type": "scatter",
         "x": [
          2004,
          2006,
          2008,
          2010,
          2012,
          2014
         ],
         "y": [
          65,
          88,
          62,
          33,
          51,
          66
         ]
        },
        {
         "marker": {
          "line": {
           "width": 0.1
          },
          "size": 0.5
         },
         "mode": "lines",
         "name": "Killa Saifullah",
         "opacity": 1,
         "type": "scatter",
         "x": [
          2004,
          2006,
          2008,
          2010,
          2012,
          2014
         ],
         "y": [
          66,
          80,
          73,
          48,
          46,
          46
         ]
        },
        {
         "marker": {
          "line": {
           "width": 0.1
          },
          "size": 0.5
         },
         "mode": "lines",
         "name": "Las Bela",
         "opacity": 1,
         "type": "scatter",
         "x": [
          2004,
          2006,
          2008,
          2010,
          2012,
          2014
         ],
         "y": [
          65,
          79,
          76,
          55,
          41,
          53
         ]
        },
        {
         "marker": {
          "line": {
           "width": 0.1
          },
          "size": 0.5
         },
         "mode": "lines",
         "name": "Lehri",
         "opacity": 1,
         "type": "scatter",
         "x": [
          2004,
          2006,
          2008,
          2010,
          2012,
          2014
         ],
         "y": [
          66,
          77,
          64,
          31,
          30,
          49
         ]
        },
        {
         "marker": {
          "line": {
           "width": 0.1
          },
          "size": 0.5
         },
         "mode": "lines",
         "name": "Loralai",
         "opacity": 1,
         "type": "scatter",
         "x": [
          2004,
          2006,
          2008,
          2010,
          2012,
          2014
         ],
         "y": [
          64,
          79,
          71,
          60,
          28,
          51
         ]
        },
        {
         "marker": {
          "line": {
           "width": 0.1
          },
          "size": 0.5
         },
         "mode": "lines",
         "name": "Mastung",
         "opacity": 1,
         "type": "scatter",
         "x": [
          2004,
          2006,
          2008,
          2010,
          2012,
          2014
         ],
         "y": [
          53,
          69,
          82,
          37,
          44,
          50
         ]
        },
        {
         "marker": {
          "line": {
           "width": 0.1
          },
          "size": 0.5
         },
         "mode": "lines",
         "name": "Musakhel",
         "opacity": 1,
         "type": "scatter",
         "x": [
          2004,
          2006,
          2008,
          2010,
          2012,
          2014
         ],
         "y": [
          67,
          83,
          85,
          66,
          37,
          53
         ]
        },
        {
         "marker": {
          "line": {
           "width": 0.1
          },
          "size": 0.5
         },
         "mode": "lines",
         "name": "Nasirabad",
         "opacity": 1,
         "type": "scatter",
         "x": [
          2004,
          2006,
          2008,
          2010,
          2012,
          2014
         ],
         "y": [
          62,
          77,
          82,
          66,
          61,
          61
         ]
        },
        {
         "marker": {
          "line": {
           "width": 0.1
          },
          "size": 0.5
         },
         "mode": "lines",
         "name": "Nushki",
         "opacity": 1,
         "type": "scatter",
         "x": [
          2004,
          2006,
          2008,
          2010,
          2012,
          2014
         ],
         "y": [
          74,
          82,
          74,
          53,
          48,
          47
         ]
        },
        {
         "marker": {
          "line": {
           "width": 0.1
          },
          "size": 0.5
         },
         "mode": "lines",
         "name": "Pishin",
         "opacity": 1,
         "type": "scatter",
         "x": [
          2004,
          2006,
          2008,
          2010,
          2012,
          2014
         ],
         "y": [
          71,
          81,
          55,
          23,
          43,
          54
         ]
        },
        {
         "marker": {
          "line": {
           "width": 0.1
          },
          "size": 0.5
         },
         "mode": "lines",
         "name": "Quetta",
         "opacity": 1,
         "type": "scatter",
         "x": [
          2004,
          2006,
          2008,
          2010,
          2012,
          2014
         ],
         "y": [
          46,
          53,
          55,
          21,
          22,
          41
         ]
        },
        {
         "marker": {
          "line": {
           "width": 0.1
          },
          "size": 0.5
         },
         "mode": "lines",
         "name": "Sheerani",
         "opacity": 1,
         "type": "scatter",
         "x": [
          2004,
          2006,
          2008,
          2010,
          2012,
          2014
         ],
         "y": [
          71,
          76,
          73,
          45,
          41,
          59
         ]
        },
        {
         "marker": {
          "line": {
           "width": 0.1
          },
          "size": 0.5
         },
         "mode": "lines",
         "name": "Sibi",
         "opacity": 1,
         "type": "scatter",
         "x": [
          2004,
          2006,
          2008,
          2010,
          2012,
          2014
         ],
         "y": [
          66,
          77,
          64,
          31,
          30,
          49
         ]
        },
        {
         "marker": {
          "line": {
           "width": 0.1
          },
          "size": 0.5
         },
         "mode": "lines",
         "name": "Sohbatpur",
         "opacity": 1,
         "type": "scatter",
         "x": [
          2004,
          2006,
          2008,
          2010,
          2012,
          2014
         ],
         "y": [
          49,
          73,
          80,
          64,
          62,
          64
         ]
        },
        {
         "marker": {
          "line": {
           "width": 0.1
          },
          "size": 0.5
         },
         "mode": "lines",
         "name": "Washuk",
         "opacity": 1,
         "type": "scatter",
         "x": [
          2004,
          2006,
          2008,
          2010,
          2012,
          2014
         ],
         "y": [
          60,
          68,
          81,
          53,
          58,
          64
         ]
        },
        {
         "marker": {
          "line": {
           "width": 0.1
          },
          "size": 0.5
         },
         "mode": "lines",
         "name": "Zhob",
         "opacity": 1,
         "type": "scatter",
         "x": [
          2004,
          2006,
          2008,
          2010,
          2012,
          2014
         ],
         "y": [
          71,
          76,
          73,
          55,
          40,
          54
         ]
        },
        {
         "marker": {
          "line": {
           "width": 0.1
          },
          "size": 0.5
         },
         "mode": "lines",
         "name": "Ziarat",
         "opacity": 1,
         "type": "scatter",
         "x": [
          2004,
          2006,
          2008,
          2010,
          2012,
          2014
         ],
         "y": [
          67,
          79,
          54,
          34,
          32,
          64
         ]
        }
       ],
       "layout": {
        "legend": {
         "title": {
          "text": "Cities"
         }
        },
        "template": {
         "data": {
          "bar": [
           {
            "error_x": {
             "color": "#2a3f5f"
            },
            "error_y": {
             "color": "#2a3f5f"
            },
            "marker": {
             "line": {
              "color": "#E5ECF6",
              "width": 0.5
             }
            },
            "type": "bar"
           }
          ],
          "barpolar": [
           {
            "marker": {
             "line": {
              "color": "#E5ECF6",
              "width": 0.5
             }
            },
            "type": "barpolar"
           }
          ],
          "carpet": [
           {
            "aaxis": {
             "endlinecolor": "#2a3f5f",
             "gridcolor": "white",
             "linecolor": "white",
             "minorgridcolor": "white",
             "startlinecolor": "#2a3f5f"
            },
            "baxis": {
             "endlinecolor": "#2a3f5f",
             "gridcolor": "white",
             "linecolor": "white",
             "minorgridcolor": "white",
             "startlinecolor": "#2a3f5f"
            },
            "type": "carpet"
           }
          ],
          "choropleth": [
           {
            "colorbar": {
             "outlinewidth": 0,
             "ticks": ""
            },
            "type": "choropleth"
           }
          ],
          "contour": [
           {
            "colorbar": {
             "outlinewidth": 0,
             "ticks": ""
            },
            "colorscale": [
             [
              0,
              "#0d0887"
             ],
             [
              0.1111111111111111,
              "#46039f"
             ],
             [
              0.2222222222222222,
              "#7201a8"
             ],
             [
              0.3333333333333333,
              "#9c179e"
             ],
             [
              0.4444444444444444,
              "#bd3786"
             ],
             [
              0.5555555555555556,
              "#d8576b"
             ],
             [
              0.6666666666666666,
              "#ed7953"
             ],
             [
              0.7777777777777778,
              "#fb9f3a"
             ],
             [
              0.8888888888888888,
              "#fdca26"
             ],
             [
              1,
              "#f0f921"
             ]
            ],
            "type": "contour"
           }
          ],
          "contourcarpet": [
           {
            "colorbar": {
             "outlinewidth": 0,
             "ticks": ""
            },
            "type": "contourcarpet"
           }
          ],
          "heatmap": [
           {
            "colorbar": {
             "outlinewidth": 0,
             "ticks": ""
            },
            "colorscale": [
             [
              0,
              "#0d0887"
             ],
             [
              0.1111111111111111,
              "#46039f"
             ],
             [
              0.2222222222222222,
              "#7201a8"
             ],
             [
              0.3333333333333333,
              "#9c179e"
             ],
             [
              0.4444444444444444,
              "#bd3786"
             ],
             [
              0.5555555555555556,
              "#d8576b"
             ],
             [
              0.6666666666666666,
              "#ed7953"
             ],
             [
              0.7777777777777778,
              "#fb9f3a"
             ],
             [
              0.8888888888888888,
              "#fdca26"
             ],
             [
              1,
              "#f0f921"
             ]
            ],
            "type": "heatmap"
           }
          ],
          "heatmapgl": [
           {
            "colorbar": {
             "outlinewidth": 0,
             "ticks": ""
            },
            "colorscale": [
             [
              0,
              "#0d0887"
             ],
             [
              0.1111111111111111,
              "#46039f"
             ],
             [
              0.2222222222222222,
              "#7201a8"
             ],
             [
              0.3333333333333333,
              "#9c179e"
             ],
             [
              0.4444444444444444,
              "#bd3786"
             ],
             [
              0.5555555555555556,
              "#d8576b"
             ],
             [
              0.6666666666666666,
              "#ed7953"
             ],
             [
              0.7777777777777778,
              "#fb9f3a"
             ],
             [
              0.8888888888888888,
              "#fdca26"
             ],
             [
              1,
              "#f0f921"
             ]
            ],
            "type": "heatmapgl"
           }
          ],
          "histogram": [
           {
            "marker": {
             "colorbar": {
              "outlinewidth": 0,
              "ticks": ""
             }
            },
            "type": "histogram"
           }
          ],
          "histogram2d": [
           {
            "colorbar": {
             "outlinewidth": 0,
             "ticks": ""
            },
            "colorscale": [
             [
              0,
              "#0d0887"
             ],
             [
              0.1111111111111111,
              "#46039f"
             ],
             [
              0.2222222222222222,
              "#7201a8"
             ],
             [
              0.3333333333333333,
              "#9c179e"
             ],
             [
              0.4444444444444444,
              "#bd3786"
             ],
             [
              0.5555555555555556,
              "#d8576b"
             ],
             [
              0.6666666666666666,
              "#ed7953"
             ],
             [
              0.7777777777777778,
              "#fb9f3a"
             ],
             [
              0.8888888888888888,
              "#fdca26"
             ],
             [
              1,
              "#f0f921"
             ]
            ],
            "type": "histogram2d"
           }
          ],
          "histogram2dcontour": [
           {
            "colorbar": {
             "outlinewidth": 0,
             "ticks": ""
            },
            "colorscale": [
             [
              0,
              "#0d0887"
             ],
             [
              0.1111111111111111,
              "#46039f"
             ],
             [
              0.2222222222222222,
              "#7201a8"
             ],
             [
              0.3333333333333333,
              "#9c179e"
             ],
             [
              0.4444444444444444,
              "#bd3786"
             ],
             [
              0.5555555555555556,
              "#d8576b"
             ],
             [
              0.6666666666666666,
              "#ed7953"
             ],
             [
              0.7777777777777778,
              "#fb9f3a"
             ],
             [
              0.8888888888888888,
              "#fdca26"
             ],
             [
              1,
              "#f0f921"
             ]
            ],
            "type": "histogram2dcontour"
           }
          ],
          "mesh3d": [
           {
            "colorbar": {
             "outlinewidth": 0,
             "ticks": ""
            },
            "type": "mesh3d"
           }
          ],
          "parcoords": [
           {
            "line": {
             "colorbar": {
              "outlinewidth": 0,
              "ticks": ""
             }
            },
            "type": "parcoords"
           }
          ],
          "pie": [
           {
            "automargin": true,
            "type": "pie"
           }
          ],
          "scatter": [
           {
            "marker": {
             "colorbar": {
              "outlinewidth": 0,
              "ticks": ""
             }
            },
            "type": "scatter"
           }
          ],
          "scatter3d": [
           {
            "line": {
             "colorbar": {
              "outlinewidth": 0,
              "ticks": ""
             }
            },
            "marker": {
             "colorbar": {
              "outlinewidth": 0,
              "ticks": ""
             }
            },
            "type": "scatter3d"
           }
          ],
          "scattercarpet": [
           {
            "marker": {
             "colorbar": {
              "outlinewidth": 0,
              "ticks": ""
             }
            },
            "type": "scattercarpet"
           }
          ],
          "scattergeo": [
           {
            "marker": {
             "colorbar": {
              "outlinewidth": 0,
              "ticks": ""
             }
            },
            "type": "scattergeo"
           }
          ],
          "scattergl": [
           {
            "marker": {
             "colorbar": {
              "outlinewidth": 0,
              "ticks": ""
             }
            },
            "type": "scattergl"
           }
          ],
          "scattermapbox": [
           {
            "marker": {
             "colorbar": {
              "outlinewidth": 0,
              "ticks": ""
             }
            },
            "type": "scattermapbox"
           }
          ],
          "scatterpolar": [
           {
            "marker": {
             "colorbar": {
              "outlinewidth": 0,
              "ticks": ""
             }
            },
            "type": "scatterpolar"
           }
          ],
          "scatterpolargl": [
           {
            "marker": {
             "colorbar": {
              "outlinewidth": 0,
              "ticks": ""
             }
            },
            "type": "scatterpolargl"
           }
          ],
          "scatterternary": [
           {
            "marker": {
             "colorbar": {
              "outlinewidth": 0,
              "ticks": ""
             }
            },
            "type": "scatterternary"
           }
          ],
          "surface": [
           {
            "colorbar": {
             "outlinewidth": 0,
             "ticks": ""
            },
            "colorscale": [
             [
              0,
              "#0d0887"
             ],
             [
              0.1111111111111111,
              "#46039f"
             ],
             [
              0.2222222222222222,
              "#7201a8"
             ],
             [
              0.3333333333333333,
              "#9c179e"
             ],
             [
              0.4444444444444444,
              "#bd3786"
             ],
             [
              0.5555555555555556,
              "#d8576b"
             ],
             [
              0.6666666666666666,
              "#ed7953"
             ],
             [
              0.7777777777777778,
              "#fb9f3a"
             ],
             [
              0.8888888888888888,
              "#fdca26"
             ],
             [
              1,
              "#f0f921"
             ]
            ],
            "type": "surface"
           }
          ],
          "table": [
           {
            "cells": {
             "fill": {
              "color": "#EBF0F8"
             },
             "line": {
              "color": "white"
             }
            },
            "header": {
             "fill": {
              "color": "#C8D4E3"
             },
             "line": {
              "color": "white"
             }
            },
            "type": "table"
           }
          ]
         },
         "layout": {
          "annotationdefaults": {
           "arrowcolor": "#2a3f5f",
           "arrowhead": 0,
           "arrowwidth": 1
          },
          "coloraxis": {
           "colorbar": {
            "outlinewidth": 0,
            "ticks": ""
           }
          },
          "colorscale": {
           "diverging": [
            [
             0,
             "#8e0152"
            ],
            [
             0.1,
             "#c51b7d"
            ],
            [
             0.2,
             "#de77ae"
            ],
            [
             0.3,
             "#f1b6da"
            ],
            [
             0.4,
             "#fde0ef"
            ],
            [
             0.5,
             "#f7f7f7"
            ],
            [
             0.6,
             "#e6f5d0"
            ],
            [
             0.7,
             "#b8e186"
            ],
            [
             0.8,
             "#7fbc41"
            ],
            [
             0.9,
             "#4d9221"
            ],
            [
             1,
             "#276419"
            ]
           ],
           "sequential": [
            [
             0,
             "#0d0887"
            ],
            [
             0.1111111111111111,
             "#46039f"
            ],
            [
             0.2222222222222222,
             "#7201a8"
            ],
            [
             0.3333333333333333,
             "#9c179e"
            ],
            [
             0.4444444444444444,
             "#bd3786"
            ],
            [
             0.5555555555555556,
             "#d8576b"
            ],
            [
             0.6666666666666666,
             "#ed7953"
            ],
            [
             0.7777777777777778,
             "#fb9f3a"
            ],
            [
             0.8888888888888888,
             "#fdca26"
            ],
            [
             1,
             "#f0f921"
            ]
           ],
           "sequentialminus": [
            [
             0,
             "#0d0887"
            ],
            [
             0.1111111111111111,
             "#46039f"
            ],
            [
             0.2222222222222222,
             "#7201a8"
            ],
            [
             0.3333333333333333,
             "#9c179e"
            ],
            [
             0.4444444444444444,
             "#bd3786"
            ],
            [
             0.5555555555555556,
             "#d8576b"
            ],
            [
             0.6666666666666666,
             "#ed7953"
            ],
            [
             0.7777777777777778,
             "#fb9f3a"
            ],
            [
             0.8888888888888888,
             "#fdca26"
            ],
            [
             1,
             "#f0f921"
            ]
           ]
          },
          "colorway": [
           "#636efa",
           "#EF553B",
           "#00cc96",
           "#ab63fa",
           "#FFA15A",
           "#19d3f3",
           "#FF6692",
           "#B6E880",
           "#FF97FF",
           "#FECB52"
          ],
          "font": {
           "color": "#2a3f5f"
          },
          "geo": {
           "bgcolor": "white",
           "lakecolor": "white",
           "landcolor": "#E5ECF6",
           "showlakes": true,
           "showland": true,
           "subunitcolor": "white"
          },
          "hoverlabel": {
           "align": "left"
          },
          "hovermode": "closest",
          "mapbox": {
           "style": "light"
          },
          "paper_bgcolor": "white",
          "plot_bgcolor": "#E5ECF6",
          "polar": {
           "angularaxis": {
            "gridcolor": "white",
            "linecolor": "white",
            "ticks": ""
           },
           "bgcolor": "#E5ECF6",
           "radialaxis": {
            "gridcolor": "white",
            "linecolor": "white",
            "ticks": ""
           }
          },
          "scene": {
           "xaxis": {
            "backgroundcolor": "#E5ECF6",
            "gridcolor": "white",
            "gridwidth": 2,
            "linecolor": "white",
            "showbackground": true,
            "ticks": "",
            "zerolinecolor": "white"
           },
           "yaxis": {
            "backgroundcolor": "#E5ECF6",
            "gridcolor": "white",
            "gridwidth": 2,
            "linecolor": "white",
            "showbackground": true,
            "ticks": "",
            "zerolinecolor": "white"
           },
           "zaxis": {
            "backgroundcolor": "#E5ECF6",
            "gridcolor": "white",
            "gridwidth": 2,
            "linecolor": "white",
            "showbackground": true,
            "ticks": "",
            "zerolinecolor": "white"
           }
          },
          "shapedefaults": {
           "line": {
            "color": "#2a3f5f"
           }
          },
          "ternary": {
           "aaxis": {
            "gridcolor": "white",
            "linecolor": "white",
            "ticks": ""
           },
           "baxis": {
            "gridcolor": "white",
            "linecolor": "white",
            "ticks": ""
           },
           "bgcolor": "#E5ECF6",
           "caxis": {
            "gridcolor": "white",
            "linecolor": "white",
            "ticks": ""
           }
          },
          "title": {
           "x": 0.05
          },
          "xaxis": {
           "automargin": true,
           "gridcolor": "white",
           "linecolor": "white",
           "ticks": "",
           "title": {
            "standoff": 15
           },
           "zerolinecolor": "white",
           "zerolinewidth": 2
          },
          "yaxis": {
           "automargin": true,
           "gridcolor": "white",
           "linecolor": "white",
           "ticks": "",
           "title": {
            "standoff": 15
           },
           "zerolinecolor": "white",
           "zerolinewidth": 2
          }
         }
        },
        "xaxis": {
         "range": [
          2004,
          2014
         ]
        },
        "yaxis": {
         "range": [
          0,
          100
         ]
        }
       }
      },
      "text/html": [
       "<div>\n",
       "        \n",
       "        \n",
       "            <div id=\"4cc0df0a-0023-4fe9-ace8-cb27737a93e4\" class=\"plotly-graph-div\" style=\"height:525px; width:100%;\"></div>\n",
       "            <script type=\"text/javascript\">\n",
       "                require([\"plotly\"], function(Plotly) {\n",
       "                    window.PLOTLYENV=window.PLOTLYENV || {};\n",
       "                    \n",
       "                if (document.getElementById(\"4cc0df0a-0023-4fe9-ace8-cb27737a93e4\")) {\n",
       "                    Plotly.newPlot(\n",
       "                        '4cc0df0a-0023-4fe9-ace8-cb27737a93e4',\n",
       "                        [{\"marker\": {\"line\": {\"width\": 0.1}, \"size\": 0.5}, \"mode\": \"lines\", \"name\": \"Awaran\", \"opacity\": 1, \"type\": \"scatter\", \"x\": [2004, 2006, 2008, 2010, 2012, 2014], \"y\": [57.0, 69.0, 83.0, 42.0, 68.0, 57.0]}, {\"marker\": {\"line\": {\"width\": 0.1}, \"size\": 0.5}, \"mode\": \"lines\", \"name\": \"Barkhan\", \"opacity\": 1, \"type\": \"scatter\", \"x\": [2004, 2006, 2008, 2010, 2012, 2014], \"y\": [61.0, 76.0, 82.0, 64.0, 51.0, 59.0]}, {\"marker\": {\"line\": {\"width\": 0.1}, \"size\": 0.5}, \"mode\": \"lines\", \"name\": \"Chagai\", \"opacity\": 1, \"type\": \"scatter\", \"x\": [2004, 2006, 2008, 2010, 2012, 2014], \"y\": [74.0, 82.0, 74.0, 56.0, 53.0, 58.0]}, {\"marker\": {\"line\": {\"width\": 0.1}, \"size\": 0.5}, \"mode\": \"lines\", \"name\": \"Gwadar\", \"opacity\": 1, \"type\": \"scatter\", \"x\": [2004, 2006, 2008, 2010, 2012, 2014], \"y\": [49.0, 59.0, 71.0, 50.0, 35.0, 47.0]}, {\"marker\": {\"line\": {\"width\": 0.1}, \"size\": 0.5}, \"mode\": \"lines\", \"name\": \"Harnai\", \"opacity\": 1, \"type\": \"scatter\", \"x\": [2004, 2006, 2008, 2010, 2012, 2014], \"y\": [66.0, 77.0, 64.0, 19.0, 35.0, 65.0]}, {\"marker\": {\"line\": {\"width\": 0.1}, \"size\": 0.5}, \"mode\": \"lines\", \"name\": \"Jaffarabad\", \"opacity\": 1, \"type\": \"scatter\", \"x\": [2004, 2006, 2008, 2010, 2012, 2014], \"y\": [49.0, 73.0, 80.0, 64.0, 62.0, 64.0]}, {\"marker\": {\"line\": {\"width\": 0.1}, \"size\": 0.5}, \"mode\": \"lines\", \"name\": \"Jhal Magsi\", \"opacity\": 1, \"type\": \"scatter\", \"x\": [2004, 2006, 2008, 2010, 2012, 2014], \"y\": [71.0, 86.0, 81.0, 56.0, 46.0, 65.0]}, {\"marker\": {\"line\": {\"width\": 0.1}, \"size\": 0.5}, \"mode\": \"lines\", \"name\": \"Kachhi\", \"opacity\": 1, \"type\": \"scatter\", \"x\": [2004, 2006, 2008, 2010, 2012, 2014], \"y\": [64.0, 76.0, 84.0, 55.0, 49.0, 57.0]}, {\"marker\": {\"line\": {\"width\": 0.1}, \"size\": 0.5}, \"mode\": \"lines\", \"name\": \"Kalat\", \"opacity\": 1, \"type\": \"scatter\", \"x\": [2004, 2006, 2008, 2010, 2012, 2014], \"y\": [52.0, 74.0, 83.0, 42.0, 50.0, 44.0]}, {\"marker\": {\"line\": {\"width\": 0.1}, \"size\": 0.5}, \"mode\": \"lines\", \"name\": \"Kharan\", \"opacity\": 1, \"type\": \"scatter\", \"x\": [2004, 2006, 2008, 2010, 2012, 2014], \"y\": [60.0, 68.0, 75.0, 56.0, 50.0, 58.0]}, {\"marker\": {\"line\": {\"width\": 0.1}, \"size\": 0.5}, \"mode\": \"lines\", \"name\": \"Khuzdar\", \"opacity\": 1, \"type\": \"scatter\", \"x\": [2004, 2006, 2008, 2010, 2012, 2014], \"y\": [55.0, 77.0, 77.0, 45.0, 46.0, 49.0]}, {\"marker\": {\"line\": {\"width\": 0.1}, \"size\": 0.5}, \"mode\": \"lines\", \"name\": \"Killa Abdullah\", \"opacity\": 1, \"type\": \"scatter\", \"x\": [2004, 2006, 2008, 2010, 2012, 2014], \"y\": [65.0, 88.0, 62.0, 33.0, 51.0, 66.0]}, {\"marker\": {\"line\": {\"width\": 0.1}, \"size\": 0.5}, \"mode\": \"lines\", \"name\": \"Killa Saifullah\", \"opacity\": 1, \"type\": \"scatter\", \"x\": [2004, 2006, 2008, 2010, 2012, 2014], \"y\": [66.0, 80.0, 73.0, 48.0, 46.0, 46.0]}, {\"marker\": {\"line\": {\"width\": 0.1}, \"size\": 0.5}, \"mode\": \"lines\", \"name\": \"Las Bela\", \"opacity\": 1, \"type\": \"scatter\", \"x\": [2004, 2006, 2008, 2010, 2012, 2014], \"y\": [65.0, 79.0, 76.0, 55.0, 41.0, 53.0]}, {\"marker\": {\"line\": {\"width\": 0.1}, \"size\": 0.5}, \"mode\": \"lines\", \"name\": \"Lehri\", \"opacity\": 1, \"type\": \"scatter\", \"x\": [2004, 2006, 2008, 2010, 2012, 2014], \"y\": [66.0, 77.0, 64.0, 31.0, 30.0, 49.0]}, {\"marker\": {\"line\": {\"width\": 0.1}, \"size\": 0.5}, \"mode\": \"lines\", \"name\": \"Loralai\", \"opacity\": 1, \"type\": \"scatter\", \"x\": [2004, 2006, 2008, 2010, 2012, 2014], \"y\": [64.0, 79.0, 71.0, 60.0, 28.0, 51.0]}, {\"marker\": {\"line\": {\"width\": 0.1}, \"size\": 0.5}, \"mode\": \"lines\", \"name\": \"Mastung\", \"opacity\": 1, \"type\": \"scatter\", \"x\": [2004, 2006, 2008, 2010, 2012, 2014], \"y\": [53.0, 69.0, 82.0, 37.0, 44.0, 50.0]}, {\"marker\": {\"line\": {\"width\": 0.1}, \"size\": 0.5}, \"mode\": \"lines\", \"name\": \"Musakhel\", \"opacity\": 1, \"type\": \"scatter\", \"x\": [2004, 2006, 2008, 2010, 2012, 2014], \"y\": [67.0, 83.0, 85.0, 66.0, 37.0, 53.0]}, {\"marker\": {\"line\": {\"width\": 0.1}, \"size\": 0.5}, \"mode\": \"lines\", \"name\": \"Nasirabad\", \"opacity\": 1, \"type\": \"scatter\", \"x\": [2004, 2006, 2008, 2010, 2012, 2014], \"y\": [62.0, 77.0, 82.0, 66.0, 61.0, 61.0]}, {\"marker\": {\"line\": {\"width\": 0.1}, \"size\": 0.5}, \"mode\": \"lines\", \"name\": \"Nushki\", \"opacity\": 1, \"type\": \"scatter\", \"x\": [2004, 2006, 2008, 2010, 2012, 2014], \"y\": [74.0, 82.0, 74.0, 53.0, 48.0, 47.0]}, {\"marker\": {\"line\": {\"width\": 0.1}, \"size\": 0.5}, \"mode\": \"lines\", \"name\": \"Pishin\", \"opacity\": 1, \"type\": \"scatter\", \"x\": [2004, 2006, 2008, 2010, 2012, 2014], \"y\": [71.0, 81.0, 55.0, 23.0, 43.0, 54.0]}, {\"marker\": {\"line\": {\"width\": 0.1}, \"size\": 0.5}, \"mode\": \"lines\", \"name\": \"Quetta\", \"opacity\": 1, \"type\": \"scatter\", \"x\": [2004, 2006, 2008, 2010, 2012, 2014], \"y\": [46.0, 53.0, 55.0, 21.0, 22.0, 41.0]}, {\"marker\": {\"line\": {\"width\": 0.1}, \"size\": 0.5}, \"mode\": \"lines\", \"name\": \"Sheerani\", \"opacity\": 1, \"type\": \"scatter\", \"x\": [2004, 2006, 2008, 2010, 2012, 2014], \"y\": [71.0, 76.0, 73.0, 45.0, 41.0, 59.0]}, {\"marker\": {\"line\": {\"width\": 0.1}, \"size\": 0.5}, \"mode\": \"lines\", \"name\": \"Sibi\", \"opacity\": 1, \"type\": \"scatter\", \"x\": [2004, 2006, 2008, 2010, 2012, 2014], \"y\": [66.0, 77.0, 64.0, 31.0, 30.0, 49.0]}, {\"marker\": {\"line\": {\"width\": 0.1}, \"size\": 0.5}, \"mode\": \"lines\", \"name\": \"Sohbatpur\", \"opacity\": 1, \"type\": \"scatter\", \"x\": [2004, 2006, 2008, 2010, 2012, 2014], \"y\": [49.0, 73.0, 80.0, 64.0, 62.0, 64.0]}, {\"marker\": {\"line\": {\"width\": 0.1}, \"size\": 0.5}, \"mode\": \"lines\", \"name\": \"Washuk\", \"opacity\": 1, \"type\": \"scatter\", \"x\": [2004, 2006, 2008, 2010, 2012, 2014], \"y\": [60.0, 68.0, 81.0, 53.0, 58.0, 64.0]}, {\"marker\": {\"line\": {\"width\": 0.1}, \"size\": 0.5}, \"mode\": \"lines\", \"name\": \"Zhob\", \"opacity\": 1, \"type\": \"scatter\", \"x\": [2004, 2006, 2008, 2010, 2012, 2014], \"y\": [71.0, 76.0, 73.0, 55.0, 40.0, 54.0]}, {\"marker\": {\"line\": {\"width\": 0.1}, \"size\": 0.5}, \"mode\": \"lines\", \"name\": \"Ziarat\", \"opacity\": 1, \"type\": \"scatter\", \"x\": [2004, 2006, 2008, 2010, 2012, 2014], \"y\": [67.0, 79.0, 54.0, 34.0, 32.0, 64.0]}],\n",
       "                        {\"legend\": {\"title\": {\"text\": \"Cities\"}}, \"template\": {\"data\": {\"bar\": [{\"error_x\": {\"color\": \"#2a3f5f\"}, \"error_y\": {\"color\": \"#2a3f5f\"}, \"marker\": {\"line\": {\"color\": \"#E5ECF6\", \"width\": 0.5}}, \"type\": \"bar\"}], \"barpolar\": [{\"marker\": {\"line\": {\"color\": \"#E5ECF6\", \"width\": 0.5}}, \"type\": \"barpolar\"}], \"carpet\": [{\"aaxis\": {\"endlinecolor\": \"#2a3f5f\", \"gridcolor\": \"white\", \"linecolor\": \"white\", \"minorgridcolor\": \"white\", \"startlinecolor\": \"#2a3f5f\"}, \"baxis\": {\"endlinecolor\": \"#2a3f5f\", \"gridcolor\": \"white\", \"linecolor\": \"white\", \"minorgridcolor\": \"white\", \"startlinecolor\": \"#2a3f5f\"}, \"type\": \"carpet\"}], \"choropleth\": [{\"colorbar\": {\"outlinewidth\": 0, \"ticks\": \"\"}, \"type\": \"choropleth\"}], \"contour\": [{\"colorbar\": {\"outlinewidth\": 0, \"ticks\": \"\"}, \"colorscale\": [[0.0, \"#0d0887\"], [0.1111111111111111, \"#46039f\"], [0.2222222222222222, \"#7201a8\"], [0.3333333333333333, \"#9c179e\"], [0.4444444444444444, \"#bd3786\"], [0.5555555555555556, \"#d8576b\"], [0.6666666666666666, \"#ed7953\"], [0.7777777777777778, \"#fb9f3a\"], [0.8888888888888888, \"#fdca26\"], [1.0, \"#f0f921\"]], \"type\": \"contour\"}], \"contourcarpet\": [{\"colorbar\": {\"outlinewidth\": 0, \"ticks\": \"\"}, \"type\": \"contourcarpet\"}], \"heatmap\": [{\"colorbar\": {\"outlinewidth\": 0, \"ticks\": \"\"}, \"colorscale\": [[0.0, \"#0d0887\"], [0.1111111111111111, \"#46039f\"], [0.2222222222222222, \"#7201a8\"], [0.3333333333333333, \"#9c179e\"], [0.4444444444444444, \"#bd3786\"], [0.5555555555555556, \"#d8576b\"], [0.6666666666666666, \"#ed7953\"], [0.7777777777777778, \"#fb9f3a\"], [0.8888888888888888, \"#fdca26\"], [1.0, \"#f0f921\"]], \"type\": \"heatmap\"}], \"heatmapgl\": [{\"colorbar\": {\"outlinewidth\": 0, \"ticks\": \"\"}, \"colorscale\": [[0.0, \"#0d0887\"], [0.1111111111111111, \"#46039f\"], [0.2222222222222222, \"#7201a8\"], [0.3333333333333333, \"#9c179e\"], [0.4444444444444444, \"#bd3786\"], [0.5555555555555556, \"#d8576b\"], [0.6666666666666666, \"#ed7953\"], [0.7777777777777778, \"#fb9f3a\"], [0.8888888888888888, \"#fdca26\"], [1.0, \"#f0f921\"]], \"type\": \"heatmapgl\"}], \"histogram\": [{\"marker\": {\"colorbar\": {\"outlinewidth\": 0, \"ticks\": \"\"}}, \"type\": \"histogram\"}], \"histogram2d\": [{\"colorbar\": {\"outlinewidth\": 0, \"ticks\": \"\"}, \"colorscale\": [[0.0, \"#0d0887\"], [0.1111111111111111, \"#46039f\"], [0.2222222222222222, \"#7201a8\"], [0.3333333333333333, \"#9c179e\"], [0.4444444444444444, \"#bd3786\"], [0.5555555555555556, \"#d8576b\"], [0.6666666666666666, \"#ed7953\"], [0.7777777777777778, \"#fb9f3a\"], [0.8888888888888888, \"#fdca26\"], [1.0, \"#f0f921\"]], \"type\": \"histogram2d\"}], \"histogram2dcontour\": [{\"colorbar\": {\"outlinewidth\": 0, \"ticks\": \"\"}, \"colorscale\": [[0.0, \"#0d0887\"], [0.1111111111111111, \"#46039f\"], [0.2222222222222222, \"#7201a8\"], [0.3333333333333333, \"#9c179e\"], [0.4444444444444444, \"#bd3786\"], [0.5555555555555556, \"#d8576b\"], [0.6666666666666666, \"#ed7953\"], [0.7777777777777778, \"#fb9f3a\"], [0.8888888888888888, \"#fdca26\"], [1.0, \"#f0f921\"]], \"type\": \"histogram2dcontour\"}], \"mesh3d\": [{\"colorbar\": {\"outlinewidth\": 0, \"ticks\": \"\"}, \"type\": \"mesh3d\"}], \"parcoords\": [{\"line\": {\"colorbar\": {\"outlinewidth\": 0, \"ticks\": \"\"}}, \"type\": \"parcoords\"}], \"pie\": [{\"automargin\": true, \"type\": \"pie\"}], \"scatter\": [{\"marker\": {\"colorbar\": {\"outlinewidth\": 0, \"ticks\": \"\"}}, \"type\": \"scatter\"}], \"scatter3d\": [{\"line\": {\"colorbar\": {\"outlinewidth\": 0, \"ticks\": \"\"}}, \"marker\": {\"colorbar\": {\"outlinewidth\": 0, \"ticks\": \"\"}}, \"type\": \"scatter3d\"}], \"scattercarpet\": [{\"marker\": {\"colorbar\": {\"outlinewidth\": 0, \"ticks\": \"\"}}, \"type\": \"scattercarpet\"}], \"scattergeo\": [{\"marker\": {\"colorbar\": {\"outlinewidth\": 0, \"ticks\": \"\"}}, \"type\": \"scattergeo\"}], \"scattergl\": [{\"marker\": {\"colorbar\": {\"outlinewidth\": 0, \"ticks\": \"\"}}, \"type\": \"scattergl\"}], \"scattermapbox\": [{\"marker\": {\"colorbar\": {\"outlinewidth\": 0, \"ticks\": \"\"}}, \"type\": \"scattermapbox\"}], \"scatterpolar\": [{\"marker\": {\"colorbar\": {\"outlinewidth\": 0, \"ticks\": \"\"}}, \"type\": \"scatterpolar\"}], \"scatterpolargl\": [{\"marker\": {\"colorbar\": {\"outlinewidth\": 0, \"ticks\": \"\"}}, \"type\": \"scatterpolargl\"}], \"scatterternary\": [{\"marker\": {\"colorbar\": {\"outlinewidth\": 0, \"ticks\": \"\"}}, \"type\": \"scatterternary\"}], \"surface\": [{\"colorbar\": {\"outlinewidth\": 0, \"ticks\": \"\"}, \"colorscale\": [[0.0, \"#0d0887\"], [0.1111111111111111, \"#46039f\"], [0.2222222222222222, \"#7201a8\"], [0.3333333333333333, \"#9c179e\"], [0.4444444444444444, \"#bd3786\"], [0.5555555555555556, \"#d8576b\"], [0.6666666666666666, \"#ed7953\"], [0.7777777777777778, \"#fb9f3a\"], [0.8888888888888888, \"#fdca26\"], [1.0, \"#f0f921\"]], \"type\": \"surface\"}], \"table\": [{\"cells\": {\"fill\": {\"color\": \"#EBF0F8\"}, \"line\": {\"color\": \"white\"}}, \"header\": {\"fill\": {\"color\": \"#C8D4E3\"}, \"line\": {\"color\": \"white\"}}, \"type\": \"table\"}]}, \"layout\": {\"annotationdefaults\": {\"arrowcolor\": \"#2a3f5f\", \"arrowhead\": 0, \"arrowwidth\": 1}, \"coloraxis\": {\"colorbar\": {\"outlinewidth\": 0, \"ticks\": \"\"}}, \"colorscale\": {\"diverging\": [[0, \"#8e0152\"], [0.1, \"#c51b7d\"], [0.2, \"#de77ae\"], [0.3, \"#f1b6da\"], [0.4, \"#fde0ef\"], [0.5, \"#f7f7f7\"], [0.6, \"#e6f5d0\"], [0.7, \"#b8e186\"], [0.8, \"#7fbc41\"], [0.9, \"#4d9221\"], [1, \"#276419\"]], \"sequential\": [[0.0, \"#0d0887\"], [0.1111111111111111, \"#46039f\"], [0.2222222222222222, \"#7201a8\"], [0.3333333333333333, \"#9c179e\"], [0.4444444444444444, \"#bd3786\"], [0.5555555555555556, \"#d8576b\"], [0.6666666666666666, \"#ed7953\"], [0.7777777777777778, \"#fb9f3a\"], [0.8888888888888888, \"#fdca26\"], [1.0, \"#f0f921\"]], \"sequentialminus\": [[0.0, \"#0d0887\"], [0.1111111111111111, \"#46039f\"], [0.2222222222222222, \"#7201a8\"], [0.3333333333333333, \"#9c179e\"], [0.4444444444444444, \"#bd3786\"], [0.5555555555555556, \"#d8576b\"], [0.6666666666666666, \"#ed7953\"], [0.7777777777777778, \"#fb9f3a\"], [0.8888888888888888, \"#fdca26\"], [1.0, \"#f0f921\"]]}, \"colorway\": [\"#636efa\", \"#EF553B\", \"#00cc96\", \"#ab63fa\", \"#FFA15A\", \"#19d3f3\", \"#FF6692\", \"#B6E880\", \"#FF97FF\", \"#FECB52\"], \"font\": {\"color\": \"#2a3f5f\"}, \"geo\": {\"bgcolor\": \"white\", \"lakecolor\": \"white\", \"landcolor\": \"#E5ECF6\", \"showlakes\": true, \"showland\": true, \"subunitcolor\": \"white\"}, \"hoverlabel\": {\"align\": \"left\"}, \"hovermode\": \"closest\", \"mapbox\": {\"style\": \"light\"}, \"paper_bgcolor\": \"white\", \"plot_bgcolor\": \"#E5ECF6\", \"polar\": {\"angularaxis\": {\"gridcolor\": \"white\", \"linecolor\": \"white\", \"ticks\": \"\"}, \"bgcolor\": \"#E5ECF6\", \"radialaxis\": {\"gridcolor\": \"white\", \"linecolor\": \"white\", \"ticks\": \"\"}}, \"scene\": {\"xaxis\": {\"backgroundcolor\": \"#E5ECF6\", \"gridcolor\": \"white\", \"gridwidth\": 2, \"linecolor\": \"white\", \"showbackground\": true, \"ticks\": \"\", \"zerolinecolor\": \"white\"}, \"yaxis\": {\"backgroundcolor\": \"#E5ECF6\", \"gridcolor\": \"white\", \"gridwidth\": 2, \"linecolor\": \"white\", \"showbackground\": true, \"ticks\": \"\", \"zerolinecolor\": \"white\"}, \"zaxis\": {\"backgroundcolor\": \"#E5ECF6\", \"gridcolor\": \"white\", \"gridwidth\": 2, \"linecolor\": \"white\", \"showbackground\": true, \"ticks\": \"\", \"zerolinecolor\": \"white\"}}, \"shapedefaults\": {\"line\": {\"color\": \"#2a3f5f\"}}, \"ternary\": {\"aaxis\": {\"gridcolor\": \"white\", \"linecolor\": \"white\", \"ticks\": \"\"}, \"baxis\": {\"gridcolor\": \"white\", \"linecolor\": \"white\", \"ticks\": \"\"}, \"bgcolor\": \"#E5ECF6\", \"caxis\": {\"gridcolor\": \"white\", \"linecolor\": \"white\", \"ticks\": \"\"}}, \"title\": {\"x\": 0.05}, \"xaxis\": {\"automargin\": true, \"gridcolor\": \"white\", \"linecolor\": \"white\", \"ticks\": \"\", \"title\": {\"standoff\": 15}, \"zerolinecolor\": \"white\", \"zerolinewidth\": 2}, \"yaxis\": {\"automargin\": true, \"gridcolor\": \"white\", \"linecolor\": \"white\", \"ticks\": \"\", \"title\": {\"standoff\": 15}, \"zerolinecolor\": \"white\", \"zerolinewidth\": 2}}}, \"xaxis\": {\"range\": [2004, 2014]}, \"yaxis\": {\"range\": [0, 100]}},\n",
       "                        {\"responsive\": true}\n",
       "                    ).then(function(){\n",
       "                            \n",
       "var gd = document.getElementById('4cc0df0a-0023-4fe9-ace8-cb27737a93e4');\n",
       "var x = new MutationObserver(function (mutations, observer) {{\n",
       "        var display = window.getComputedStyle(gd).display;\n",
       "        if (!display || display === 'none') {{\n",
       "            console.log([gd, 'removed!']);\n",
       "            Plotly.purge(gd);\n",
       "            observer.disconnect();\n",
       "        }}\n",
       "}});\n",
       "\n",
       "// Listen for the removal of the full notebook cells\n",
       "var notebookContainer = gd.closest('#notebook-container');\n",
       "if (notebookContainer) {{\n",
       "    x.observe(notebookContainer, {childList: true});\n",
       "}}\n",
       "\n",
       "// Listen for the clearing of the current output cell\n",
       "var outputEl = gd.closest('.output');\n",
       "if (outputEl) {{\n",
       "    x.observe(outputEl, {childList: true});\n",
       "}}\n",
       "\n",
       "                        })\n",
       "                };\n",
       "                });\n",
       "            </script>\n",
       "        </div>"
      ]
     },
     "metadata": {},
     "output_type": "display_data"
    },
    {
     "name": "stdout",
     "output_type": "stream",
     "text": [
      "FEDERAL CAPITAL TERRITORY\n"
     ]
    },
    {
     "data": {
      "application/vnd.plotly.v1+json": {
       "config": {
        "plotlyServerURL": "https://plot.ly"
       },
       "data": [
        {
         "marker": {
          "line": {
           "width": 0.1
          },
          "size": 0.5
         },
         "mode": "lines",
         "name": "Islamabad",
         "opacity": 1,
         "type": "scatter",
         "x": [
          2004,
          2006,
          2008,
          2010,
          2014
         ],
         "y": [
          21,
          12,
          9,
          13,
          8
         ]
        }
       ],
       "layout": {
        "legend": {
         "title": {
          "text": "Cities"
         }
        },
        "template": {
         "data": {
          "bar": [
           {
            "error_x": {
             "color": "#2a3f5f"
            },
            "error_y": {
             "color": "#2a3f5f"
            },
            "marker": {
             "line": {
              "color": "#E5ECF6",
              "width": 0.5
             }
            },
            "type": "bar"
           }
          ],
          "barpolar": [
           {
            "marker": {
             "line": {
              "color": "#E5ECF6",
              "width": 0.5
             }
            },
            "type": "barpolar"
           }
          ],
          "carpet": [
           {
            "aaxis": {
             "endlinecolor": "#2a3f5f",
             "gridcolor": "white",
             "linecolor": "white",
             "minorgridcolor": "white",
             "startlinecolor": "#2a3f5f"
            },
            "baxis": {
             "endlinecolor": "#2a3f5f",
             "gridcolor": "white",
             "linecolor": "white",
             "minorgridcolor": "white",
             "startlinecolor": "#2a3f5f"
            },
            "type": "carpet"
           }
          ],
          "choropleth": [
           {
            "colorbar": {
             "outlinewidth": 0,
             "ticks": ""
            },
            "type": "choropleth"
           }
          ],
          "contour": [
           {
            "colorbar": {
             "outlinewidth": 0,
             "ticks": ""
            },
            "colorscale": [
             [
              0,
              "#0d0887"
             ],
             [
              0.1111111111111111,
              "#46039f"
             ],
             [
              0.2222222222222222,
              "#7201a8"
             ],
             [
              0.3333333333333333,
              "#9c179e"
             ],
             [
              0.4444444444444444,
              "#bd3786"
             ],
             [
              0.5555555555555556,
              "#d8576b"
             ],
             [
              0.6666666666666666,
              "#ed7953"
             ],
             [
              0.7777777777777778,
              "#fb9f3a"
             ],
             [
              0.8888888888888888,
              "#fdca26"
             ],
             [
              1,
              "#f0f921"
             ]
            ],
            "type": "contour"
           }
          ],
          "contourcarpet": [
           {
            "colorbar": {
             "outlinewidth": 0,
             "ticks": ""
            },
            "type": "contourcarpet"
           }
          ],
          "heatmap": [
           {
            "colorbar": {
             "outlinewidth": 0,
             "ticks": ""
            },
            "colorscale": [
             [
              0,
              "#0d0887"
             ],
             [
              0.1111111111111111,
              "#46039f"
             ],
             [
              0.2222222222222222,
              "#7201a8"
             ],
             [
              0.3333333333333333,
              "#9c179e"
             ],
             [
              0.4444444444444444,
              "#bd3786"
             ],
             [
              0.5555555555555556,
              "#d8576b"
             ],
             [
              0.6666666666666666,
              "#ed7953"
             ],
             [
              0.7777777777777778,
              "#fb9f3a"
             ],
             [
              0.8888888888888888,
              "#fdca26"
             ],
             [
              1,
              "#f0f921"
             ]
            ],
            "type": "heatmap"
           }
          ],
          "heatmapgl": [
           {
            "colorbar": {
             "outlinewidth": 0,
             "ticks": ""
            },
            "colorscale": [
             [
              0,
              "#0d0887"
             ],
             [
              0.1111111111111111,
              "#46039f"
             ],
             [
              0.2222222222222222,
              "#7201a8"
             ],
             [
              0.3333333333333333,
              "#9c179e"
             ],
             [
              0.4444444444444444,
              "#bd3786"
             ],
             [
              0.5555555555555556,
              "#d8576b"
             ],
             [
              0.6666666666666666,
              "#ed7953"
             ],
             [
              0.7777777777777778,
              "#fb9f3a"
             ],
             [
              0.8888888888888888,
              "#fdca26"
             ],
             [
              1,
              "#f0f921"
             ]
            ],
            "type": "heatmapgl"
           }
          ],
          "histogram": [
           {
            "marker": {
             "colorbar": {
              "outlinewidth": 0,
              "ticks": ""
             }
            },
            "type": "histogram"
           }
          ],
          "histogram2d": [
           {
            "colorbar": {
             "outlinewidth": 0,
             "ticks": ""
            },
            "colorscale": [
             [
              0,
              "#0d0887"
             ],
             [
              0.1111111111111111,
              "#46039f"
             ],
             [
              0.2222222222222222,
              "#7201a8"
             ],
             [
              0.3333333333333333,
              "#9c179e"
             ],
             [
              0.4444444444444444,
              "#bd3786"
             ],
             [
              0.5555555555555556,
              "#d8576b"
             ],
             [
              0.6666666666666666,
              "#ed7953"
             ],
             [
              0.7777777777777778,
              "#fb9f3a"
             ],
             [
              0.8888888888888888,
              "#fdca26"
             ],
             [
              1,
              "#f0f921"
             ]
            ],
            "type": "histogram2d"
           }
          ],
          "histogram2dcontour": [
           {
            "colorbar": {
             "outlinewidth": 0,
             "ticks": ""
            },
            "colorscale": [
             [
              0,
              "#0d0887"
             ],
             [
              0.1111111111111111,
              "#46039f"
             ],
             [
              0.2222222222222222,
              "#7201a8"
             ],
             [
              0.3333333333333333,
              "#9c179e"
             ],
             [
              0.4444444444444444,
              "#bd3786"
             ],
             [
              0.5555555555555556,
              "#d8576b"
             ],
             [
              0.6666666666666666,
              "#ed7953"
             ],
             [
              0.7777777777777778,
              "#fb9f3a"
             ],
             [
              0.8888888888888888,
              "#fdca26"
             ],
             [
              1,
              "#f0f921"
             ]
            ],
            "type": "histogram2dcontour"
           }
          ],
          "mesh3d": [
           {
            "colorbar": {
             "outlinewidth": 0,
             "ticks": ""
            },
            "type": "mesh3d"
           }
          ],
          "parcoords": [
           {
            "line": {
             "colorbar": {
              "outlinewidth": 0,
              "ticks": ""
             }
            },
            "type": "parcoords"
           }
          ],
          "pie": [
           {
            "automargin": true,
            "type": "pie"
           }
          ],
          "scatter": [
           {
            "marker": {
             "colorbar": {
              "outlinewidth": 0,
              "ticks": ""
             }
            },
            "type": "scatter"
           }
          ],
          "scatter3d": [
           {
            "line": {
             "colorbar": {
              "outlinewidth": 0,
              "ticks": ""
             }
            },
            "marker": {
             "colorbar": {
              "outlinewidth": 0,
              "ticks": ""
             }
            },
            "type": "scatter3d"
           }
          ],
          "scattercarpet": [
           {
            "marker": {
             "colorbar": {
              "outlinewidth": 0,
              "ticks": ""
             }
            },
            "type": "scattercarpet"
           }
          ],
          "scattergeo": [
           {
            "marker": {
             "colorbar": {
              "outlinewidth": 0,
              "ticks": ""
             }
            },
            "type": "scattergeo"
           }
          ],
          "scattergl": [
           {
            "marker": {
             "colorbar": {
              "outlinewidth": 0,
              "ticks": ""
             }
            },
            "type": "scattergl"
           }
          ],
          "scattermapbox": [
           {
            "marker": {
             "colorbar": {
              "outlinewidth": 0,
              "ticks": ""
             }
            },
            "type": "scattermapbox"
           }
          ],
          "scatterpolar": [
           {
            "marker": {
             "colorbar": {
              "outlinewidth": 0,
              "ticks": ""
             }
            },
            "type": "scatterpolar"
           }
          ],
          "scatterpolargl": [
           {
            "marker": {
             "colorbar": {
              "outlinewidth": 0,
              "ticks": ""
             }
            },
            "type": "scatterpolargl"
           }
          ],
          "scatterternary": [
           {
            "marker": {
             "colorbar": {
              "outlinewidth": 0,
              "ticks": ""
             }
            },
            "type": "scatterternary"
           }
          ],
          "surface": [
           {
            "colorbar": {
             "outlinewidth": 0,
             "ticks": ""
            },
            "colorscale": [
             [
              0,
              "#0d0887"
             ],
             [
              0.1111111111111111,
              "#46039f"
             ],
             [
              0.2222222222222222,
              "#7201a8"
             ],
             [
              0.3333333333333333,
              "#9c179e"
             ],
             [
              0.4444444444444444,
              "#bd3786"
             ],
             [
              0.5555555555555556,
              "#d8576b"
             ],
             [
              0.6666666666666666,
              "#ed7953"
             ],
             [
              0.7777777777777778,
              "#fb9f3a"
             ],
             [
              0.8888888888888888,
              "#fdca26"
             ],
             [
              1,
              "#f0f921"
             ]
            ],
            "type": "surface"
           }
          ],
          "table": [
           {
            "cells": {
             "fill": {
              "color": "#EBF0F8"
             },
             "line": {
              "color": "white"
             }
            },
            "header": {
             "fill": {
              "color": "#C8D4E3"
             },
             "line": {
              "color": "white"
             }
            },
            "type": "table"
           }
          ]
         },
         "layout": {
          "annotationdefaults": {
           "arrowcolor": "#2a3f5f",
           "arrowhead": 0,
           "arrowwidth": 1
          },
          "coloraxis": {
           "colorbar": {
            "outlinewidth": 0,
            "ticks": ""
           }
          },
          "colorscale": {
           "diverging": [
            [
             0,
             "#8e0152"
            ],
            [
             0.1,
             "#c51b7d"
            ],
            [
             0.2,
             "#de77ae"
            ],
            [
             0.3,
             "#f1b6da"
            ],
            [
             0.4,
             "#fde0ef"
            ],
            [
             0.5,
             "#f7f7f7"
            ],
            [
             0.6,
             "#e6f5d0"
            ],
            [
             0.7,
             "#b8e186"
            ],
            [
             0.8,
             "#7fbc41"
            ],
            [
             0.9,
             "#4d9221"
            ],
            [
             1,
             "#276419"
            ]
           ],
           "sequential": [
            [
             0,
             "#0d0887"
            ],
            [
             0.1111111111111111,
             "#46039f"
            ],
            [
             0.2222222222222222,
             "#7201a8"
            ],
            [
             0.3333333333333333,
             "#9c179e"
            ],
            [
             0.4444444444444444,
             "#bd3786"
            ],
            [
             0.5555555555555556,
             "#d8576b"
            ],
            [
             0.6666666666666666,
             "#ed7953"
            ],
            [
             0.7777777777777778,
             "#fb9f3a"
            ],
            [
             0.8888888888888888,
             "#fdca26"
            ],
            [
             1,
             "#f0f921"
            ]
           ],
           "sequentialminus": [
            [
             0,
             "#0d0887"
            ],
            [
             0.1111111111111111,
             "#46039f"
            ],
            [
             0.2222222222222222,
             "#7201a8"
            ],
            [
             0.3333333333333333,
             "#9c179e"
            ],
            [
             0.4444444444444444,
             "#bd3786"
            ],
            [
             0.5555555555555556,
             "#d8576b"
            ],
            [
             0.6666666666666666,
             "#ed7953"
            ],
            [
             0.7777777777777778,
             "#fb9f3a"
            ],
            [
             0.8888888888888888,
             "#fdca26"
            ],
            [
             1,
             "#f0f921"
            ]
           ]
          },
          "colorway": [
           "#636efa",
           "#EF553B",
           "#00cc96",
           "#ab63fa",
           "#FFA15A",
           "#19d3f3",
           "#FF6692",
           "#B6E880",
           "#FF97FF",
           "#FECB52"
          ],
          "font": {
           "color": "#2a3f5f"
          },
          "geo": {
           "bgcolor": "white",
           "lakecolor": "white",
           "landcolor": "#E5ECF6",
           "showlakes": true,
           "showland": true,
           "subunitcolor": "white"
          },
          "hoverlabel": {
           "align": "left"
          },
          "hovermode": "closest",
          "mapbox": {
           "style": "light"
          },
          "paper_bgcolor": "white",
          "plot_bgcolor": "#E5ECF6",
          "polar": {
           "angularaxis": {
            "gridcolor": "white",
            "linecolor": "white",
            "ticks": ""
           },
           "bgcolor": "#E5ECF6",
           "radialaxis": {
            "gridcolor": "white",
            "linecolor": "white",
            "ticks": ""
           }
          },
          "scene": {
           "xaxis": {
            "backgroundcolor": "#E5ECF6",
            "gridcolor": "white",
            "gridwidth": 2,
            "linecolor": "white",
            "showbackground": true,
            "ticks": "",
            "zerolinecolor": "white"
           },
           "yaxis": {
            "backgroundcolor": "#E5ECF6",
            "gridcolor": "white",
            "gridwidth": 2,
            "linecolor": "white",
            "showbackground": true,
            "ticks": "",
            "zerolinecolor": "white"
           },
           "zaxis": {
            "backgroundcolor": "#E5ECF6",
            "gridcolor": "white",
            "gridwidth": 2,
            "linecolor": "white",
            "showbackground": true,
            "ticks": "",
            "zerolinecolor": "white"
           }
          },
          "shapedefaults": {
           "line": {
            "color": "#2a3f5f"
           }
          },
          "ternary": {
           "aaxis": {
            "gridcolor": "white",
            "linecolor": "white",
            "ticks": ""
           },
           "baxis": {
            "gridcolor": "white",
            "linecolor": "white",
            "ticks": ""
           },
           "bgcolor": "#E5ECF6",
           "caxis": {
            "gridcolor": "white",
            "linecolor": "white",
            "ticks": ""
           }
          },
          "title": {
           "x": 0.05
          },
          "xaxis": {
           "automargin": true,
           "gridcolor": "white",
           "linecolor": "white",
           "ticks": "",
           "title": {
            "standoff": 15
           },
           "zerolinecolor": "white",
           "zerolinewidth": 2
          },
          "yaxis": {
           "automargin": true,
           "gridcolor": "white",
           "linecolor": "white",
           "ticks": "",
           "title": {
            "standoff": 15
           },
           "zerolinecolor": "white",
           "zerolinewidth": 2
          }
         }
        },
        "xaxis": {
         "range": [
          2004,
          2014
         ]
        },
        "yaxis": {
         "range": [
          0,
          100
         ]
        }
       }
      },
      "text/html": [
       "<div>\n",
       "        \n",
       "        \n",
       "            <div id=\"5980018a-bc8e-4961-9054-fc1e3b0d0de8\" class=\"plotly-graph-div\" style=\"height:525px; width:100%;\"></div>\n",
       "            <script type=\"text/javascript\">\n",
       "                require([\"plotly\"], function(Plotly) {\n",
       "                    window.PLOTLYENV=window.PLOTLYENV || {};\n",
       "                    \n",
       "                if (document.getElementById(\"5980018a-bc8e-4961-9054-fc1e3b0d0de8\")) {\n",
       "                    Plotly.newPlot(\n",
       "                        '5980018a-bc8e-4961-9054-fc1e3b0d0de8',\n",
       "                        [{\"marker\": {\"line\": {\"width\": 0.1}, \"size\": 0.5}, \"mode\": \"lines\", \"name\": \"Islamabad\", \"opacity\": 1, \"type\": \"scatter\", \"x\": [2004, 2006, 2008, 2010, 2014], \"y\": [21.0, 12.0, 9.0, 13.0, 8.0]}],\n",
       "                        {\"legend\": {\"title\": {\"text\": \"Cities\"}}, \"template\": {\"data\": {\"bar\": [{\"error_x\": {\"color\": \"#2a3f5f\"}, \"error_y\": {\"color\": \"#2a3f5f\"}, \"marker\": {\"line\": {\"color\": \"#E5ECF6\", \"width\": 0.5}}, \"type\": \"bar\"}], \"barpolar\": [{\"marker\": {\"line\": {\"color\": \"#E5ECF6\", \"width\": 0.5}}, \"type\": \"barpolar\"}], \"carpet\": [{\"aaxis\": {\"endlinecolor\": \"#2a3f5f\", \"gridcolor\": \"white\", \"linecolor\": \"white\", \"minorgridcolor\": \"white\", \"startlinecolor\": \"#2a3f5f\"}, \"baxis\": {\"endlinecolor\": \"#2a3f5f\", \"gridcolor\": \"white\", \"linecolor\": \"white\", \"minorgridcolor\": \"white\", \"startlinecolor\": \"#2a3f5f\"}, \"type\": \"carpet\"}], \"choropleth\": [{\"colorbar\": {\"outlinewidth\": 0, \"ticks\": \"\"}, \"type\": \"choropleth\"}], \"contour\": [{\"colorbar\": {\"outlinewidth\": 0, \"ticks\": \"\"}, \"colorscale\": [[0.0, \"#0d0887\"], [0.1111111111111111, \"#46039f\"], [0.2222222222222222, \"#7201a8\"], [0.3333333333333333, \"#9c179e\"], [0.4444444444444444, \"#bd3786\"], [0.5555555555555556, \"#d8576b\"], [0.6666666666666666, \"#ed7953\"], [0.7777777777777778, \"#fb9f3a\"], [0.8888888888888888, \"#fdca26\"], [1.0, \"#f0f921\"]], \"type\": \"contour\"}], \"contourcarpet\": [{\"colorbar\": {\"outlinewidth\": 0, \"ticks\": \"\"}, \"type\": \"contourcarpet\"}], \"heatmap\": [{\"colorbar\": {\"outlinewidth\": 0, \"ticks\": \"\"}, \"colorscale\": [[0.0, \"#0d0887\"], [0.1111111111111111, \"#46039f\"], [0.2222222222222222, \"#7201a8\"], [0.3333333333333333, \"#9c179e\"], [0.4444444444444444, \"#bd3786\"], [0.5555555555555556, \"#d8576b\"], [0.6666666666666666, \"#ed7953\"], [0.7777777777777778, \"#fb9f3a\"], [0.8888888888888888, \"#fdca26\"], [1.0, \"#f0f921\"]], \"type\": \"heatmap\"}], \"heatmapgl\": [{\"colorbar\": {\"outlinewidth\": 0, \"ticks\": \"\"}, \"colorscale\": [[0.0, \"#0d0887\"], [0.1111111111111111, \"#46039f\"], [0.2222222222222222, \"#7201a8\"], [0.3333333333333333, \"#9c179e\"], [0.4444444444444444, \"#bd3786\"], [0.5555555555555556, \"#d8576b\"], [0.6666666666666666, \"#ed7953\"], [0.7777777777777778, \"#fb9f3a\"], [0.8888888888888888, \"#fdca26\"], [1.0, \"#f0f921\"]], \"type\": \"heatmapgl\"}], \"histogram\": [{\"marker\": {\"colorbar\": {\"outlinewidth\": 0, \"ticks\": \"\"}}, \"type\": \"histogram\"}], \"histogram2d\": [{\"colorbar\": {\"outlinewidth\": 0, \"ticks\": \"\"}, \"colorscale\": [[0.0, \"#0d0887\"], [0.1111111111111111, \"#46039f\"], [0.2222222222222222, \"#7201a8\"], [0.3333333333333333, \"#9c179e\"], [0.4444444444444444, \"#bd3786\"], [0.5555555555555556, \"#d8576b\"], [0.6666666666666666, \"#ed7953\"], [0.7777777777777778, \"#fb9f3a\"], [0.8888888888888888, \"#fdca26\"], [1.0, \"#f0f921\"]], \"type\": \"histogram2d\"}], \"histogram2dcontour\": [{\"colorbar\": {\"outlinewidth\": 0, \"ticks\": \"\"}, \"colorscale\": [[0.0, \"#0d0887\"], [0.1111111111111111, \"#46039f\"], [0.2222222222222222, \"#7201a8\"], [0.3333333333333333, \"#9c179e\"], [0.4444444444444444, \"#bd3786\"], [0.5555555555555556, \"#d8576b\"], [0.6666666666666666, \"#ed7953\"], [0.7777777777777778, \"#fb9f3a\"], [0.8888888888888888, \"#fdca26\"], [1.0, \"#f0f921\"]], \"type\": \"histogram2dcontour\"}], \"mesh3d\": [{\"colorbar\": {\"outlinewidth\": 0, \"ticks\": \"\"}, \"type\": \"mesh3d\"}], \"parcoords\": [{\"line\": {\"colorbar\": {\"outlinewidth\": 0, \"ticks\": \"\"}}, \"type\": \"parcoords\"}], \"pie\": [{\"automargin\": true, \"type\": \"pie\"}], \"scatter\": [{\"marker\": {\"colorbar\": {\"outlinewidth\": 0, \"ticks\": \"\"}}, \"type\": \"scatter\"}], \"scatter3d\": [{\"line\": {\"colorbar\": {\"outlinewidth\": 0, \"ticks\": \"\"}}, \"marker\": {\"colorbar\": {\"outlinewidth\": 0, \"ticks\": \"\"}}, \"type\": \"scatter3d\"}], \"scattercarpet\": [{\"marker\": {\"colorbar\": {\"outlinewidth\": 0, \"ticks\": \"\"}}, \"type\": \"scattercarpet\"}], \"scattergeo\": [{\"marker\": {\"colorbar\": {\"outlinewidth\": 0, \"ticks\": \"\"}}, \"type\": \"scattergeo\"}], \"scattergl\": [{\"marker\": {\"colorbar\": {\"outlinewidth\": 0, \"ticks\": \"\"}}, \"type\": \"scattergl\"}], \"scattermapbox\": [{\"marker\": {\"colorbar\": {\"outlinewidth\": 0, \"ticks\": \"\"}}, \"type\": \"scattermapbox\"}], \"scatterpolar\": [{\"marker\": {\"colorbar\": {\"outlinewidth\": 0, \"ticks\": \"\"}}, \"type\": \"scatterpolar\"}], \"scatterpolargl\": [{\"marker\": {\"colorbar\": {\"outlinewidth\": 0, \"ticks\": \"\"}}, \"type\": \"scatterpolargl\"}], \"scatterternary\": [{\"marker\": {\"colorbar\": {\"outlinewidth\": 0, \"ticks\": \"\"}}, \"type\": \"scatterternary\"}], \"surface\": [{\"colorbar\": {\"outlinewidth\": 0, \"ticks\": \"\"}, \"colorscale\": [[0.0, \"#0d0887\"], [0.1111111111111111, \"#46039f\"], [0.2222222222222222, \"#7201a8\"], [0.3333333333333333, \"#9c179e\"], [0.4444444444444444, \"#bd3786\"], [0.5555555555555556, \"#d8576b\"], [0.6666666666666666, \"#ed7953\"], [0.7777777777777778, \"#fb9f3a\"], [0.8888888888888888, \"#fdca26\"], [1.0, \"#f0f921\"]], \"type\": \"surface\"}], \"table\": [{\"cells\": {\"fill\": {\"color\": \"#EBF0F8\"}, \"line\": {\"color\": \"white\"}}, \"header\": {\"fill\": {\"color\": \"#C8D4E3\"}, \"line\": {\"color\": \"white\"}}, \"type\": \"table\"}]}, \"layout\": {\"annotationdefaults\": {\"arrowcolor\": \"#2a3f5f\", \"arrowhead\": 0, \"arrowwidth\": 1}, \"coloraxis\": {\"colorbar\": {\"outlinewidth\": 0, \"ticks\": \"\"}}, \"colorscale\": {\"diverging\": [[0, \"#8e0152\"], [0.1, \"#c51b7d\"], [0.2, \"#de77ae\"], [0.3, \"#f1b6da\"], [0.4, \"#fde0ef\"], [0.5, \"#f7f7f7\"], [0.6, \"#e6f5d0\"], [0.7, \"#b8e186\"], [0.8, \"#7fbc41\"], [0.9, \"#4d9221\"], [1, \"#276419\"]], \"sequential\": [[0.0, \"#0d0887\"], [0.1111111111111111, \"#46039f\"], [0.2222222222222222, \"#7201a8\"], [0.3333333333333333, \"#9c179e\"], [0.4444444444444444, \"#bd3786\"], [0.5555555555555556, \"#d8576b\"], [0.6666666666666666, \"#ed7953\"], [0.7777777777777778, \"#fb9f3a\"], [0.8888888888888888, \"#fdca26\"], [1.0, \"#f0f921\"]], \"sequentialminus\": [[0.0, \"#0d0887\"], [0.1111111111111111, \"#46039f\"], [0.2222222222222222, \"#7201a8\"], [0.3333333333333333, \"#9c179e\"], [0.4444444444444444, \"#bd3786\"], [0.5555555555555556, \"#d8576b\"], [0.6666666666666666, \"#ed7953\"], [0.7777777777777778, \"#fb9f3a\"], [0.8888888888888888, \"#fdca26\"], [1.0, \"#f0f921\"]]}, \"colorway\": [\"#636efa\", \"#EF553B\", \"#00cc96\", \"#ab63fa\", \"#FFA15A\", \"#19d3f3\", \"#FF6692\", \"#B6E880\", \"#FF97FF\", \"#FECB52\"], \"font\": {\"color\": \"#2a3f5f\"}, \"geo\": {\"bgcolor\": \"white\", \"lakecolor\": \"white\", \"landcolor\": \"#E5ECF6\", \"showlakes\": true, \"showland\": true, \"subunitcolor\": \"white\"}, \"hoverlabel\": {\"align\": \"left\"}, \"hovermode\": \"closest\", \"mapbox\": {\"style\": \"light\"}, \"paper_bgcolor\": \"white\", \"plot_bgcolor\": \"#E5ECF6\", \"polar\": {\"angularaxis\": {\"gridcolor\": \"white\", \"linecolor\": \"white\", \"ticks\": \"\"}, \"bgcolor\": \"#E5ECF6\", \"radialaxis\": {\"gridcolor\": \"white\", \"linecolor\": \"white\", \"ticks\": \"\"}}, \"scene\": {\"xaxis\": {\"backgroundcolor\": \"#E5ECF6\", \"gridcolor\": \"white\", \"gridwidth\": 2, \"linecolor\": \"white\", \"showbackground\": true, \"ticks\": \"\", \"zerolinecolor\": \"white\"}, \"yaxis\": {\"backgroundcolor\": \"#E5ECF6\", \"gridcolor\": \"white\", \"gridwidth\": 2, \"linecolor\": \"white\", \"showbackground\": true, \"ticks\": \"\", \"zerolinecolor\": \"white\"}, \"zaxis\": {\"backgroundcolor\": \"#E5ECF6\", \"gridcolor\": \"white\", \"gridwidth\": 2, \"linecolor\": \"white\", \"showbackground\": true, \"ticks\": \"\", \"zerolinecolor\": \"white\"}}, \"shapedefaults\": {\"line\": {\"color\": \"#2a3f5f\"}}, \"ternary\": {\"aaxis\": {\"gridcolor\": \"white\", \"linecolor\": \"white\", \"ticks\": \"\"}, \"baxis\": {\"gridcolor\": \"white\", \"linecolor\": \"white\", \"ticks\": \"\"}, \"bgcolor\": \"#E5ECF6\", \"caxis\": {\"gridcolor\": \"white\", \"linecolor\": \"white\", \"ticks\": \"\"}}, \"title\": {\"x\": 0.05}, \"xaxis\": {\"automargin\": true, \"gridcolor\": \"white\", \"linecolor\": \"white\", \"ticks\": \"\", \"title\": {\"standoff\": 15}, \"zerolinecolor\": \"white\", \"zerolinewidth\": 2}, \"yaxis\": {\"automargin\": true, \"gridcolor\": \"white\", \"linecolor\": \"white\", \"ticks\": \"\", \"title\": {\"standoff\": 15}, \"zerolinecolor\": \"white\", \"zerolinewidth\": 2}}}, \"xaxis\": {\"range\": [2004, 2014]}, \"yaxis\": {\"range\": [0, 100]}},\n",
       "                        {\"responsive\": true}\n",
       "                    ).then(function(){\n",
       "                            \n",
       "var gd = document.getElementById('5980018a-bc8e-4961-9054-fc1e3b0d0de8');\n",
       "var x = new MutationObserver(function (mutations, observer) {{\n",
       "        var display = window.getComputedStyle(gd).display;\n",
       "        if (!display || display === 'none') {{\n",
       "            console.log([gd, 'removed!']);\n",
       "            Plotly.purge(gd);\n",
       "            observer.disconnect();\n",
       "        }}\n",
       "}});\n",
       "\n",
       "// Listen for the removal of the full notebook cells\n",
       "var notebookContainer = gd.closest('#notebook-container');\n",
       "if (notebookContainer) {{\n",
       "    x.observe(notebookContainer, {childList: true});\n",
       "}}\n",
       "\n",
       "// Listen for the clearing of the current output cell\n",
       "var outputEl = gd.closest('.output');\n",
       "if (outputEl) {{\n",
       "    x.observe(outputEl, {childList: true});\n",
       "}}\n",
       "\n",
       "                        })\n",
       "                };\n",
       "                });\n",
       "            </script>\n",
       "        </div>"
      ]
     },
     "metadata": {},
     "output_type": "display_data"
    },
    {
     "name": "stdout",
     "output_type": "stream",
     "text": [
      "KHYBER PAKHTUNKHWA\n"
     ]
    },
    {
     "data": {
      "application/vnd.plotly.v1+json": {
       "config": {
        "plotlyServerURL": "https://plot.ly"
       },
       "data": [
        {
         "marker": {
          "line": {
           "width": 0.1
          },
          "size": 0.5
         },
         "mode": "lines",
         "name": "Abbottabad",
         "opacity": 1,
         "type": "scatter",
         "x": [
          2004,
          2006,
          2008,
          2010,
          2012,
          2014
         ],
         "y": [
          51,
          47,
          35,
          28,
          18,
          12
         ]
        },
        {
         "marker": {
          "line": {
           "width": 0.1
          },
          "size": 0.5
         },
         "mode": "lines",
         "name": "Bannu",
         "opacity": 1,
         "type": "scatter",
         "x": [
          2004,
          2006,
          2008,
          2010,
          2012,
          2014
         ],
         "y": [
          60,
          59,
          45,
          43,
          46,
          28
         ]
        },
        {
         "marker": {
          "line": {
           "width": 0.1
          },
          "size": 0.5
         },
         "mode": "lines",
         "name": "Batagram",
         "opacity": 1,
         "type": "scatter",
         "x": [
          2004,
          2006,
          2008,
          2010,
          2012,
          2014
         ],
         "y": [
          72,
          71,
          46,
          40,
          34,
          32
         ]
        },
        {
         "marker": {
          "line": {
           "width": 0.1
          },
          "size": 0.5
         },
         "mode": "lines",
         "name": "Buner",
         "opacity": 1,
         "type": "scatter",
         "x": [
          2004,
          2006,
          2008,
          2010,
          2012,
          2014
         ],
         "y": [
          75,
          74,
          52,
          56,
          46,
          42
         ]
        },
        {
         "marker": {
          "line": {
           "width": 0.1
          },
          "size": 0.5
         },
         "mode": "lines",
         "name": "Charsadda",
         "opacity": 1,
         "type": "scatter",
         "x": [
          2004,
          2006,
          2008,
          2010,
          2012,
          2014
         ],
         "y": [
          64,
          62,
          47,
          47,
          35,
          28
         ]
        },
        {
         "marker": {
          "line": {
           "width": 0.1
          },
          "size": 0.5
         },
         "mode": "lines",
         "name": "Chitral",
         "opacity": 1,
         "type": "scatter",
         "x": [
          2004,
          2006,
          2008,
          2010,
          2012,
          2014
         ],
         "y": [
          61,
          56,
          39,
          32,
          25,
          15
         ]
        },
        {
         "marker": {
          "line": {
           "width": 0.1
          },
          "size": 0.5
         },
         "mode": "lines",
         "name": "Dera Ismail Khan",
         "opacity": 1,
         "type": "scatter",
         "x": [
          2004,
          2006,
          2008,
          2010,
          2012,
          2014
         ],
         "y": [
          61,
          59,
          48,
          47,
          39,
          33
         ]
        },
        {
         "marker": {
          "line": {
           "width": 0.1
          },
          "size": 0.5
         },
         "mode": "lines",
         "name": "Hangu",
         "opacity": 1,
         "type": "scatter",
         "x": [
          2004,
          2006,
          2008,
          2010,
          2012,
          2014
         ],
         "y": [
          62,
          65,
          47,
          45,
          33,
          28
         ]
        },
        {
         "marker": {
          "line": {
           "width": 0.1
          },
          "size": 0.5
         },
         "mode": "lines",
         "name": "Haripur",
         "opacity": 1,
         "type": "scatter",
         "x": [
          2004,
          2006,
          2008,
          2010,
          2012,
          2014
         ],
         "y": [
          55,
          50,
          37,
          25,
          15,
          16
         ]
        },
        {
         "marker": {
          "line": {
           "width": 0.1
          },
          "size": 0.5
         },
         "mode": "lines",
         "name": "Karak",
         "opacity": 1,
         "type": "scatter",
         "x": [
          2004,
          2006,
          2008,
          2010,
          2012,
          2014
         ],
         "y": [
          63,
          61,
          46,
          46,
          40,
          25
         ]
        },
        {
         "marker": {
          "line": {
           "width": 0.1
          },
          "size": 0.5
         },
         "mode": "lines",
         "name": "Kohat",
         "opacity": 1,
         "type": "scatter",
         "x": [
          2004,
          2006,
          2008,
          2010,
          2012,
          2014
         ],
         "y": [
          61,
          59,
          44,
          41,
          32,
          27
         ]
        },
        {
         "marker": {
          "line": {
           "width": 0.1
          },
          "size": 0.5
         },
         "mode": "lines",
         "name": "Kohistan",
         "opacity": 1,
         "type": "scatter",
         "x": [
          2004,
          2006,
          2008,
          2010,
          2012,
          2014
         ],
         "y": [
          78,
          69,
          51,
          51,
          37,
          36
         ]
        },
        {
         "marker": {
          "line": {
           "width": 0.1
          },
          "size": 0.5
         },
         "mode": "lines",
         "name": "Lakki Marwat",
         "opacity": 1,
         "type": "scatter",
         "x": [
          2004,
          2006,
          2008,
          2010,
          2012,
          2014
         ],
         "y": [
          66,
          67,
          47,
          47,
          49,
          28
         ]
        },
        {
         "marker": {
          "line": {
           "width": 0.1
          },
          "size": 0.5
         },
         "mode": "lines",
         "name": "Lower Dir",
         "opacity": 1,
         "type": "scatter",
         "x": [
          2004,
          2006,
          2008,
          2010,
          2012,
          2014
         ],
         "y": [
          55,
          62,
          46,
          44,
          41,
          29
         ]
        },
        {
         "marker": {
          "line": {
           "width": 0.1
          },
          "size": 0.5
         },
         "mode": "lines",
         "name": "Malakand PA",
         "opacity": 1,
         "type": "scatter",
         "x": [
          2004,
          2006,
          2008,
          2010,
          2012,
          2014
         ],
         "y": [
          63,
          65,
          44,
          43,
          29,
          22
         ]
        },
        {
         "marker": {
          "line": {
           "width": 0.1
          },
          "size": 0.5
         },
         "mode": "lines",
         "name": "Mansehra",
         "opacity": 1,
         "type": "scatter",
         "x": [
          2004,
          2006,
          2008,
          2010,
          2012,
          2014
         ],
         "y": [
          65,
          63,
          41,
          36,
          23,
          17
         ]
        },
        {
         "marker": {
          "line": {
           "width": 0.1
          },
          "size": 0.5
         },
         "mode": "lines",
         "name": "Mardan",
         "opacity": 1,
         "type": "scatter",
         "x": [
          2004,
          2006,
          2008,
          2010,
          2012,
          2014
         ],
         "y": [
          66,
          65,
          47,
          46,
          33,
          27
         ]
        },
        {
         "marker": {
          "line": {
           "width": 0.1
          },
          "size": 0.5
         },
         "mode": "lines",
         "name": "Nowshera",
         "opacity": 1,
         "type": "scatter",
         "x": [
          2004,
          2006,
          2008,
          2010,
          2012,
          2014
         ],
         "y": [
          60,
          58,
          44,
          43,
          30,
          22
         ]
        },
        {
         "marker": {
          "line": {
           "width": 0.1
          },
          "size": 0.5
         },
         "mode": "lines",
         "name": "Peshawar",
         "opacity": 1,
         "type": "scatter",
         "x": [
          2004,
          2006,
          2008,
          2010,
          2012,
          2014
         ],
         "y": [
          54,
          59,
          40,
          40,
          23,
          23
         ]
        },
        {
         "marker": {
          "line": {
           "width": 0.1
          },
          "size": 0.5
         },
         "mode": "lines",
         "name": "Shangla",
         "opacity": 1,
         "type": "scatter",
         "x": [
          2004,
          2006,
          2008,
          2010,
          2012,
          2014
         ],
         "y": [
          71,
          70,
          47,
          52,
          54,
          32
         ]
        },
        {
         "marker": {
          "line": {
           "width": 0.1
          },
          "size": 0.5
         },
         "mode": "lines",
         "name": "Swabi",
         "opacity": 1,
         "type": "scatter",
         "x": [
          2004,
          2006,
          2008,
          2010,
          2012,
          2014
         ],
         "y": [
          64,
          64,
          45,
          36,
          29,
          19
         ]
        },
        {
         "marker": {
          "line": {
           "width": 0.1
          },
          "size": 0.5
         },
         "mode": "lines",
         "name": "Swat",
         "opacity": 1,
         "type": "scatter",
         "x": [
          2004,
          2006,
          2008,
          2010,
          2012,
          2014
         ],
         "y": [
          58,
          58,
          48,
          45,
          40,
          29
         ]
        },
        {
         "marker": {
          "line": {
           "width": 0.1
          },
          "size": 0.5
         },
         "mode": "lines",
         "name": "Tank",
         "opacity": 1,
         "type": "scatter",
         "x": [
          2004,
          2006,
          2008,
          2010,
          2012,
          2014
         ],
         "y": [
          63,
          66,
          47,
          48,
          42,
          39
         ]
        },
        {
         "marker": {
          "line": {
           "width": 0.1
          },
          "size": 0.5
         },
         "mode": "lines",
         "name": "Tor Ghar",
         "opacity": 1,
         "type": "scatter",
         "x": [
          2004,
          2006,
          2008,
          2010,
          2012,
          2014
         ],
         "y": [
          65,
          63,
          41,
          36,
          36,
          38
         ]
        },
        {
         "marker": {
          "line": {
           "width": 0.1
          },
          "size": 0.5
         },
         "mode": "lines",
         "name": "Upper Dir",
         "opacity": 1,
         "type": "scatter",
         "x": [
          2004,
          2006,
          2008,
          2010,
          2012,
          2014
         ],
         "y": [
          74,
          70,
          49,
          48,
          50,
          35
         ]
        }
       ],
       "layout": {
        "legend": {
         "title": {
          "text": "Cities"
         }
        },
        "template": {
         "data": {
          "bar": [
           {
            "error_x": {
             "color": "#2a3f5f"
            },
            "error_y": {
             "color": "#2a3f5f"
            },
            "marker": {
             "line": {
              "color": "#E5ECF6",
              "width": 0.5
             }
            },
            "type": "bar"
           }
          ],
          "barpolar": [
           {
            "marker": {
             "line": {
              "color": "#E5ECF6",
              "width": 0.5
             }
            },
            "type": "barpolar"
           }
          ],
          "carpet": [
           {
            "aaxis": {
             "endlinecolor": "#2a3f5f",
             "gridcolor": "white",
             "linecolor": "white",
             "minorgridcolor": "white",
             "startlinecolor": "#2a3f5f"
            },
            "baxis": {
             "endlinecolor": "#2a3f5f",
             "gridcolor": "white",
             "linecolor": "white",
             "minorgridcolor": "white",
             "startlinecolor": "#2a3f5f"
            },
            "type": "carpet"
           }
          ],
          "choropleth": [
           {
            "colorbar": {
             "outlinewidth": 0,
             "ticks": ""
            },
            "type": "choropleth"
           }
          ],
          "contour": [
           {
            "colorbar": {
             "outlinewidth": 0,
             "ticks": ""
            },
            "colorscale": [
             [
              0,
              "#0d0887"
             ],
             [
              0.1111111111111111,
              "#46039f"
             ],
             [
              0.2222222222222222,
              "#7201a8"
             ],
             [
              0.3333333333333333,
              "#9c179e"
             ],
             [
              0.4444444444444444,
              "#bd3786"
             ],
             [
              0.5555555555555556,
              "#d8576b"
             ],
             [
              0.6666666666666666,
              "#ed7953"
             ],
             [
              0.7777777777777778,
              "#fb9f3a"
             ],
             [
              0.8888888888888888,
              "#fdca26"
             ],
             [
              1,
              "#f0f921"
             ]
            ],
            "type": "contour"
           }
          ],
          "contourcarpet": [
           {
            "colorbar": {
             "outlinewidth": 0,
             "ticks": ""
            },
            "type": "contourcarpet"
           }
          ],
          "heatmap": [
           {
            "colorbar": {
             "outlinewidth": 0,
             "ticks": ""
            },
            "colorscale": [
             [
              0,
              "#0d0887"
             ],
             [
              0.1111111111111111,
              "#46039f"
             ],
             [
              0.2222222222222222,
              "#7201a8"
             ],
             [
              0.3333333333333333,
              "#9c179e"
             ],
             [
              0.4444444444444444,
              "#bd3786"
             ],
             [
              0.5555555555555556,
              "#d8576b"
             ],
             [
              0.6666666666666666,
              "#ed7953"
             ],
             [
              0.7777777777777778,
              "#fb9f3a"
             ],
             [
              0.8888888888888888,
              "#fdca26"
             ],
             [
              1,
              "#f0f921"
             ]
            ],
            "type": "heatmap"
           }
          ],
          "heatmapgl": [
           {
            "colorbar": {
             "outlinewidth": 0,
             "ticks": ""
            },
            "colorscale": [
             [
              0,
              "#0d0887"
             ],
             [
              0.1111111111111111,
              "#46039f"
             ],
             [
              0.2222222222222222,
              "#7201a8"
             ],
             [
              0.3333333333333333,
              "#9c179e"
             ],
             [
              0.4444444444444444,
              "#bd3786"
             ],
             [
              0.5555555555555556,
              "#d8576b"
             ],
             [
              0.6666666666666666,
              "#ed7953"
             ],
             [
              0.7777777777777778,
              "#fb9f3a"
             ],
             [
              0.8888888888888888,
              "#fdca26"
             ],
             [
              1,
              "#f0f921"
             ]
            ],
            "type": "heatmapgl"
           }
          ],
          "histogram": [
           {
            "marker": {
             "colorbar": {
              "outlinewidth": 0,
              "ticks": ""
             }
            },
            "type": "histogram"
           }
          ],
          "histogram2d": [
           {
            "colorbar": {
             "outlinewidth": 0,
             "ticks": ""
            },
            "colorscale": [
             [
              0,
              "#0d0887"
             ],
             [
              0.1111111111111111,
              "#46039f"
             ],
             [
              0.2222222222222222,
              "#7201a8"
             ],
             [
              0.3333333333333333,
              "#9c179e"
             ],
             [
              0.4444444444444444,
              "#bd3786"
             ],
             [
              0.5555555555555556,
              "#d8576b"
             ],
             [
              0.6666666666666666,
              "#ed7953"
             ],
             [
              0.7777777777777778,
              "#fb9f3a"
             ],
             [
              0.8888888888888888,
              "#fdca26"
             ],
             [
              1,
              "#f0f921"
             ]
            ],
            "type": "histogram2d"
           }
          ],
          "histogram2dcontour": [
           {
            "colorbar": {
             "outlinewidth": 0,
             "ticks": ""
            },
            "colorscale": [
             [
              0,
              "#0d0887"
             ],
             [
              0.1111111111111111,
              "#46039f"
             ],
             [
              0.2222222222222222,
              "#7201a8"
             ],
             [
              0.3333333333333333,
              "#9c179e"
             ],
             [
              0.4444444444444444,
              "#bd3786"
             ],
             [
              0.5555555555555556,
              "#d8576b"
             ],
             [
              0.6666666666666666,
              "#ed7953"
             ],
             [
              0.7777777777777778,
              "#fb9f3a"
             ],
             [
              0.8888888888888888,
              "#fdca26"
             ],
             [
              1,
              "#f0f921"
             ]
            ],
            "type": "histogram2dcontour"
           }
          ],
          "mesh3d": [
           {
            "colorbar": {
             "outlinewidth": 0,
             "ticks": ""
            },
            "type": "mesh3d"
           }
          ],
          "parcoords": [
           {
            "line": {
             "colorbar": {
              "outlinewidth": 0,
              "ticks": ""
             }
            },
            "type": "parcoords"
           }
          ],
          "pie": [
           {
            "automargin": true,
            "type": "pie"
           }
          ],
          "scatter": [
           {
            "marker": {
             "colorbar": {
              "outlinewidth": 0,
              "ticks": ""
             }
            },
            "type": "scatter"
           }
          ],
          "scatter3d": [
           {
            "line": {
             "colorbar": {
              "outlinewidth": 0,
              "ticks": ""
             }
            },
            "marker": {
             "colorbar": {
              "outlinewidth": 0,
              "ticks": ""
             }
            },
            "type": "scatter3d"
           }
          ],
          "scattercarpet": [
           {
            "marker": {
             "colorbar": {
              "outlinewidth": 0,
              "ticks": ""
             }
            },
            "type": "scattercarpet"
           }
          ],
          "scattergeo": [
           {
            "marker": {
             "colorbar": {
              "outlinewidth": 0,
              "ticks": ""
             }
            },
            "type": "scattergeo"
           }
          ],
          "scattergl": [
           {
            "marker": {
             "colorbar": {
              "outlinewidth": 0,
              "ticks": ""
             }
            },
            "type": "scattergl"
           }
          ],
          "scattermapbox": [
           {
            "marker": {
             "colorbar": {
              "outlinewidth": 0,
              "ticks": ""
             }
            },
            "type": "scattermapbox"
           }
          ],
          "scatterpolar": [
           {
            "marker": {
             "colorbar": {
              "outlinewidth": 0,
              "ticks": ""
             }
            },
            "type": "scatterpolar"
           }
          ],
          "scatterpolargl": [
           {
            "marker": {
             "colorbar": {
              "outlinewidth": 0,
              "ticks": ""
             }
            },
            "type": "scatterpolargl"
           }
          ],
          "scatterternary": [
           {
            "marker": {
             "colorbar": {
              "outlinewidth": 0,
              "ticks": ""
             }
            },
            "type": "scatterternary"
           }
          ],
          "surface": [
           {
            "colorbar": {
             "outlinewidth": 0,
             "ticks": ""
            },
            "colorscale": [
             [
              0,
              "#0d0887"
             ],
             [
              0.1111111111111111,
              "#46039f"
             ],
             [
              0.2222222222222222,
              "#7201a8"
             ],
             [
              0.3333333333333333,
              "#9c179e"
             ],
             [
              0.4444444444444444,
              "#bd3786"
             ],
             [
              0.5555555555555556,
              "#d8576b"
             ],
             [
              0.6666666666666666,
              "#ed7953"
             ],
             [
              0.7777777777777778,
              "#fb9f3a"
             ],
             [
              0.8888888888888888,
              "#fdca26"
             ],
             [
              1,
              "#f0f921"
             ]
            ],
            "type": "surface"
           }
          ],
          "table": [
           {
            "cells": {
             "fill": {
              "color": "#EBF0F8"
             },
             "line": {
              "color": "white"
             }
            },
            "header": {
             "fill": {
              "color": "#C8D4E3"
             },
             "line": {
              "color": "white"
             }
            },
            "type": "table"
           }
          ]
         },
         "layout": {
          "annotationdefaults": {
           "arrowcolor": "#2a3f5f",
           "arrowhead": 0,
           "arrowwidth": 1
          },
          "coloraxis": {
           "colorbar": {
            "outlinewidth": 0,
            "ticks": ""
           }
          },
          "colorscale": {
           "diverging": [
            [
             0,
             "#8e0152"
            ],
            [
             0.1,
             "#c51b7d"
            ],
            [
             0.2,
             "#de77ae"
            ],
            [
             0.3,
             "#f1b6da"
            ],
            [
             0.4,
             "#fde0ef"
            ],
            [
             0.5,
             "#f7f7f7"
            ],
            [
             0.6,
             "#e6f5d0"
            ],
            [
             0.7,
             "#b8e186"
            ],
            [
             0.8,
             "#7fbc41"
            ],
            [
             0.9,
             "#4d9221"
            ],
            [
             1,
             "#276419"
            ]
           ],
           "sequential": [
            [
             0,
             "#0d0887"
            ],
            [
             0.1111111111111111,
             "#46039f"
            ],
            [
             0.2222222222222222,
             "#7201a8"
            ],
            [
             0.3333333333333333,
             "#9c179e"
            ],
            [
             0.4444444444444444,
             "#bd3786"
            ],
            [
             0.5555555555555556,
             "#d8576b"
            ],
            [
             0.6666666666666666,
             "#ed7953"
            ],
            [
             0.7777777777777778,
             "#fb9f3a"
            ],
            [
             0.8888888888888888,
             "#fdca26"
            ],
            [
             1,
             "#f0f921"
            ]
           ],
           "sequentialminus": [
            [
             0,
             "#0d0887"
            ],
            [
             0.1111111111111111,
             "#46039f"
            ],
            [
             0.2222222222222222,
             "#7201a8"
            ],
            [
             0.3333333333333333,
             "#9c179e"
            ],
            [
             0.4444444444444444,
             "#bd3786"
            ],
            [
             0.5555555555555556,
             "#d8576b"
            ],
            [
             0.6666666666666666,
             "#ed7953"
            ],
            [
             0.7777777777777778,
             "#fb9f3a"
            ],
            [
             0.8888888888888888,
             "#fdca26"
            ],
            [
             1,
             "#f0f921"
            ]
           ]
          },
          "colorway": [
           "#636efa",
           "#EF553B",
           "#00cc96",
           "#ab63fa",
           "#FFA15A",
           "#19d3f3",
           "#FF6692",
           "#B6E880",
           "#FF97FF",
           "#FECB52"
          ],
          "font": {
           "color": "#2a3f5f"
          },
          "geo": {
           "bgcolor": "white",
           "lakecolor": "white",
           "landcolor": "#E5ECF6",
           "showlakes": true,
           "showland": true,
           "subunitcolor": "white"
          },
          "hoverlabel": {
           "align": "left"
          },
          "hovermode": "closest",
          "mapbox": {
           "style": "light"
          },
          "paper_bgcolor": "white",
          "plot_bgcolor": "#E5ECF6",
          "polar": {
           "angularaxis": {
            "gridcolor": "white",
            "linecolor": "white",
            "ticks": ""
           },
           "bgcolor": "#E5ECF6",
           "radialaxis": {
            "gridcolor": "white",
            "linecolor": "white",
            "ticks": ""
           }
          },
          "scene": {
           "xaxis": {
            "backgroundcolor": "#E5ECF6",
            "gridcolor": "white",
            "gridwidth": 2,
            "linecolor": "white",
            "showbackground": true,
            "ticks": "",
            "zerolinecolor": "white"
           },
           "yaxis": {
            "backgroundcolor": "#E5ECF6",
            "gridcolor": "white",
            "gridwidth": 2,
            "linecolor": "white",
            "showbackground": true,
            "ticks": "",
            "zerolinecolor": "white"
           },
           "zaxis": {
            "backgroundcolor": "#E5ECF6",
            "gridcolor": "white",
            "gridwidth": 2,
            "linecolor": "white",
            "showbackground": true,
            "ticks": "",
            "zerolinecolor": "white"
           }
          },
          "shapedefaults": {
           "line": {
            "color": "#2a3f5f"
           }
          },
          "ternary": {
           "aaxis": {
            "gridcolor": "white",
            "linecolor": "white",
            "ticks": ""
           },
           "baxis": {
            "gridcolor": "white",
            "linecolor": "white",
            "ticks": ""
           },
           "bgcolor": "#E5ECF6",
           "caxis": {
            "gridcolor": "white",
            "linecolor": "white",
            "ticks": ""
           }
          },
          "title": {
           "x": 0.05
          },
          "xaxis": {
           "automargin": true,
           "gridcolor": "white",
           "linecolor": "white",
           "ticks": "",
           "title": {
            "standoff": 15
           },
           "zerolinecolor": "white",
           "zerolinewidth": 2
          },
          "yaxis": {
           "automargin": true,
           "gridcolor": "white",
           "linecolor": "white",
           "ticks": "",
           "title": {
            "standoff": 15
           },
           "zerolinecolor": "white",
           "zerolinewidth": 2
          }
         }
        },
        "xaxis": {
         "range": [
          2004,
          2014
         ]
        },
        "yaxis": {
         "range": [
          0,
          100
         ]
        }
       }
      },
      "text/html": [
       "<div>\n",
       "        \n",
       "        \n",
       "            <div id=\"c3423a4b-8375-42c2-9d7b-d180fded4aef\" class=\"plotly-graph-div\" style=\"height:525px; width:100%;\"></div>\n",
       "            <script type=\"text/javascript\">\n",
       "                require([\"plotly\"], function(Plotly) {\n",
       "                    window.PLOTLYENV=window.PLOTLYENV || {};\n",
       "                    \n",
       "                if (document.getElementById(\"c3423a4b-8375-42c2-9d7b-d180fded4aef\")) {\n",
       "                    Plotly.newPlot(\n",
       "                        'c3423a4b-8375-42c2-9d7b-d180fded4aef',\n",
       "                        [{\"marker\": {\"line\": {\"width\": 0.1}, \"size\": 0.5}, \"mode\": \"lines\", \"name\": \"Abbottabad\", \"opacity\": 1, \"type\": \"scatter\", \"x\": [2004, 2006, 2008, 2010, 2012, 2014], \"y\": [51.0, 47.0, 35.0, 28.0, 18.0, 12.0]}, {\"marker\": {\"line\": {\"width\": 0.1}, \"size\": 0.5}, \"mode\": \"lines\", \"name\": \"Bannu\", \"opacity\": 1, \"type\": \"scatter\", \"x\": [2004, 2006, 2008, 2010, 2012, 2014], \"y\": [60.0, 59.0, 45.0, 43.0, 46.0, 28.0]}, {\"marker\": {\"line\": {\"width\": 0.1}, \"size\": 0.5}, \"mode\": \"lines\", \"name\": \"Batagram\", \"opacity\": 1, \"type\": \"scatter\", \"x\": [2004, 2006, 2008, 2010, 2012, 2014], \"y\": [72.0, 71.0, 46.0, 40.0, 34.0, 32.0]}, {\"marker\": {\"line\": {\"width\": 0.1}, \"size\": 0.5}, \"mode\": \"lines\", \"name\": \"Buner\", \"opacity\": 1, \"type\": \"scatter\", \"x\": [2004, 2006, 2008, 2010, 2012, 2014], \"y\": [75.0, 74.0, 52.0, 56.0, 46.0, 42.0]}, {\"marker\": {\"line\": {\"width\": 0.1}, \"size\": 0.5}, \"mode\": \"lines\", \"name\": \"Charsadda\", \"opacity\": 1, \"type\": \"scatter\", \"x\": [2004, 2006, 2008, 2010, 2012, 2014], \"y\": [64.0, 62.0, 47.0, 47.0, 35.0, 28.0]}, {\"marker\": {\"line\": {\"width\": 0.1}, \"size\": 0.5}, \"mode\": \"lines\", \"name\": \"Chitral\", \"opacity\": 1, \"type\": \"scatter\", \"x\": [2004, 2006, 2008, 2010, 2012, 2014], \"y\": [61.0, 56.0, 39.0, 32.0, 25.0, 15.0]}, {\"marker\": {\"line\": {\"width\": 0.1}, \"size\": 0.5}, \"mode\": \"lines\", \"name\": \"Dera Ismail Khan\", \"opacity\": 1, \"type\": \"scatter\", \"x\": [2004, 2006, 2008, 2010, 2012, 2014], \"y\": [61.0, 59.0, 48.0, 47.0, 39.0, 33.0]}, {\"marker\": {\"line\": {\"width\": 0.1}, \"size\": 0.5}, \"mode\": \"lines\", \"name\": \"Hangu\", \"opacity\": 1, \"type\": \"scatter\", \"x\": [2004, 2006, 2008, 2010, 2012, 2014], \"y\": [62.0, 65.0, 47.0, 45.0, 33.0, 28.0]}, {\"marker\": {\"line\": {\"width\": 0.1}, \"size\": 0.5}, \"mode\": \"lines\", \"name\": \"Haripur\", \"opacity\": 1, \"type\": \"scatter\", \"x\": [2004, 2006, 2008, 2010, 2012, 2014], \"y\": [55.0, 50.0, 37.0, 25.0, 15.0, 16.0]}, {\"marker\": {\"line\": {\"width\": 0.1}, \"size\": 0.5}, \"mode\": \"lines\", \"name\": \"Karak\", \"opacity\": 1, \"type\": \"scatter\", \"x\": [2004, 2006, 2008, 2010, 2012, 2014], \"y\": [63.0, 61.0, 46.0, 46.0, 40.0, 25.0]}, {\"marker\": {\"line\": {\"width\": 0.1}, \"size\": 0.5}, \"mode\": \"lines\", \"name\": \"Kohat\", \"opacity\": 1, \"type\": \"scatter\", \"x\": [2004, 2006, 2008, 2010, 2012, 2014], \"y\": [61.0, 59.0, 44.0, 41.0, 32.0, 27.0]}, {\"marker\": {\"line\": {\"width\": 0.1}, \"size\": 0.5}, \"mode\": \"lines\", \"name\": \"Kohistan\", \"opacity\": 1, \"type\": \"scatter\", \"x\": [2004, 2006, 2008, 2010, 2012, 2014], \"y\": [78.0, 69.0, 51.0, 51.0, 37.0, 36.0]}, {\"marker\": {\"line\": {\"width\": 0.1}, \"size\": 0.5}, \"mode\": \"lines\", \"name\": \"Lakki Marwat\", \"opacity\": 1, \"type\": \"scatter\", \"x\": [2004, 2006, 2008, 2010, 2012, 2014], \"y\": [66.0, 67.0, 47.0, 47.0, 49.0, 28.0]}, {\"marker\": {\"line\": {\"width\": 0.1}, \"size\": 0.5}, \"mode\": \"lines\", \"name\": \"Lower Dir\", \"opacity\": 1, \"type\": \"scatter\", \"x\": [2004, 2006, 2008, 2010, 2012, 2014], \"y\": [55.0, 62.0, 46.0, 44.0, 41.0, 29.0]}, {\"marker\": {\"line\": {\"width\": 0.1}, \"size\": 0.5}, \"mode\": \"lines\", \"name\": \"Malakand PA\", \"opacity\": 1, \"type\": \"scatter\", \"x\": [2004, 2006, 2008, 2010, 2012, 2014], \"y\": [63.0, 65.0, 44.0, 43.0, 29.0, 22.0]}, {\"marker\": {\"line\": {\"width\": 0.1}, \"size\": 0.5}, \"mode\": \"lines\", \"name\": \"Mansehra\", \"opacity\": 1, \"type\": \"scatter\", \"x\": [2004, 2006, 2008, 2010, 2012, 2014], \"y\": [65.0, 63.0, 41.0, 36.0, 23.0, 17.0]}, {\"marker\": {\"line\": {\"width\": 0.1}, \"size\": 0.5}, \"mode\": \"lines\", \"name\": \"Mardan\", \"opacity\": 1, \"type\": \"scatter\", \"x\": [2004, 2006, 2008, 2010, 2012, 2014], \"y\": [66.0, 65.0, 47.0, 46.0, 33.0, 27.0]}, {\"marker\": {\"line\": {\"width\": 0.1}, \"size\": 0.5}, \"mode\": \"lines\", \"name\": \"Nowshera\", \"opacity\": 1, \"type\": \"scatter\", \"x\": [2004, 2006, 2008, 2010, 2012, 2014], \"y\": [60.0, 58.0, 44.0, 43.0, 30.0, 22.0]}, {\"marker\": {\"line\": {\"width\": 0.1}, \"size\": 0.5}, \"mode\": \"lines\", \"name\": \"Peshawar\", \"opacity\": 1, \"type\": \"scatter\", \"x\": [2004, 2006, 2008, 2010, 2012, 2014], \"y\": [54.0, 59.0, 40.0, 40.0, 23.0, 23.0]}, {\"marker\": {\"line\": {\"width\": 0.1}, \"size\": 0.5}, \"mode\": \"lines\", \"name\": \"Shangla\", \"opacity\": 1, \"type\": \"scatter\", \"x\": [2004, 2006, 2008, 2010, 2012, 2014], \"y\": [71.0, 70.0, 47.0, 52.0, 54.0, 32.0]}, {\"marker\": {\"line\": {\"width\": 0.1}, \"size\": 0.5}, \"mode\": \"lines\", \"name\": \"Swabi\", \"opacity\": 1, \"type\": \"scatter\", \"x\": [2004, 2006, 2008, 2010, 2012, 2014], \"y\": [64.0, 64.0, 45.0, 36.0, 29.0, 19.0]}, {\"marker\": {\"line\": {\"width\": 0.1}, \"size\": 0.5}, \"mode\": \"lines\", \"name\": \"Swat\", \"opacity\": 1, \"type\": \"scatter\", \"x\": [2004, 2006, 2008, 2010, 2012, 2014], \"y\": [58.0, 58.0, 48.0, 45.0, 40.0, 29.0]}, {\"marker\": {\"line\": {\"width\": 0.1}, \"size\": 0.5}, \"mode\": \"lines\", \"name\": \"Tank\", \"opacity\": 1, \"type\": \"scatter\", \"x\": [2004, 2006, 2008, 2010, 2012, 2014], \"y\": [63.0, 66.0, 47.0, 48.0, 42.0, 39.0]}, {\"marker\": {\"line\": {\"width\": 0.1}, \"size\": 0.5}, \"mode\": \"lines\", \"name\": \"Tor Ghar\", \"opacity\": 1, \"type\": \"scatter\", \"x\": [2004, 2006, 2008, 2010, 2012, 2014], \"y\": [65.0, 63.0, 41.0, 36.0, 36.0, 38.0]}, {\"marker\": {\"line\": {\"width\": 0.1}, \"size\": 0.5}, \"mode\": \"lines\", \"name\": \"Upper Dir\", \"opacity\": 1, \"type\": \"scatter\", \"x\": [2004, 2006, 2008, 2010, 2012, 2014], \"y\": [74.0, 70.0, 49.0, 48.0, 50.0, 35.0]}],\n",
       "                        {\"legend\": {\"title\": {\"text\": \"Cities\"}}, \"template\": {\"data\": {\"bar\": [{\"error_x\": {\"color\": \"#2a3f5f\"}, \"error_y\": {\"color\": \"#2a3f5f\"}, \"marker\": {\"line\": {\"color\": \"#E5ECF6\", \"width\": 0.5}}, \"type\": \"bar\"}], \"barpolar\": [{\"marker\": {\"line\": {\"color\": \"#E5ECF6\", \"width\": 0.5}}, \"type\": \"barpolar\"}], \"carpet\": [{\"aaxis\": {\"endlinecolor\": \"#2a3f5f\", \"gridcolor\": \"white\", \"linecolor\": \"white\", \"minorgridcolor\": \"white\", \"startlinecolor\": \"#2a3f5f\"}, \"baxis\": {\"endlinecolor\": \"#2a3f5f\", \"gridcolor\": \"white\", \"linecolor\": \"white\", \"minorgridcolor\": \"white\", \"startlinecolor\": \"#2a3f5f\"}, \"type\": \"carpet\"}], \"choropleth\": [{\"colorbar\": {\"outlinewidth\": 0, \"ticks\": \"\"}, \"type\": \"choropleth\"}], \"contour\": [{\"colorbar\": {\"outlinewidth\": 0, \"ticks\": \"\"}, \"colorscale\": [[0.0, \"#0d0887\"], [0.1111111111111111, \"#46039f\"], [0.2222222222222222, \"#7201a8\"], [0.3333333333333333, \"#9c179e\"], [0.4444444444444444, \"#bd3786\"], [0.5555555555555556, \"#d8576b\"], [0.6666666666666666, \"#ed7953\"], [0.7777777777777778, \"#fb9f3a\"], [0.8888888888888888, \"#fdca26\"], [1.0, \"#f0f921\"]], \"type\": \"contour\"}], \"contourcarpet\": [{\"colorbar\": {\"outlinewidth\": 0, \"ticks\": \"\"}, \"type\": \"contourcarpet\"}], \"heatmap\": [{\"colorbar\": {\"outlinewidth\": 0, \"ticks\": \"\"}, \"colorscale\": [[0.0, \"#0d0887\"], [0.1111111111111111, \"#46039f\"], [0.2222222222222222, \"#7201a8\"], [0.3333333333333333, \"#9c179e\"], [0.4444444444444444, \"#bd3786\"], [0.5555555555555556, \"#d8576b\"], [0.6666666666666666, \"#ed7953\"], [0.7777777777777778, \"#fb9f3a\"], [0.8888888888888888, \"#fdca26\"], [1.0, \"#f0f921\"]], \"type\": \"heatmap\"}], \"heatmapgl\": [{\"colorbar\": {\"outlinewidth\": 0, \"ticks\": \"\"}, \"colorscale\": [[0.0, \"#0d0887\"], [0.1111111111111111, \"#46039f\"], [0.2222222222222222, \"#7201a8\"], [0.3333333333333333, \"#9c179e\"], [0.4444444444444444, \"#bd3786\"], [0.5555555555555556, \"#d8576b\"], [0.6666666666666666, \"#ed7953\"], [0.7777777777777778, \"#fb9f3a\"], [0.8888888888888888, \"#fdca26\"], [1.0, \"#f0f921\"]], \"type\": \"heatmapgl\"}], \"histogram\": [{\"marker\": {\"colorbar\": {\"outlinewidth\": 0, \"ticks\": \"\"}}, \"type\": \"histogram\"}], \"histogram2d\": [{\"colorbar\": {\"outlinewidth\": 0, \"ticks\": \"\"}, \"colorscale\": [[0.0, \"#0d0887\"], [0.1111111111111111, \"#46039f\"], [0.2222222222222222, \"#7201a8\"], [0.3333333333333333, \"#9c179e\"], [0.4444444444444444, \"#bd3786\"], [0.5555555555555556, \"#d8576b\"], [0.6666666666666666, \"#ed7953\"], [0.7777777777777778, \"#fb9f3a\"], [0.8888888888888888, \"#fdca26\"], [1.0, \"#f0f921\"]], \"type\": \"histogram2d\"}], \"histogram2dcontour\": [{\"colorbar\": {\"outlinewidth\": 0, \"ticks\": \"\"}, \"colorscale\": [[0.0, \"#0d0887\"], [0.1111111111111111, \"#46039f\"], [0.2222222222222222, \"#7201a8\"], [0.3333333333333333, \"#9c179e\"], [0.4444444444444444, \"#bd3786\"], [0.5555555555555556, \"#d8576b\"], [0.6666666666666666, \"#ed7953\"], [0.7777777777777778, \"#fb9f3a\"], [0.8888888888888888, \"#fdca26\"], [1.0, \"#f0f921\"]], \"type\": \"histogram2dcontour\"}], \"mesh3d\": [{\"colorbar\": {\"outlinewidth\": 0, \"ticks\": \"\"}, \"type\": \"mesh3d\"}], \"parcoords\": [{\"line\": {\"colorbar\": {\"outlinewidth\": 0, \"ticks\": \"\"}}, \"type\": \"parcoords\"}], \"pie\": [{\"automargin\": true, \"type\": \"pie\"}], \"scatter\": [{\"marker\": {\"colorbar\": {\"outlinewidth\": 0, \"ticks\": \"\"}}, \"type\": \"scatter\"}], \"scatter3d\": [{\"line\": {\"colorbar\": {\"outlinewidth\": 0, \"ticks\": \"\"}}, \"marker\": {\"colorbar\": {\"outlinewidth\": 0, \"ticks\": \"\"}}, \"type\": \"scatter3d\"}], \"scattercarpet\": [{\"marker\": {\"colorbar\": {\"outlinewidth\": 0, \"ticks\": \"\"}}, \"type\": \"scattercarpet\"}], \"scattergeo\": [{\"marker\": {\"colorbar\": {\"outlinewidth\": 0, \"ticks\": \"\"}}, \"type\": \"scattergeo\"}], \"scattergl\": [{\"marker\": {\"colorbar\": {\"outlinewidth\": 0, \"ticks\": \"\"}}, \"type\": \"scattergl\"}], \"scattermapbox\": [{\"marker\": {\"colorbar\": {\"outlinewidth\": 0, \"ticks\": \"\"}}, \"type\": \"scattermapbox\"}], \"scatterpolar\": [{\"marker\": {\"colorbar\": {\"outlinewidth\": 0, \"ticks\": \"\"}}, \"type\": \"scatterpolar\"}], \"scatterpolargl\": [{\"marker\": {\"colorbar\": {\"outlinewidth\": 0, \"ticks\": \"\"}}, \"type\": \"scatterpolargl\"}], \"scatterternary\": [{\"marker\": {\"colorbar\": {\"outlinewidth\": 0, \"ticks\": \"\"}}, \"type\": \"scatterternary\"}], \"surface\": [{\"colorbar\": {\"outlinewidth\": 0, \"ticks\": \"\"}, \"colorscale\": [[0.0, \"#0d0887\"], [0.1111111111111111, \"#46039f\"], [0.2222222222222222, \"#7201a8\"], [0.3333333333333333, \"#9c179e\"], [0.4444444444444444, \"#bd3786\"], [0.5555555555555556, \"#d8576b\"], [0.6666666666666666, \"#ed7953\"], [0.7777777777777778, \"#fb9f3a\"], [0.8888888888888888, \"#fdca26\"], [1.0, \"#f0f921\"]], \"type\": \"surface\"}], \"table\": [{\"cells\": {\"fill\": {\"color\": \"#EBF0F8\"}, \"line\": {\"color\": \"white\"}}, \"header\": {\"fill\": {\"color\": \"#C8D4E3\"}, \"line\": {\"color\": \"white\"}}, \"type\": \"table\"}]}, \"layout\": {\"annotationdefaults\": {\"arrowcolor\": \"#2a3f5f\", \"arrowhead\": 0, \"arrowwidth\": 1}, \"coloraxis\": {\"colorbar\": {\"outlinewidth\": 0, \"ticks\": \"\"}}, \"colorscale\": {\"diverging\": [[0, \"#8e0152\"], [0.1, \"#c51b7d\"], [0.2, \"#de77ae\"], [0.3, \"#f1b6da\"], [0.4, \"#fde0ef\"], [0.5, \"#f7f7f7\"], [0.6, \"#e6f5d0\"], [0.7, \"#b8e186\"], [0.8, \"#7fbc41\"], [0.9, \"#4d9221\"], [1, \"#276419\"]], \"sequential\": [[0.0, \"#0d0887\"], [0.1111111111111111, \"#46039f\"], [0.2222222222222222, \"#7201a8\"], [0.3333333333333333, \"#9c179e\"], [0.4444444444444444, \"#bd3786\"], [0.5555555555555556, \"#d8576b\"], [0.6666666666666666, \"#ed7953\"], [0.7777777777777778, \"#fb9f3a\"], [0.8888888888888888, \"#fdca26\"], [1.0, \"#f0f921\"]], \"sequentialminus\": [[0.0, \"#0d0887\"], [0.1111111111111111, \"#46039f\"], [0.2222222222222222, \"#7201a8\"], [0.3333333333333333, \"#9c179e\"], [0.4444444444444444, \"#bd3786\"], [0.5555555555555556, \"#d8576b\"], [0.6666666666666666, \"#ed7953\"], [0.7777777777777778, \"#fb9f3a\"], [0.8888888888888888, \"#fdca26\"], [1.0, \"#f0f921\"]]}, \"colorway\": [\"#636efa\", \"#EF553B\", \"#00cc96\", \"#ab63fa\", \"#FFA15A\", \"#19d3f3\", \"#FF6692\", \"#B6E880\", \"#FF97FF\", \"#FECB52\"], \"font\": {\"color\": \"#2a3f5f\"}, \"geo\": {\"bgcolor\": \"white\", \"lakecolor\": \"white\", \"landcolor\": \"#E5ECF6\", \"showlakes\": true, \"showland\": true, \"subunitcolor\": \"white\"}, \"hoverlabel\": {\"align\": \"left\"}, \"hovermode\": \"closest\", \"mapbox\": {\"style\": \"light\"}, \"paper_bgcolor\": \"white\", \"plot_bgcolor\": \"#E5ECF6\", \"polar\": {\"angularaxis\": {\"gridcolor\": \"white\", \"linecolor\": \"white\", \"ticks\": \"\"}, \"bgcolor\": \"#E5ECF6\", \"radialaxis\": {\"gridcolor\": \"white\", \"linecolor\": \"white\", \"ticks\": \"\"}}, \"scene\": {\"xaxis\": {\"backgroundcolor\": \"#E5ECF6\", \"gridcolor\": \"white\", \"gridwidth\": 2, \"linecolor\": \"white\", \"showbackground\": true, \"ticks\": \"\", \"zerolinecolor\": \"white\"}, \"yaxis\": {\"backgroundcolor\": \"#E5ECF6\", \"gridcolor\": \"white\", \"gridwidth\": 2, \"linecolor\": \"white\", \"showbackground\": true, \"ticks\": \"\", \"zerolinecolor\": \"white\"}, \"zaxis\": {\"backgroundcolor\": \"#E5ECF6\", \"gridcolor\": \"white\", \"gridwidth\": 2, \"linecolor\": \"white\", \"showbackground\": true, \"ticks\": \"\", \"zerolinecolor\": \"white\"}}, \"shapedefaults\": {\"line\": {\"color\": \"#2a3f5f\"}}, \"ternary\": {\"aaxis\": {\"gridcolor\": \"white\", \"linecolor\": \"white\", \"ticks\": \"\"}, \"baxis\": {\"gridcolor\": \"white\", \"linecolor\": \"white\", \"ticks\": \"\"}, \"bgcolor\": \"#E5ECF6\", \"caxis\": {\"gridcolor\": \"white\", \"linecolor\": \"white\", \"ticks\": \"\"}}, \"title\": {\"x\": 0.05}, \"xaxis\": {\"automargin\": true, \"gridcolor\": \"white\", \"linecolor\": \"white\", \"ticks\": \"\", \"title\": {\"standoff\": 15}, \"zerolinecolor\": \"white\", \"zerolinewidth\": 2}, \"yaxis\": {\"automargin\": true, \"gridcolor\": \"white\", \"linecolor\": \"white\", \"ticks\": \"\", \"title\": {\"standoff\": 15}, \"zerolinecolor\": \"white\", \"zerolinewidth\": 2}}}, \"xaxis\": {\"range\": [2004, 2014]}, \"yaxis\": {\"range\": [0, 100]}},\n",
       "                        {\"responsive\": true}\n",
       "                    ).then(function(){\n",
       "                            \n",
       "var gd = document.getElementById('c3423a4b-8375-42c2-9d7b-d180fded4aef');\n",
       "var x = new MutationObserver(function (mutations, observer) {{\n",
       "        var display = window.getComputedStyle(gd).display;\n",
       "        if (!display || display === 'none') {{\n",
       "            console.log([gd, 'removed!']);\n",
       "            Plotly.purge(gd);\n",
       "            observer.disconnect();\n",
       "        }}\n",
       "}});\n",
       "\n",
       "// Listen for the removal of the full notebook cells\n",
       "var notebookContainer = gd.closest('#notebook-container');\n",
       "if (notebookContainer) {{\n",
       "    x.observe(notebookContainer, {childList: true});\n",
       "}}\n",
       "\n",
       "// Listen for the clearing of the current output cell\n",
       "var outputEl = gd.closest('.output');\n",
       "if (outputEl) {{\n",
       "    x.observe(outputEl, {childList: true});\n",
       "}}\n",
       "\n",
       "                        })\n",
       "                };\n",
       "                });\n",
       "            </script>\n",
       "        </div>"
      ]
     },
     "metadata": {},
     "output_type": "display_data"
    },
    {
     "name": "stdout",
     "output_type": "stream",
     "text": [
      "PUNJAB\n"
     ]
    },
    {
     "data": {
      "application/vnd.plotly.v1+json": {
       "config": {
        "plotlyServerURL": "https://plot.ly"
       },
       "data": [
        {
         "marker": {
          "line": {
           "width": 0.1
          },
          "size": 0.5
         },
         "mode": "lines",
         "name": "Attock",
         "opacity": 1,
         "type": "scatter",
         "x": [
          2004,
          2006,
          2008,
          2010,
          2012,
          2014
         ],
         "y": [
          41,
          32,
          29,
          27,
          20,
          14
         ]
        },
        {
         "marker": {
          "line": {
           "width": 0.1
          },
          "size": 0.5
         },
         "mode": "lines",
         "name": "Bahawalnagar",
         "opacity": 1,
         "type": "scatter",
         "x": [
          2004,
          2006,
          2008,
          2010,
          2012,
          2014
         ],
         "y": [
          53,
          52,
          47,
          36,
          31,
          31
         ]
        },
        {
         "marker": {
          "line": {
           "width": 0.1
          },
          "size": 0.5
         },
         "mode": "lines",
         "name": "Bahawalpur",
         "opacity": 1,
         "type": "scatter",
         "x": [
          2004,
          2006,
          2008,
          2010,
          2012,
          2014
         ],
         "y": [
          59,
          58,
          50,
          42,
          38,
          33
         ]
        },
        {
         "marker": {
          "line": {
           "width": 0.1
          },
          "size": 0.5
         },
         "mode": "lines",
         "name": "Bhakkar",
         "opacity": 1,
         "type": "scatter",
         "x": [
          2004,
          2006,
          2008,
          2010,
          2012,
          2014
         ],
         "y": [
          49,
          48,
          46,
          37,
          34,
          29
         ]
        },
        {
         "marker": {
          "line": {
           "width": 0.1
          },
          "size": 0.5
         },
         "mode": "lines",
         "name": "Chakwal",
         "opacity": 1,
         "type": "scatter",
         "x": [
          2004,
          2006,
          2008,
          2010,
          2012,
          2014
         ],
         "y": [
          29,
          24,
          19,
          17,
          13,
          12
         ]
        },
        {
         "marker": {
          "line": {
           "width": 0.1
          },
          "size": 0.5
         },
         "mode": "lines",
         "name": "Chiniot",
         "opacity": 1,
         "type": "scatter",
         "x": [
          2004,
          2006,
          2008,
          2010,
          2012,
          2014
         ],
         "y": [
          56,
          56,
          45,
          34,
          26,
          29
         ]
        },
        {
         "marker": {
          "line": {
           "width": 0.1
          },
          "size": 0.5
         },
         "mode": "lines",
         "name": "Dera Ghazi Khan",
         "opacity": 1,
         "type": "scatter",
         "x": [
          2004,
          2006,
          2008,
          2010,
          2012,
          2014
         ],
         "y": [
          62,
          54,
          57,
          53,
          42,
          40
         ]
        },
        {
         "marker": {
          "line": {
           "width": 0.1
          },
          "size": 0.5
         },
         "mode": "lines",
         "name": "Faisalabad",
         "opacity": 1,
         "type": "scatter",
         "x": [
          2004,
          2006,
          2008,
          2010,
          2012,
          2014
         ],
         "y": [
          46,
          40,
          35,
          25,
          21,
          19
         ]
        },
        {
         "marker": {
          "line": {
           "width": 0.1
          },
          "size": 0.5
         },
         "mode": "lines",
         "name": "Gujranwala",
         "opacity": 1,
         "type": "scatter",
         "x": [
          2004,
          2006,
          2008,
          2010,
          2012,
          2014
         ],
         "y": [
          44,
          38,
          27,
          25,
          21,
          18
         ]
        },
        {
         "marker": {
          "line": {
           "width": 0.1
          },
          "size": 0.5
         },
         "mode": "lines",
         "name": "Gujrat",
         "opacity": 1,
         "type": "scatter",
         "x": [
          2004,
          2006,
          2008,
          2010,
          2012,
          2014
         ],
         "y": [
          39,
          31,
          23,
          25,
          16,
          15
         ]
        },
        {
         "marker": {
          "line": {
           "width": 0.1
          },
          "size": 0.5
         },
         "mode": "lines",
         "name": "Hafizabad",
         "opacity": 1,
         "type": "scatter",
         "x": [
          2004,
          2006,
          2008,
          2010,
          2012,
          2014
         ],
         "y": [
          51,
          47,
          37,
          29,
          23,
          24
         ]
        },
        {
         "marker": {
          "line": {
           "width": 0.1
          },
          "size": 0.5
         },
         "mode": "lines",
         "name": "Jhang",
         "opacity": 1,
         "type": "scatter",
         "x": [
          2004,
          2006,
          2008,
          2010,
          2012,
          2014
         ],
         "y": [
          56,
          56,
          45,
          35,
          29,
          28
         ]
        },
        {
         "marker": {
          "line": {
           "width": 0.1
          },
          "size": 0.5
         },
         "mode": "lines",
         "name": "Jhelum",
         "opacity": 1,
         "type": "scatter",
         "x": [
          2004,
          2006,
          2008,
          2010,
          2012,
          2014
         ],
         "y": [
          33,
          25,
          20,
          22,
          12,
          12
         ]
        },
        {
         "marker": {
          "line": {
           "width": 0.1
          },
          "size": 0.5
         },
         "mode": "lines",
         "name": "Kasur",
         "opacity": 1,
         "type": "scatter",
         "x": [
          2004,
          2006,
          2008,
          2010,
          2012,
          2014
         ],
         "y": [
          57,
          51,
          45,
          36,
          33,
          28
         ]
        },
        {
         "marker": {
          "line": {
           "width": 0.1
          },
          "size": 0.5
         },
         "mode": "lines",
         "name": "Khanewal",
         "opacity": 1,
         "type": "scatter",
         "x": [
          2004,
          2006,
          2008,
          2010,
          2012,
          2014
         ],
         "y": [
          58,
          56,
          47,
          36,
          33,
          27
         ]
        },
        {
         "marker": {
          "line": {
           "width": 0.1
          },
          "size": 0.5
         },
         "mode": "lines",
         "name": "Khushab",
         "opacity": 1,
         "type": "scatter",
         "x": [
          2004,
          2006,
          2008,
          2010,
          2012,
          2014
         ],
         "y": [
          50,
          40,
          35,
          26,
          24,
          21
         ]
        },
        {
         "marker": {
          "line": {
           "width": 0.1
          },
          "size": 0.5
         },
         "mode": "lines",
         "name": "Lahore",
         "opacity": 1,
         "type": "scatter",
         "x": [
          2004,
          2006,
          2008,
          2010,
          2012,
          2014
         ],
         "y": [
          30,
          28,
          20,
          21,
          15,
          13
         ]
        },
        {
         "marker": {
          "line": {
           "width": 0.1
          },
          "size": 0.5
         },
         "mode": "lines",
         "name": "Layyah",
         "opacity": 1,
         "type": "scatter",
         "x": [
          2004,
          2006,
          2008,
          2010,
          2012,
          2014
         ],
         "y": [
          59,
          50,
          47,
          45,
          32,
          27
         ]
        },
        {
         "marker": {
          "line": {
           "width": 0.1
          },
          "size": 0.5
         },
         "mode": "lines",
         "name": "Lodhran",
         "opacity": 1,
         "type": "scatter",
         "x": [
          2004,
          2006,
          2008,
          2010,
          2012,
          2014
         ],
         "y": [
          62,
          59,
          46,
          39,
          35,
          31
         ]
        },
        {
         "marker": {
          "line": {
           "width": 0.1
          },
          "size": 0.5
         },
         "mode": "lines",
         "name": "Mandi Bahauddin",
         "opacity": 1,
         "type": "scatter",
         "x": [
          2004,
          2006,
          2008,
          2010,
          2012,
          2014
         ],
         "y": [
          48,
          39,
          29,
          26,
          16,
          23
         ]
        },
        {
         "marker": {
          "line": {
           "width": 0.1
          },
          "size": 0.5
         },
         "mode": "lines",
         "name": "Mianwali",
         "opacity": 1,
         "type": "scatter",
         "x": [
          2004,
          2006,
          2008,
          2010,
          2012,
          2014
         ],
         "y": [
          44,
          38,
          41,
          33,
          30,
          22
         ]
        },
        {
         "marker": {
          "line": {
           "width": 0.1
          },
          "size": 0.5
         },
         "mode": "lines",
         "name": "Multan",
         "opacity": 1,
         "type": "scatter",
         "x": [
          2004,
          2006,
          2008,
          2010,
          2012,
          2014
         ],
         "y": [
          57,
          51,
          42,
          37,
          33,
          27
         ]
        },
        {
         "marker": {
          "line": {
           "width": 0.1
          },
          "size": 0.5
         },
         "mode": "lines",
         "name": "Muzaffargarh",
         "opacity": 1,
         "type": "scatter",
         "x": [
          2004,
          2006,
          2008,
          2010,
          2012,
          2014
         ],
         "y": [
          68,
          66,
          59,
          50,
          42,
          38
         ]
        },
        {
         "marker": {
          "line": {
           "width": 0.1
          },
          "size": 0.5
         },
         "mode": "lines",
         "name": "Nankana Sahib",
         "opacity": 1,
         "type": "scatter",
         "x": [
          2004,
          2006,
          2008,
          2010,
          2012,
          2014
         ],
         "y": [
          52,
          47,
          40,
          32,
          25,
          22
         ]
        },
        {
         "marker": {
          "line": {
           "width": 0.1
          },
          "size": 0.5
         },
         "mode": "lines",
         "name": "Narowal",
         "opacity": 1,
         "type": "scatter",
         "x": [
          2004,
          2006,
          2008,
          2010,
          2012,
          2014
         ],
         "y": [
          53,
          49,
          41,
          31,
          25,
          21
         ]
        },
        {
         "marker": {
          "line": {
           "width": 0.1
          },
          "size": 0.5
         },
         "mode": "lines",
         "name": "Okara",
         "opacity": 1,
         "type": "scatter",
         "x": [
          2004,
          2006,
          2008,
          2010,
          2012,
          2014
         ],
         "y": [
          56,
          55,
          45,
          36,
          29,
          28
         ]
        },
        {
         "marker": {
          "line": {
           "width": 0.1
          },
          "size": 0.5
         },
         "mode": "lines",
         "name": "Pakpattan",
         "opacity": 1,
         "type": "scatter",
         "x": [
          2004,
          2006,
          2008,
          2010,
          2012,
          2014
         ],
         "y": [
          57,
          53,
          49,
          40,
          34,
          30
         ]
        },
        {
         "marker": {
          "line": {
           "width": 0.1
          },
          "size": 0.5
         },
         "mode": "lines",
         "name": "Rahim Yar Khan",
         "opacity": 1,
         "type": "scatter",
         "x": [
          2004,
          2006,
          2008,
          2010,
          2012,
          2014
         ],
         "y": [
          62,
          63,
          55,
          46,
          43,
          39
         ]
        },
        {
         "marker": {
          "line": {
           "width": 0.1
          },
          "size": 0.5
         },
         "mode": "lines",
         "name": "Rajanpur",
         "opacity": 1,
         "type": "scatter",
         "x": [
          2004,
          2006,
          2008,
          2010,
          2012,
          2014
         ],
         "y": [
          64,
          66,
          67,
          55,
          49,
          41
         ]
        },
        {
         "marker": {
          "line": {
           "width": 0.1
          },
          "size": 0.5
         },
         "mode": "lines",
         "name": "Rawalpindi",
         "opacity": 1,
         "type": "scatter",
         "x": [
          2004,
          2006,
          2008,
          2010,
          2012,
          2014
         ],
         "y": [
          33,
          22,
          16,
          18,
          15,
          11
         ]
        },
        {
         "marker": {
          "line": {
           "width": 0.1
          },
          "size": 0.5
         },
         "mode": "lines",
         "name": "Sahiwal",
         "opacity": 1,
         "type": "scatter",
         "x": [
          2004,
          2006,
          2008,
          2010,
          2012,
          2014
         ],
         "y": [
          50,
          49,
          45,
          32,
          28,
          25
         ]
        },
        {
         "marker": {
          "line": {
           "width": 0.1
          },
          "size": 0.5
         },
         "mode": "lines",
         "name": "Sargodha",
         "opacity": 1,
         "type": "scatter",
         "x": [
          2004,
          2006,
          2008,
          2010,
          2012,
          2014
         ],
         "y": [
          51,
          42,
          31,
          29,
          24,
          22
         ]
        },
        {
         "marker": {
          "line": {
           "width": 0.1
          },
          "size": 0.5
         },
         "mode": "lines",
         "name": "Sheikhupura",
         "opacity": 1,
         "type": "scatter",
         "x": [
          2004,
          2006,
          2008,
          2010,
          2012,
          2014
         ],
         "y": [
          52,
          47,
          39,
          31,
          25,
          23
         ]
        },
        {
         "marker": {
          "line": {
           "width": 0.1
          },
          "size": 0.5
         },
         "mode": "lines",
         "name": "Sialkot",
         "opacity": 1,
         "type": "scatter",
         "x": [
          2004,
          2006,
          2008,
          2010,
          2012,
          2014
         ],
         "y": [
          43,
          37,
          32,
          25,
          18,
          17
         ]
        },
        {
         "marker": {
          "line": {
           "width": 0.1
          },
          "size": 0.5
         },
         "mode": "lines",
         "name": "Toba Tek Singh",
         "opacity": 1,
         "type": "scatter",
         "x": [
          2004,
          2006,
          2008,
          2010,
          2012,
          2014
         ],
         "y": [
          49,
          44,
          35,
          27,
          24,
          21
         ]
        },
        {
         "marker": {
          "line": {
           "width": 0.1
          },
          "size": 0.5
         },
         "mode": "lines",
         "name": "Vehari",
         "opacity": 1,
         "type": "scatter",
         "x": [
          2004,
          2006,
          2008,
          2010,
          2012,
          2014
         ],
         "y": [
          58,
          56,
          49,
          37,
          37,
          31
         ]
        }
       ],
       "layout": {
        "legend": {
         "title": {
          "text": "Cities"
         }
        },
        "template": {
         "data": {
          "bar": [
           {
            "error_x": {
             "color": "#2a3f5f"
            },
            "error_y": {
             "color": "#2a3f5f"
            },
            "marker": {
             "line": {
              "color": "#E5ECF6",
              "width": 0.5
             }
            },
            "type": "bar"
           }
          ],
          "barpolar": [
           {
            "marker": {
             "line": {
              "color": "#E5ECF6",
              "width": 0.5
             }
            },
            "type": "barpolar"
           }
          ],
          "carpet": [
           {
            "aaxis": {
             "endlinecolor": "#2a3f5f",
             "gridcolor": "white",
             "linecolor": "white",
             "minorgridcolor": "white",
             "startlinecolor": "#2a3f5f"
            },
            "baxis": {
             "endlinecolor": "#2a3f5f",
             "gridcolor": "white",
             "linecolor": "white",
             "minorgridcolor": "white",
             "startlinecolor": "#2a3f5f"
            },
            "type": "carpet"
           }
          ],
          "choropleth": [
           {
            "colorbar": {
             "outlinewidth": 0,
             "ticks": ""
            },
            "type": "choropleth"
           }
          ],
          "contour": [
           {
            "colorbar": {
             "outlinewidth": 0,
             "ticks": ""
            },
            "colorscale": [
             [
              0,
              "#0d0887"
             ],
             [
              0.1111111111111111,
              "#46039f"
             ],
             [
              0.2222222222222222,
              "#7201a8"
             ],
             [
              0.3333333333333333,
              "#9c179e"
             ],
             [
              0.4444444444444444,
              "#bd3786"
             ],
             [
              0.5555555555555556,
              "#d8576b"
             ],
             [
              0.6666666666666666,
              "#ed7953"
             ],
             [
              0.7777777777777778,
              "#fb9f3a"
             ],
             [
              0.8888888888888888,
              "#fdca26"
             ],
             [
              1,
              "#f0f921"
             ]
            ],
            "type": "contour"
           }
          ],
          "contourcarpet": [
           {
            "colorbar": {
             "outlinewidth": 0,
             "ticks": ""
            },
            "type": "contourcarpet"
           }
          ],
          "heatmap": [
           {
            "colorbar": {
             "outlinewidth": 0,
             "ticks": ""
            },
            "colorscale": [
             [
              0,
              "#0d0887"
             ],
             [
              0.1111111111111111,
              "#46039f"
             ],
             [
              0.2222222222222222,
              "#7201a8"
             ],
             [
              0.3333333333333333,
              "#9c179e"
             ],
             [
              0.4444444444444444,
              "#bd3786"
             ],
             [
              0.5555555555555556,
              "#d8576b"
             ],
             [
              0.6666666666666666,
              "#ed7953"
             ],
             [
              0.7777777777777778,
              "#fb9f3a"
             ],
             [
              0.8888888888888888,
              "#fdca26"
             ],
             [
              1,
              "#f0f921"
             ]
            ],
            "type": "heatmap"
           }
          ],
          "heatmapgl": [
           {
            "colorbar": {
             "outlinewidth": 0,
             "ticks": ""
            },
            "colorscale": [
             [
              0,
              "#0d0887"
             ],
             [
              0.1111111111111111,
              "#46039f"
             ],
             [
              0.2222222222222222,
              "#7201a8"
             ],
             [
              0.3333333333333333,
              "#9c179e"
             ],
             [
              0.4444444444444444,
              "#bd3786"
             ],
             [
              0.5555555555555556,
              "#d8576b"
             ],
             [
              0.6666666666666666,
              "#ed7953"
             ],
             [
              0.7777777777777778,
              "#fb9f3a"
             ],
             [
              0.8888888888888888,
              "#fdca26"
             ],
             [
              1,
              "#f0f921"
             ]
            ],
            "type": "heatmapgl"
           }
          ],
          "histogram": [
           {
            "marker": {
             "colorbar": {
              "outlinewidth": 0,
              "ticks": ""
             }
            },
            "type": "histogram"
           }
          ],
          "histogram2d": [
           {
            "colorbar": {
             "outlinewidth": 0,
             "ticks": ""
            },
            "colorscale": [
             [
              0,
              "#0d0887"
             ],
             [
              0.1111111111111111,
              "#46039f"
             ],
             [
              0.2222222222222222,
              "#7201a8"
             ],
             [
              0.3333333333333333,
              "#9c179e"
             ],
             [
              0.4444444444444444,
              "#bd3786"
             ],
             [
              0.5555555555555556,
              "#d8576b"
             ],
             [
              0.6666666666666666,
              "#ed7953"
             ],
             [
              0.7777777777777778,
              "#fb9f3a"
             ],
             [
              0.8888888888888888,
              "#fdca26"
             ],
             [
              1,
              "#f0f921"
             ]
            ],
            "type": "histogram2d"
           }
          ],
          "histogram2dcontour": [
           {
            "colorbar": {
             "outlinewidth": 0,
             "ticks": ""
            },
            "colorscale": [
             [
              0,
              "#0d0887"
             ],
             [
              0.1111111111111111,
              "#46039f"
             ],
             [
              0.2222222222222222,
              "#7201a8"
             ],
             [
              0.3333333333333333,
              "#9c179e"
             ],
             [
              0.4444444444444444,
              "#bd3786"
             ],
             [
              0.5555555555555556,
              "#d8576b"
             ],
             [
              0.6666666666666666,
              "#ed7953"
             ],
             [
              0.7777777777777778,
              "#fb9f3a"
             ],
             [
              0.8888888888888888,
              "#fdca26"
             ],
             [
              1,
              "#f0f921"
             ]
            ],
            "type": "histogram2dcontour"
           }
          ],
          "mesh3d": [
           {
            "colorbar": {
             "outlinewidth": 0,
             "ticks": ""
            },
            "type": "mesh3d"
           }
          ],
          "parcoords": [
           {
            "line": {
             "colorbar": {
              "outlinewidth": 0,
              "ticks": ""
             }
            },
            "type": "parcoords"
           }
          ],
          "pie": [
           {
            "automargin": true,
            "type": "pie"
           }
          ],
          "scatter": [
           {
            "marker": {
             "colorbar": {
              "outlinewidth": 0,
              "ticks": ""
             }
            },
            "type": "scatter"
           }
          ],
          "scatter3d": [
           {
            "line": {
             "colorbar": {
              "outlinewidth": 0,
              "ticks": ""
             }
            },
            "marker": {
             "colorbar": {
              "outlinewidth": 0,
              "ticks": ""
             }
            },
            "type": "scatter3d"
           }
          ],
          "scattercarpet": [
           {
            "marker": {
             "colorbar": {
              "outlinewidth": 0,
              "ticks": ""
             }
            },
            "type": "scattercarpet"
           }
          ],
          "scattergeo": [
           {
            "marker": {
             "colorbar": {
              "outlinewidth": 0,
              "ticks": ""
             }
            },
            "type": "scattergeo"
           }
          ],
          "scattergl": [
           {
            "marker": {
             "colorbar": {
              "outlinewidth": 0,
              "ticks": ""
             }
            },
            "type": "scattergl"
           }
          ],
          "scattermapbox": [
           {
            "marker": {
             "colorbar": {
              "outlinewidth": 0,
              "ticks": ""
             }
            },
            "type": "scattermapbox"
           }
          ],
          "scatterpolar": [
           {
            "marker": {
             "colorbar": {
              "outlinewidth": 0,
              "ticks": ""
             }
            },
            "type": "scatterpolar"
           }
          ],
          "scatterpolargl": [
           {
            "marker": {
             "colorbar": {
              "outlinewidth": 0,
              "ticks": ""
             }
            },
            "type": "scatterpolargl"
           }
          ],
          "scatterternary": [
           {
            "marker": {
             "colorbar": {
              "outlinewidth": 0,
              "ticks": ""
             }
            },
            "type": "scatterternary"
           }
          ],
          "surface": [
           {
            "colorbar": {
             "outlinewidth": 0,
             "ticks": ""
            },
            "colorscale": [
             [
              0,
              "#0d0887"
             ],
             [
              0.1111111111111111,
              "#46039f"
             ],
             [
              0.2222222222222222,
              "#7201a8"
             ],
             [
              0.3333333333333333,
              "#9c179e"
             ],
             [
              0.4444444444444444,
              "#bd3786"
             ],
             [
              0.5555555555555556,
              "#d8576b"
             ],
             [
              0.6666666666666666,
              "#ed7953"
             ],
             [
              0.7777777777777778,
              "#fb9f3a"
             ],
             [
              0.8888888888888888,
              "#fdca26"
             ],
             [
              1,
              "#f0f921"
             ]
            ],
            "type": "surface"
           }
          ],
          "table": [
           {
            "cells": {
             "fill": {
              "color": "#EBF0F8"
             },
             "line": {
              "color": "white"
             }
            },
            "header": {
             "fill": {
              "color": "#C8D4E3"
             },
             "line": {
              "color": "white"
             }
            },
            "type": "table"
           }
          ]
         },
         "layout": {
          "annotationdefaults": {
           "arrowcolor": "#2a3f5f",
           "arrowhead": 0,
           "arrowwidth": 1
          },
          "coloraxis": {
           "colorbar": {
            "outlinewidth": 0,
            "ticks": ""
           }
          },
          "colorscale": {
           "diverging": [
            [
             0,
             "#8e0152"
            ],
            [
             0.1,
             "#c51b7d"
            ],
            [
             0.2,
             "#de77ae"
            ],
            [
             0.3,
             "#f1b6da"
            ],
            [
             0.4,
             "#fde0ef"
            ],
            [
             0.5,
             "#f7f7f7"
            ],
            [
             0.6,
             "#e6f5d0"
            ],
            [
             0.7,
             "#b8e186"
            ],
            [
             0.8,
             "#7fbc41"
            ],
            [
             0.9,
             "#4d9221"
            ],
            [
             1,
             "#276419"
            ]
           ],
           "sequential": [
            [
             0,
             "#0d0887"
            ],
            [
             0.1111111111111111,
             "#46039f"
            ],
            [
             0.2222222222222222,
             "#7201a8"
            ],
            [
             0.3333333333333333,
             "#9c179e"
            ],
            [
             0.4444444444444444,
             "#bd3786"
            ],
            [
             0.5555555555555556,
             "#d8576b"
            ],
            [
             0.6666666666666666,
             "#ed7953"
            ],
            [
             0.7777777777777778,
             "#fb9f3a"
            ],
            [
             0.8888888888888888,
             "#fdca26"
            ],
            [
             1,
             "#f0f921"
            ]
           ],
           "sequentialminus": [
            [
             0,
             "#0d0887"
            ],
            [
             0.1111111111111111,
             "#46039f"
            ],
            [
             0.2222222222222222,
             "#7201a8"
            ],
            [
             0.3333333333333333,
             "#9c179e"
            ],
            [
             0.4444444444444444,
             "#bd3786"
            ],
            [
             0.5555555555555556,
             "#d8576b"
            ],
            [
             0.6666666666666666,
             "#ed7953"
            ],
            [
             0.7777777777777778,
             "#fb9f3a"
            ],
            [
             0.8888888888888888,
             "#fdca26"
            ],
            [
             1,
             "#f0f921"
            ]
           ]
          },
          "colorway": [
           "#636efa",
           "#EF553B",
           "#00cc96",
           "#ab63fa",
           "#FFA15A",
           "#19d3f3",
           "#FF6692",
           "#B6E880",
           "#FF97FF",
           "#FECB52"
          ],
          "font": {
           "color": "#2a3f5f"
          },
          "geo": {
           "bgcolor": "white",
           "lakecolor": "white",
           "landcolor": "#E5ECF6",
           "showlakes": true,
           "showland": true,
           "subunitcolor": "white"
          },
          "hoverlabel": {
           "align": "left"
          },
          "hovermode": "closest",
          "mapbox": {
           "style": "light"
          },
          "paper_bgcolor": "white",
          "plot_bgcolor": "#E5ECF6",
          "polar": {
           "angularaxis": {
            "gridcolor": "white",
            "linecolor": "white",
            "ticks": ""
           },
           "bgcolor": "#E5ECF6",
           "radialaxis": {
            "gridcolor": "white",
            "linecolor": "white",
            "ticks": ""
           }
          },
          "scene": {
           "xaxis": {
            "backgroundcolor": "#E5ECF6",
            "gridcolor": "white",
            "gridwidth": 2,
            "linecolor": "white",
            "showbackground": true,
            "ticks": "",
            "zerolinecolor": "white"
           },
           "yaxis": {
            "backgroundcolor": "#E5ECF6",
            "gridcolor": "white",
            "gridwidth": 2,
            "linecolor": "white",
            "showbackground": true,
            "ticks": "",
            "zerolinecolor": "white"
           },
           "zaxis": {
            "backgroundcolor": "#E5ECF6",
            "gridcolor": "white",
            "gridwidth": 2,
            "linecolor": "white",
            "showbackground": true,
            "ticks": "",
            "zerolinecolor": "white"
           }
          },
          "shapedefaults": {
           "line": {
            "color": "#2a3f5f"
           }
          },
          "ternary": {
           "aaxis": {
            "gridcolor": "white",
            "linecolor": "white",
            "ticks": ""
           },
           "baxis": {
            "gridcolor": "white",
            "linecolor": "white",
            "ticks": ""
           },
           "bgcolor": "#E5ECF6",
           "caxis": {
            "gridcolor": "white",
            "linecolor": "white",
            "ticks": ""
           }
          },
          "title": {
           "x": 0.05
          },
          "xaxis": {
           "automargin": true,
           "gridcolor": "white",
           "linecolor": "white",
           "ticks": "",
           "title": {
            "standoff": 15
           },
           "zerolinecolor": "white",
           "zerolinewidth": 2
          },
          "yaxis": {
           "automargin": true,
           "gridcolor": "white",
           "linecolor": "white",
           "ticks": "",
           "title": {
            "standoff": 15
           },
           "zerolinecolor": "white",
           "zerolinewidth": 2
          }
         }
        },
        "xaxis": {
         "range": [
          2004,
          2014
         ]
        },
        "yaxis": {
         "range": [
          0,
          100
         ]
        }
       }
      },
      "text/html": [
       "<div>\n",
       "        \n",
       "        \n",
       "            <div id=\"c0b1eb1e-e632-4226-b837-2efb0f83ab75\" class=\"plotly-graph-div\" style=\"height:525px; width:100%;\"></div>\n",
       "            <script type=\"text/javascript\">\n",
       "                require([\"plotly\"], function(Plotly) {\n",
       "                    window.PLOTLYENV=window.PLOTLYENV || {};\n",
       "                    \n",
       "                if (document.getElementById(\"c0b1eb1e-e632-4226-b837-2efb0f83ab75\")) {\n",
       "                    Plotly.newPlot(\n",
       "                        'c0b1eb1e-e632-4226-b837-2efb0f83ab75',\n",
       "                        [{\"marker\": {\"line\": {\"width\": 0.1}, \"size\": 0.5}, \"mode\": \"lines\", \"name\": \"Attock\", \"opacity\": 1, \"type\": \"scatter\", \"x\": [2004, 2006, 2008, 2010, 2012, 2014], \"y\": [41.0, 32.0, 29.0, 27.0, 20.0, 14.0]}, {\"marker\": {\"line\": {\"width\": 0.1}, \"size\": 0.5}, \"mode\": \"lines\", \"name\": \"Bahawalnagar\", \"opacity\": 1, \"type\": \"scatter\", \"x\": [2004, 2006, 2008, 2010, 2012, 2014], \"y\": [53.0, 52.0, 47.0, 36.0, 31.0, 31.0]}, {\"marker\": {\"line\": {\"width\": 0.1}, \"size\": 0.5}, \"mode\": \"lines\", \"name\": \"Bahawalpur\", \"opacity\": 1, \"type\": \"scatter\", \"x\": [2004, 2006, 2008, 2010, 2012, 2014], \"y\": [59.0, 58.0, 50.0, 42.0, 38.0, 33.0]}, {\"marker\": {\"line\": {\"width\": 0.1}, \"size\": 0.5}, \"mode\": \"lines\", \"name\": \"Bhakkar\", \"opacity\": 1, \"type\": \"scatter\", \"x\": [2004, 2006, 2008, 2010, 2012, 2014], \"y\": [49.0, 48.0, 46.0, 37.0, 34.0, 29.0]}, {\"marker\": {\"line\": {\"width\": 0.1}, \"size\": 0.5}, \"mode\": \"lines\", \"name\": \"Chakwal\", \"opacity\": 1, \"type\": \"scatter\", \"x\": [2004, 2006, 2008, 2010, 2012, 2014], \"y\": [29.0, 24.0, 19.0, 17.0, 13.0, 12.0]}, {\"marker\": {\"line\": {\"width\": 0.1}, \"size\": 0.5}, \"mode\": \"lines\", \"name\": \"Chiniot\", \"opacity\": 1, \"type\": \"scatter\", \"x\": [2004, 2006, 2008, 2010, 2012, 2014], \"y\": [56.0, 56.0, 45.0, 34.0, 26.0, 29.0]}, {\"marker\": {\"line\": {\"width\": 0.1}, \"size\": 0.5}, \"mode\": \"lines\", \"name\": \"Dera Ghazi Khan\", \"opacity\": 1, \"type\": \"scatter\", \"x\": [2004, 2006, 2008, 2010, 2012, 2014], \"y\": [62.0, 54.0, 57.0, 53.0, 42.0, 40.0]}, {\"marker\": {\"line\": {\"width\": 0.1}, \"size\": 0.5}, \"mode\": \"lines\", \"name\": \"Faisalabad\", \"opacity\": 1, \"type\": \"scatter\", \"x\": [2004, 2006, 2008, 2010, 2012, 2014], \"y\": [46.0, 40.0, 35.0, 25.0, 21.0, 19.0]}, {\"marker\": {\"line\": {\"width\": 0.1}, \"size\": 0.5}, \"mode\": \"lines\", \"name\": \"Gujranwala\", \"opacity\": 1, \"type\": \"scatter\", \"x\": [2004, 2006, 2008, 2010, 2012, 2014], \"y\": [44.0, 38.0, 27.0, 25.0, 21.0, 18.0]}, {\"marker\": {\"line\": {\"width\": 0.1}, \"size\": 0.5}, \"mode\": \"lines\", \"name\": \"Gujrat\", \"opacity\": 1, \"type\": \"scatter\", \"x\": [2004, 2006, 2008, 2010, 2012, 2014], \"y\": [39.0, 31.0, 23.0, 25.0, 16.0, 15.0]}, {\"marker\": {\"line\": {\"width\": 0.1}, \"size\": 0.5}, \"mode\": \"lines\", \"name\": \"Hafizabad\", \"opacity\": 1, \"type\": \"scatter\", \"x\": [2004, 2006, 2008, 2010, 2012, 2014], \"y\": [51.0, 47.0, 37.0, 29.0, 23.0, 24.0]}, {\"marker\": {\"line\": {\"width\": 0.1}, \"size\": 0.5}, \"mode\": \"lines\", \"name\": \"Jhang\", \"opacity\": 1, \"type\": \"scatter\", \"x\": [2004, 2006, 2008, 2010, 2012, 2014], \"y\": [56.0, 56.0, 45.0, 35.0, 29.0, 28.0]}, {\"marker\": {\"line\": {\"width\": 0.1}, \"size\": 0.5}, \"mode\": \"lines\", \"name\": \"Jhelum\", \"opacity\": 1, \"type\": \"scatter\", \"x\": [2004, 2006, 2008, 2010, 2012, 2014], \"y\": [33.0, 25.0, 20.0, 22.0, 12.0, 12.0]}, {\"marker\": {\"line\": {\"width\": 0.1}, \"size\": 0.5}, \"mode\": \"lines\", \"name\": \"Kasur\", \"opacity\": 1, \"type\": \"scatter\", \"x\": [2004, 2006, 2008, 2010, 2012, 2014], \"y\": [57.0, 51.0, 45.0, 36.0, 33.0, 28.0]}, {\"marker\": {\"line\": {\"width\": 0.1}, \"size\": 0.5}, \"mode\": \"lines\", \"name\": \"Khanewal\", \"opacity\": 1, \"type\": \"scatter\", \"x\": [2004, 2006, 2008, 2010, 2012, 2014], \"y\": [58.0, 56.0, 47.0, 36.0, 33.0, 27.0]}, {\"marker\": {\"line\": {\"width\": 0.1}, \"size\": 0.5}, \"mode\": \"lines\", \"name\": \"Khushab\", \"opacity\": 1, \"type\": \"scatter\", \"x\": [2004, 2006, 2008, 2010, 2012, 2014], \"y\": [50.0, 40.0, 35.0, 26.0, 24.0, 21.0]}, {\"marker\": {\"line\": {\"width\": 0.1}, \"size\": 0.5}, \"mode\": \"lines\", \"name\": \"Lahore\", \"opacity\": 1, \"type\": \"scatter\", \"x\": [2004, 2006, 2008, 2010, 2012, 2014], \"y\": [30.0, 28.0, 20.0, 21.0, 15.0, 13.0]}, {\"marker\": {\"line\": {\"width\": 0.1}, \"size\": 0.5}, \"mode\": \"lines\", \"name\": \"Layyah\", \"opacity\": 1, \"type\": \"scatter\", \"x\": [2004, 2006, 2008, 2010, 2012, 2014], \"y\": [59.0, 50.0, 47.0, 45.0, 32.0, 27.0]}, {\"marker\": {\"line\": {\"width\": 0.1}, \"size\": 0.5}, \"mode\": \"lines\", \"name\": \"Lodhran\", \"opacity\": 1, \"type\": \"scatter\", \"x\": [2004, 2006, 2008, 2010, 2012, 2014], \"y\": [62.0, 59.0, 46.0, 39.0, 35.0, 31.0]}, {\"marker\": {\"line\": {\"width\": 0.1}, \"size\": 0.5}, \"mode\": \"lines\", \"name\": \"Mandi Bahauddin\", \"opacity\": 1, \"type\": \"scatter\", \"x\": [2004, 2006, 2008, 2010, 2012, 2014], \"y\": [48.0, 39.0, 29.0, 26.0, 16.0, 23.0]}, {\"marker\": {\"line\": {\"width\": 0.1}, \"size\": 0.5}, \"mode\": \"lines\", \"name\": \"Mianwali\", \"opacity\": 1, \"type\": \"scatter\", \"x\": [2004, 2006, 2008, 2010, 2012, 2014], \"y\": [44.0, 38.0, 41.0, 33.0, 30.0, 22.0]}, {\"marker\": {\"line\": {\"width\": 0.1}, \"size\": 0.5}, \"mode\": \"lines\", \"name\": \"Multan\", \"opacity\": 1, \"type\": \"scatter\", \"x\": [2004, 2006, 2008, 2010, 2012, 2014], \"y\": [57.0, 51.0, 42.0, 37.0, 33.0, 27.0]}, {\"marker\": {\"line\": {\"width\": 0.1}, \"size\": 0.5}, \"mode\": \"lines\", \"name\": \"Muzaffargarh\", \"opacity\": 1, \"type\": \"scatter\", \"x\": [2004, 2006, 2008, 2010, 2012, 2014], \"y\": [68.0, 66.0, 59.0, 50.0, 42.0, 38.0]}, {\"marker\": {\"line\": {\"width\": 0.1}, \"size\": 0.5}, \"mode\": \"lines\", \"name\": \"Nankana Sahib\", \"opacity\": 1, \"type\": \"scatter\", \"x\": [2004, 2006, 2008, 2010, 2012, 2014], \"y\": [52.0, 47.0, 40.0, 32.0, 25.0, 22.0]}, {\"marker\": {\"line\": {\"width\": 0.1}, \"size\": 0.5}, \"mode\": \"lines\", \"name\": \"Narowal\", \"opacity\": 1, \"type\": \"scatter\", \"x\": [2004, 2006, 2008, 2010, 2012, 2014], \"y\": [53.0, 49.0, 41.0, 31.0, 25.0, 21.0]}, {\"marker\": {\"line\": {\"width\": 0.1}, \"size\": 0.5}, \"mode\": \"lines\", \"name\": \"Okara\", \"opacity\": 1, \"type\": \"scatter\", \"x\": [2004, 2006, 2008, 2010, 2012, 2014], \"y\": [56.0, 55.0, 45.0, 36.0, 29.0, 28.0]}, {\"marker\": {\"line\": {\"width\": 0.1}, \"size\": 0.5}, \"mode\": \"lines\", \"name\": \"Pakpattan\", \"opacity\": 1, \"type\": \"scatter\", \"x\": [2004, 2006, 2008, 2010, 2012, 2014], \"y\": [57.0, 53.0, 49.0, 40.0, 34.0, 30.0]}, {\"marker\": {\"line\": {\"width\": 0.1}, \"size\": 0.5}, \"mode\": \"lines\", \"name\": \"Rahim Yar Khan\", \"opacity\": 1, \"type\": \"scatter\", \"x\": [2004, 2006, 2008, 2010, 2012, 2014], \"y\": [62.0, 63.0, 55.0, 46.0, 43.0, 39.0]}, {\"marker\": {\"line\": {\"width\": 0.1}, \"size\": 0.5}, \"mode\": \"lines\", \"name\": \"Rajanpur\", \"opacity\": 1, \"type\": \"scatter\", \"x\": [2004, 2006, 2008, 2010, 2012, 2014], \"y\": [64.0, 66.0, 67.0, 55.0, 49.0, 41.0]}, {\"marker\": {\"line\": {\"width\": 0.1}, \"size\": 0.5}, \"mode\": \"lines\", \"name\": \"Rawalpindi\", \"opacity\": 1, \"type\": \"scatter\", \"x\": [2004, 2006, 2008, 2010, 2012, 2014], \"y\": [33.0, 22.0, 16.0, 18.0, 15.0, 11.0]}, {\"marker\": {\"line\": {\"width\": 0.1}, \"size\": 0.5}, \"mode\": \"lines\", \"name\": \"Sahiwal\", \"opacity\": 1, \"type\": \"scatter\", \"x\": [2004, 2006, 2008, 2010, 2012, 2014], \"y\": [50.0, 49.0, 45.0, 32.0, 28.0, 25.0]}, {\"marker\": {\"line\": {\"width\": 0.1}, \"size\": 0.5}, \"mode\": \"lines\", \"name\": \"Sargodha\", \"opacity\": 1, \"type\": \"scatter\", \"x\": [2004, 2006, 2008, 2010, 2012, 2014], \"y\": [51.0, 42.0, 31.0, 29.0, 24.0, 22.0]}, {\"marker\": {\"line\": {\"width\": 0.1}, \"size\": 0.5}, \"mode\": \"lines\", \"name\": \"Sheikhupura\", \"opacity\": 1, \"type\": \"scatter\", \"x\": [2004, 2006, 2008, 2010, 2012, 2014], \"y\": [52.0, 47.0, 39.0, 31.0, 25.0, 23.0]}, {\"marker\": {\"line\": {\"width\": 0.1}, \"size\": 0.5}, \"mode\": \"lines\", \"name\": \"Sialkot\", \"opacity\": 1, \"type\": \"scatter\", \"x\": [2004, 2006, 2008, 2010, 2012, 2014], \"y\": [43.0, 37.0, 32.0, 25.0, 18.0, 17.0]}, {\"marker\": {\"line\": {\"width\": 0.1}, \"size\": 0.5}, \"mode\": \"lines\", \"name\": \"Toba Tek Singh\", \"opacity\": 1, \"type\": \"scatter\", \"x\": [2004, 2006, 2008, 2010, 2012, 2014], \"y\": [49.0, 44.0, 35.0, 27.0, 24.0, 21.0]}, {\"marker\": {\"line\": {\"width\": 0.1}, \"size\": 0.5}, \"mode\": \"lines\", \"name\": \"Vehari\", \"opacity\": 1, \"type\": \"scatter\", \"x\": [2004, 2006, 2008, 2010, 2012, 2014], \"y\": [58.0, 56.0, 49.0, 37.0, 37.0, 31.0]}],\n",
       "                        {\"legend\": {\"title\": {\"text\": \"Cities\"}}, \"template\": {\"data\": {\"bar\": [{\"error_x\": {\"color\": \"#2a3f5f\"}, \"error_y\": {\"color\": \"#2a3f5f\"}, \"marker\": {\"line\": {\"color\": \"#E5ECF6\", \"width\": 0.5}}, \"type\": \"bar\"}], \"barpolar\": [{\"marker\": {\"line\": {\"color\": \"#E5ECF6\", \"width\": 0.5}}, \"type\": \"barpolar\"}], \"carpet\": [{\"aaxis\": {\"endlinecolor\": \"#2a3f5f\", \"gridcolor\": \"white\", \"linecolor\": \"white\", \"minorgridcolor\": \"white\", \"startlinecolor\": \"#2a3f5f\"}, \"baxis\": {\"endlinecolor\": \"#2a3f5f\", \"gridcolor\": \"white\", \"linecolor\": \"white\", \"minorgridcolor\": \"white\", \"startlinecolor\": \"#2a3f5f\"}, \"type\": \"carpet\"}], \"choropleth\": [{\"colorbar\": {\"outlinewidth\": 0, \"ticks\": \"\"}, \"type\": \"choropleth\"}], \"contour\": [{\"colorbar\": {\"outlinewidth\": 0, \"ticks\": \"\"}, \"colorscale\": [[0.0, \"#0d0887\"], [0.1111111111111111, \"#46039f\"], [0.2222222222222222, \"#7201a8\"], [0.3333333333333333, \"#9c179e\"], [0.4444444444444444, \"#bd3786\"], [0.5555555555555556, \"#d8576b\"], [0.6666666666666666, \"#ed7953\"], [0.7777777777777778, \"#fb9f3a\"], [0.8888888888888888, \"#fdca26\"], [1.0, \"#f0f921\"]], \"type\": \"contour\"}], \"contourcarpet\": [{\"colorbar\": {\"outlinewidth\": 0, \"ticks\": \"\"}, \"type\": \"contourcarpet\"}], \"heatmap\": [{\"colorbar\": {\"outlinewidth\": 0, \"ticks\": \"\"}, \"colorscale\": [[0.0, \"#0d0887\"], [0.1111111111111111, \"#46039f\"], [0.2222222222222222, \"#7201a8\"], [0.3333333333333333, \"#9c179e\"], [0.4444444444444444, \"#bd3786\"], [0.5555555555555556, \"#d8576b\"], [0.6666666666666666, \"#ed7953\"], [0.7777777777777778, \"#fb9f3a\"], [0.8888888888888888, \"#fdca26\"], [1.0, \"#f0f921\"]], \"type\": \"heatmap\"}], \"heatmapgl\": [{\"colorbar\": {\"outlinewidth\": 0, \"ticks\": \"\"}, \"colorscale\": [[0.0, \"#0d0887\"], [0.1111111111111111, \"#46039f\"], [0.2222222222222222, \"#7201a8\"], [0.3333333333333333, \"#9c179e\"], [0.4444444444444444, \"#bd3786\"], [0.5555555555555556, \"#d8576b\"], [0.6666666666666666, \"#ed7953\"], [0.7777777777777778, \"#fb9f3a\"], [0.8888888888888888, \"#fdca26\"], [1.0, \"#f0f921\"]], \"type\": \"heatmapgl\"}], \"histogram\": [{\"marker\": {\"colorbar\": {\"outlinewidth\": 0, \"ticks\": \"\"}}, \"type\": \"histogram\"}], \"histogram2d\": [{\"colorbar\": {\"outlinewidth\": 0, \"ticks\": \"\"}, \"colorscale\": [[0.0, \"#0d0887\"], [0.1111111111111111, \"#46039f\"], [0.2222222222222222, \"#7201a8\"], [0.3333333333333333, \"#9c179e\"], [0.4444444444444444, \"#bd3786\"], [0.5555555555555556, \"#d8576b\"], [0.6666666666666666, \"#ed7953\"], [0.7777777777777778, \"#fb9f3a\"], [0.8888888888888888, \"#fdca26\"], [1.0, \"#f0f921\"]], \"type\": \"histogram2d\"}], \"histogram2dcontour\": [{\"colorbar\": {\"outlinewidth\": 0, \"ticks\": \"\"}, \"colorscale\": [[0.0, \"#0d0887\"], [0.1111111111111111, \"#46039f\"], [0.2222222222222222, \"#7201a8\"], [0.3333333333333333, \"#9c179e\"], [0.4444444444444444, \"#bd3786\"], [0.5555555555555556, \"#d8576b\"], [0.6666666666666666, \"#ed7953\"], [0.7777777777777778, \"#fb9f3a\"], [0.8888888888888888, \"#fdca26\"], [1.0, \"#f0f921\"]], \"type\": \"histogram2dcontour\"}], \"mesh3d\": [{\"colorbar\": {\"outlinewidth\": 0, \"ticks\": \"\"}, \"type\": \"mesh3d\"}], \"parcoords\": [{\"line\": {\"colorbar\": {\"outlinewidth\": 0, \"ticks\": \"\"}}, \"type\": \"parcoords\"}], \"pie\": [{\"automargin\": true, \"type\": \"pie\"}], \"scatter\": [{\"marker\": {\"colorbar\": {\"outlinewidth\": 0, \"ticks\": \"\"}}, \"type\": \"scatter\"}], \"scatter3d\": [{\"line\": {\"colorbar\": {\"outlinewidth\": 0, \"ticks\": \"\"}}, \"marker\": {\"colorbar\": {\"outlinewidth\": 0, \"ticks\": \"\"}}, \"type\": \"scatter3d\"}], \"scattercarpet\": [{\"marker\": {\"colorbar\": {\"outlinewidth\": 0, \"ticks\": \"\"}}, \"type\": \"scattercarpet\"}], \"scattergeo\": [{\"marker\": {\"colorbar\": {\"outlinewidth\": 0, \"ticks\": \"\"}}, \"type\": \"scattergeo\"}], \"scattergl\": [{\"marker\": {\"colorbar\": {\"outlinewidth\": 0, \"ticks\": \"\"}}, \"type\": \"scattergl\"}], \"scattermapbox\": [{\"marker\": {\"colorbar\": {\"outlinewidth\": 0, \"ticks\": \"\"}}, \"type\": \"scattermapbox\"}], \"scatterpolar\": [{\"marker\": {\"colorbar\": {\"outlinewidth\": 0, \"ticks\": \"\"}}, \"type\": \"scatterpolar\"}], \"scatterpolargl\": [{\"marker\": {\"colorbar\": {\"outlinewidth\": 0, \"ticks\": \"\"}}, \"type\": \"scatterpolargl\"}], \"scatterternary\": [{\"marker\": {\"colorbar\": {\"outlinewidth\": 0, \"ticks\": \"\"}}, \"type\": \"scatterternary\"}], \"surface\": [{\"colorbar\": {\"outlinewidth\": 0, \"ticks\": \"\"}, \"colorscale\": [[0.0, \"#0d0887\"], [0.1111111111111111, \"#46039f\"], [0.2222222222222222, \"#7201a8\"], [0.3333333333333333, \"#9c179e\"], [0.4444444444444444, \"#bd3786\"], [0.5555555555555556, \"#d8576b\"], [0.6666666666666666, \"#ed7953\"], [0.7777777777777778, \"#fb9f3a\"], [0.8888888888888888, \"#fdca26\"], [1.0, \"#f0f921\"]], \"type\": \"surface\"}], \"table\": [{\"cells\": {\"fill\": {\"color\": \"#EBF0F8\"}, \"line\": {\"color\": \"white\"}}, \"header\": {\"fill\": {\"color\": \"#C8D4E3\"}, \"line\": {\"color\": \"white\"}}, \"type\": \"table\"}]}, \"layout\": {\"annotationdefaults\": {\"arrowcolor\": \"#2a3f5f\", \"arrowhead\": 0, \"arrowwidth\": 1}, \"coloraxis\": {\"colorbar\": {\"outlinewidth\": 0, \"ticks\": \"\"}}, \"colorscale\": {\"diverging\": [[0, \"#8e0152\"], [0.1, \"#c51b7d\"], [0.2, \"#de77ae\"], [0.3, \"#f1b6da\"], [0.4, \"#fde0ef\"], [0.5, \"#f7f7f7\"], [0.6, \"#e6f5d0\"], [0.7, \"#b8e186\"], [0.8, \"#7fbc41\"], [0.9, \"#4d9221\"], [1, \"#276419\"]], \"sequential\": [[0.0, \"#0d0887\"], [0.1111111111111111, \"#46039f\"], [0.2222222222222222, \"#7201a8\"], [0.3333333333333333, \"#9c179e\"], [0.4444444444444444, \"#bd3786\"], [0.5555555555555556, \"#d8576b\"], [0.6666666666666666, \"#ed7953\"], [0.7777777777777778, \"#fb9f3a\"], [0.8888888888888888, \"#fdca26\"], [1.0, \"#f0f921\"]], \"sequentialminus\": [[0.0, \"#0d0887\"], [0.1111111111111111, \"#46039f\"], [0.2222222222222222, \"#7201a8\"], [0.3333333333333333, \"#9c179e\"], [0.4444444444444444, \"#bd3786\"], [0.5555555555555556, \"#d8576b\"], [0.6666666666666666, \"#ed7953\"], [0.7777777777777778, \"#fb9f3a\"], [0.8888888888888888, \"#fdca26\"], [1.0, \"#f0f921\"]]}, \"colorway\": [\"#636efa\", \"#EF553B\", \"#00cc96\", \"#ab63fa\", \"#FFA15A\", \"#19d3f3\", \"#FF6692\", \"#B6E880\", \"#FF97FF\", \"#FECB52\"], \"font\": {\"color\": \"#2a3f5f\"}, \"geo\": {\"bgcolor\": \"white\", \"lakecolor\": \"white\", \"landcolor\": \"#E5ECF6\", \"showlakes\": true, \"showland\": true, \"subunitcolor\": \"white\"}, \"hoverlabel\": {\"align\": \"left\"}, \"hovermode\": \"closest\", \"mapbox\": {\"style\": \"light\"}, \"paper_bgcolor\": \"white\", \"plot_bgcolor\": \"#E5ECF6\", \"polar\": {\"angularaxis\": {\"gridcolor\": \"white\", \"linecolor\": \"white\", \"ticks\": \"\"}, \"bgcolor\": \"#E5ECF6\", \"radialaxis\": {\"gridcolor\": \"white\", \"linecolor\": \"white\", \"ticks\": \"\"}}, \"scene\": {\"xaxis\": {\"backgroundcolor\": \"#E5ECF6\", \"gridcolor\": \"white\", \"gridwidth\": 2, \"linecolor\": \"white\", \"showbackground\": true, \"ticks\": \"\", \"zerolinecolor\": \"white\"}, \"yaxis\": {\"backgroundcolor\": \"#E5ECF6\", \"gridcolor\": \"white\", \"gridwidth\": 2, \"linecolor\": \"white\", \"showbackground\": true, \"ticks\": \"\", \"zerolinecolor\": \"white\"}, \"zaxis\": {\"backgroundcolor\": \"#E5ECF6\", \"gridcolor\": \"white\", \"gridwidth\": 2, \"linecolor\": \"white\", \"showbackground\": true, \"ticks\": \"\", \"zerolinecolor\": \"white\"}}, \"shapedefaults\": {\"line\": {\"color\": \"#2a3f5f\"}}, \"ternary\": {\"aaxis\": {\"gridcolor\": \"white\", \"linecolor\": \"white\", \"ticks\": \"\"}, \"baxis\": {\"gridcolor\": \"white\", \"linecolor\": \"white\", \"ticks\": \"\"}, \"bgcolor\": \"#E5ECF6\", \"caxis\": {\"gridcolor\": \"white\", \"linecolor\": \"white\", \"ticks\": \"\"}}, \"title\": {\"x\": 0.05}, \"xaxis\": {\"automargin\": true, \"gridcolor\": \"white\", \"linecolor\": \"white\", \"ticks\": \"\", \"title\": {\"standoff\": 15}, \"zerolinecolor\": \"white\", \"zerolinewidth\": 2}, \"yaxis\": {\"automargin\": true, \"gridcolor\": \"white\", \"linecolor\": \"white\", \"ticks\": \"\", \"title\": {\"standoff\": 15}, \"zerolinecolor\": \"white\", \"zerolinewidth\": 2}}}, \"xaxis\": {\"range\": [2004, 2014]}, \"yaxis\": {\"range\": [0, 100]}},\n",
       "                        {\"responsive\": true}\n",
       "                    ).then(function(){\n",
       "                            \n",
       "var gd = document.getElementById('c0b1eb1e-e632-4226-b837-2efb0f83ab75');\n",
       "var x = new MutationObserver(function (mutations, observer) {{\n",
       "        var display = window.getComputedStyle(gd).display;\n",
       "        if (!display || display === 'none') {{\n",
       "            console.log([gd, 'removed!']);\n",
       "            Plotly.purge(gd);\n",
       "            observer.disconnect();\n",
       "        }}\n",
       "}});\n",
       "\n",
       "// Listen for the removal of the full notebook cells\n",
       "var notebookContainer = gd.closest('#notebook-container');\n",
       "if (notebookContainer) {{\n",
       "    x.observe(notebookContainer, {childList: true});\n",
       "}}\n",
       "\n",
       "// Listen for the clearing of the current output cell\n",
       "var outputEl = gd.closest('.output');\n",
       "if (outputEl) {{\n",
       "    x.observe(outputEl, {childList: true});\n",
       "}}\n",
       "\n",
       "                        })\n",
       "                };\n",
       "                });\n",
       "            </script>\n",
       "        </div>"
      ]
     },
     "metadata": {},
     "output_type": "display_data"
    },
    {
     "name": "stdout",
     "output_type": "stream",
     "text": [
      "SINDH\n"
     ]
    },
    {
     "data": {
      "application/vnd.plotly.v1+json": {
       "config": {
        "plotlyServerURL": "https://plot.ly"
       },
       "data": [
        {
         "marker": {
          "line": {
           "width": 0.1
          },
          "size": 0.5
         },
         "mode": "lines",
         "name": "Badin",
         "opacity": 1,
         "type": "scatter",
         "x": [
          2004,
          2006,
          2008,
          2010,
          2012,
          2014
         ],
         "y": [
          47,
          66,
          56,
          49,
          50,
          47
         ]
        },
        {
         "marker": {
          "line": {
           "width": 0.1
          },
          "size": 0.5
         },
         "mode": "lines",
         "name": "Dadu",
         "opacity": 1,
         "type": "scatter",
         "x": [
          2004,
          2006,
          2008,
          2010,
          2012,
          2014
         ],
         "y": [
          52,
          61,
          48,
          36,
          44,
          36
         ]
        },
        {
         "marker": {
          "line": {
           "width": 0.1
          },
          "size": 0.5
         },
         "mode": "lines",
         "name": "Ghotki",
         "opacity": 1,
         "type": "scatter",
         "x": [
          2004,
          2006,
          2008,
          2010,
          2012,
          2014
         ],
         "y": [
          45,
          61,
          55,
          41,
          51,
          46
         ]
        },
        {
         "marker": {
          "line": {
           "width": 0.1
          },
          "size": 0.5
         },
         "mode": "lines",
         "name": "Hyderabad",
         "opacity": 1,
         "type": "scatter",
         "x": [
          2004,
          2006,
          2008,
          2010,
          2012,
          2014
         ],
         "y": [
          41,
          50,
          30,
          26,
          33,
          28
         ]
        },
        {
         "marker": {
          "line": {
           "width": 0.1
          },
          "size": 0.5
         },
         "mode": "lines",
         "name": "Jacobabad",
         "opacity": 1,
         "type": "scatter",
         "x": [
          2004,
          2006,
          2008,
          2010,
          2012,
          2014
         ],
         "y": [
          52,
          67,
          58,
          47,
          49,
          48
         ]
        },
        {
         "marker": {
          "line": {
           "width": 0.1
          },
          "size": 0.5
         },
         "mode": "lines",
         "name": "Jamshoro",
         "opacity": 1,
         "type": "scatter",
         "x": [
          2004,
          2006,
          2008,
          2010,
          2012,
          2014
         ],
         "y": [
          52,
          61,
          53,
          43,
          46,
          42
         ]
        },
        {
         "marker": {
          "line": {
           "width": 0.1
          },
          "size": 0.5
         },
         "mode": "lines",
         "name": "Karachi City",
         "opacity": 1,
         "type": "scatter",
         "x": [
          2004,
          2006,
          2008,
          2010,
          2012,
          2014
         ],
         "y": [
          28,
          23,
          24,
          21,
          22,
          17
         ]
        },
        {
         "marker": {
          "line": {
           "width": 0.1
          },
          "size": 0.5
         },
         "mode": "lines",
         "name": "Kashmore",
         "opacity": 1,
         "type": "scatter",
         "x": [
          2004,
          2006,
          2008,
          2010,
          2012,
          2014
         ],
         "y": [
          52,
          67,
          53,
          42,
          52,
          48
         ]
        },
        {
         "marker": {
          "line": {
           "width": 0.1
          },
          "size": 0.5
         },
         "mode": "lines",
         "name": "Khairpur",
         "opacity": 1,
         "type": "scatter",
         "x": [
          2004,
          2006,
          2008,
          2010,
          2012,
          2014
         ],
         "y": [
          53,
          58,
          51,
          42,
          48,
          42
         ]
        },
        {
         "marker": {
          "line": {
           "width": 0.1
          },
          "size": 0.5
         },
         "mode": "lines",
         "name": "Larkana",
         "opacity": 1,
         "type": "scatter",
         "x": [
          2004,
          2006,
          2008,
          2010,
          2012,
          2014
         ],
         "y": [
          55,
          68,
          49,
          41,
          47,
          35
         ]
        },
        {
         "marker": {
          "line": {
           "width": 0.1
          },
          "size": 0.5
         },
         "mode": "lines",
         "name": "Matiari",
         "opacity": 1,
         "type": "scatter",
         "x": [
          2004,
          2006,
          2008,
          2010,
          2012,
          2014
         ],
         "y": [
          41,
          50,
          48,
          40,
          43,
          41
         ]
        },
        {
         "marker": {
          "line": {
           "width": 0.1
          },
          "size": 0.5
         },
         "mode": "lines",
         "name": "Mirpur Khas",
         "opacity": 1,
         "type": "scatter",
         "x": [
          2004,
          2006,
          2008,
          2010,
          2012,
          2014
         ],
         "y": [
          43,
          55,
          55,
          40,
          43,
          41
         ]
        },
        {
         "marker": {
          "line": {
           "width": 0.1
          },
          "size": 0.5
         },
         "mode": "lines",
         "name": "Naushahro Feroze",
         "opacity": 1,
         "type": "scatter",
         "x": [
          2004,
          2006,
          2008,
          2010,
          2012,
          2014
         ],
         "y": [
          52,
          58,
          38,
          39,
          46,
          33
         ]
        },
        {
         "marker": {
          "line": {
           "width": 0.1
          },
          "size": 0.5
         },
         "mode": "lines",
         "name": "Qambar Shahdadkot",
         "opacity": 1,
         "type": "scatter",
         "x": [
          2004,
          2006,
          2008,
          2010,
          2012,
          2014
         ],
         "y": [
          55,
          68,
          58,
          45,
          52,
          48
         ]
        },
        {
         "marker": {
          "line": {
           "width": 0.1
          },
          "size": 0.5
         },
         "mode": "lines",
         "name": "Sanghar",
         "opacity": 1,
         "type": "scatter",
         "x": [
          2004,
          2006,
          2008,
          2010,
          2012,
          2014
         ],
         "y": [
          45,
          57,
          50,
          41,
          44,
          44
         ]
        },
        {
         "marker": {
          "line": {
           "width": 0.1
          },
          "size": 0.5
         },
         "mode": "lines",
         "name": "Shaheed Benazirabad",
         "opacity": 1,
         "type": "scatter",
         "x": [
          2004,
          2006,
          2008,
          2010,
          2012,
          2014
         ],
         "y": [
          50,
          56,
          50,
          40,
          45,
          41
         ]
        },
        {
         "marker": {
          "line": {
           "width": 0.1
          },
          "size": 0.5
         },
         "mode": "lines",
         "name": "Shikarpur",
         "opacity": 1,
         "type": "scatter",
         "x": [
          2004,
          2006,
          2008,
          2010,
          2012,
          2014
         ],
         "y": [
          51,
          70,
          51,
          42,
          51,
          44
         ]
        },
        {
         "marker": {
          "line": {
           "width": 0.1
          },
          "size": 0.5
         },
         "mode": "lines",
         "name": "Sujawal",
         "opacity": 1,
         "type": "scatter",
         "x": [
          2004,
          2006,
          2008,
          2010,
          2012,
          2014
         ],
         "y": [
          51,
          59,
          57,
          50,
          47,
          52
         ]
        },
        {
         "marker": {
          "line": {
           "width": 0.1
          },
          "size": 0.5
         },
         "mode": "lines",
         "name": "Sukkur",
         "opacity": 1,
         "type": "scatter",
         "x": [
          2004,
          2006,
          2008,
          2010,
          2012,
          2014
         ],
         "y": [
          48,
          54,
          48,
          37,
          43,
          36
         ]
        },
        {
         "marker": {
          "line": {
           "width": 0.1
          },
          "size": 0.5
         },
         "mode": "lines",
         "name": "Tando Allah Yar",
         "opacity": 1,
         "type": "scatter",
         "x": [
          2004,
          2006,
          2008,
          2010,
          2012,
          2014
         ],
         "y": [
          41,
          50,
          48,
          44,
          47,
          46
         ]
        },
        {
         "marker": {
          "line": {
           "width": 0.1
          },
          "size": 0.5
         },
         "mode": "lines",
         "name": "Tando Muhammad Khan",
         "opacity": 1,
         "type": "scatter",
         "x": [
          2004,
          2006,
          2008,
          2010,
          2012,
          2014
         ],
         "y": [
          41,
          50,
          56,
          50,
          49,
          49
         ]
        },
        {
         "marker": {
          "line": {
           "width": 0.1
          },
          "size": 0.5
         },
         "mode": "lines",
         "name": "Tharparkar",
         "opacity": 1,
         "type": "scatter",
         "x": [
          2004,
          2006,
          2008,
          2010,
          2012,
          2014
         ],
         "y": [
          45,
          58,
          60,
          51,
          45,
          51
         ]
        },
        {
         "marker": {
          "line": {
           "width": 0.1
          },
          "size": 0.5
         },
         "mode": "lines",
         "name": "Thatta",
         "opacity": 1,
         "type": "scatter",
         "x": [
          2004,
          2006,
          2008,
          2010,
          2012,
          2014
         ],
         "y": [
          51,
          59,
          57,
          50,
          47,
          51
         ]
        },
        {
         "marker": {
          "line": {
           "width": 0.1
          },
          "size": 0.5
         },
         "mode": "lines",
         "name": "Umerkot",
         "opacity": 1,
         "type": "scatter",
         "x": [
          2004,
          2006,
          2008,
          2010,
          2012,
          2014
         ],
         "y": [
          43,
          55,
          55,
          46,
          47,
          46
         ]
        }
       ],
       "layout": {
        "legend": {
         "title": {
          "text": "Cities"
         }
        },
        "template": {
         "data": {
          "bar": [
           {
            "error_x": {
             "color": "#2a3f5f"
            },
            "error_y": {
             "color": "#2a3f5f"
            },
            "marker": {
             "line": {
              "color": "#E5ECF6",
              "width": 0.5
             }
            },
            "type": "bar"
           }
          ],
          "barpolar": [
           {
            "marker": {
             "line": {
              "color": "#E5ECF6",
              "width": 0.5
             }
            },
            "type": "barpolar"
           }
          ],
          "carpet": [
           {
            "aaxis": {
             "endlinecolor": "#2a3f5f",
             "gridcolor": "white",
             "linecolor": "white",
             "minorgridcolor": "white",
             "startlinecolor": "#2a3f5f"
            },
            "baxis": {
             "endlinecolor": "#2a3f5f",
             "gridcolor": "white",
             "linecolor": "white",
             "minorgridcolor": "white",
             "startlinecolor": "#2a3f5f"
            },
            "type": "carpet"
           }
          ],
          "choropleth": [
           {
            "colorbar": {
             "outlinewidth": 0,
             "ticks": ""
            },
            "type": "choropleth"
           }
          ],
          "contour": [
           {
            "colorbar": {
             "outlinewidth": 0,
             "ticks": ""
            },
            "colorscale": [
             [
              0,
              "#0d0887"
             ],
             [
              0.1111111111111111,
              "#46039f"
             ],
             [
              0.2222222222222222,
              "#7201a8"
             ],
             [
              0.3333333333333333,
              "#9c179e"
             ],
             [
              0.4444444444444444,
              "#bd3786"
             ],
             [
              0.5555555555555556,
              "#d8576b"
             ],
             [
              0.6666666666666666,
              "#ed7953"
             ],
             [
              0.7777777777777778,
              "#fb9f3a"
             ],
             [
              0.8888888888888888,
              "#fdca26"
             ],
             [
              1,
              "#f0f921"
             ]
            ],
            "type": "contour"
           }
          ],
          "contourcarpet": [
           {
            "colorbar": {
             "outlinewidth": 0,
             "ticks": ""
            },
            "type": "contourcarpet"
           }
          ],
          "heatmap": [
           {
            "colorbar": {
             "outlinewidth": 0,
             "ticks": ""
            },
            "colorscale": [
             [
              0,
              "#0d0887"
             ],
             [
              0.1111111111111111,
              "#46039f"
             ],
             [
              0.2222222222222222,
              "#7201a8"
             ],
             [
              0.3333333333333333,
              "#9c179e"
             ],
             [
              0.4444444444444444,
              "#bd3786"
             ],
             [
              0.5555555555555556,
              "#d8576b"
             ],
             [
              0.6666666666666666,
              "#ed7953"
             ],
             [
              0.7777777777777778,
              "#fb9f3a"
             ],
             [
              0.8888888888888888,
              "#fdca26"
             ],
             [
              1,
              "#f0f921"
             ]
            ],
            "type": "heatmap"
           }
          ],
          "heatmapgl": [
           {
            "colorbar": {
             "outlinewidth": 0,
             "ticks": ""
            },
            "colorscale": [
             [
              0,
              "#0d0887"
             ],
             [
              0.1111111111111111,
              "#46039f"
             ],
             [
              0.2222222222222222,
              "#7201a8"
             ],
             [
              0.3333333333333333,
              "#9c179e"
             ],
             [
              0.4444444444444444,
              "#bd3786"
             ],
             [
              0.5555555555555556,
              "#d8576b"
             ],
             [
              0.6666666666666666,
              "#ed7953"
             ],
             [
              0.7777777777777778,
              "#fb9f3a"
             ],
             [
              0.8888888888888888,
              "#fdca26"
             ],
             [
              1,
              "#f0f921"
             ]
            ],
            "type": "heatmapgl"
           }
          ],
          "histogram": [
           {
            "marker": {
             "colorbar": {
              "outlinewidth": 0,
              "ticks": ""
             }
            },
            "type": "histogram"
           }
          ],
          "histogram2d": [
           {
            "colorbar": {
             "outlinewidth": 0,
             "ticks": ""
            },
            "colorscale": [
             [
              0,
              "#0d0887"
             ],
             [
              0.1111111111111111,
              "#46039f"
             ],
             [
              0.2222222222222222,
              "#7201a8"
             ],
             [
              0.3333333333333333,
              "#9c179e"
             ],
             [
              0.4444444444444444,
              "#bd3786"
             ],
             [
              0.5555555555555556,
              "#d8576b"
             ],
             [
              0.6666666666666666,
              "#ed7953"
             ],
             [
              0.7777777777777778,
              "#fb9f3a"
             ],
             [
              0.8888888888888888,
              "#fdca26"
             ],
             [
              1,
              "#f0f921"
             ]
            ],
            "type": "histogram2d"
           }
          ],
          "histogram2dcontour": [
           {
            "colorbar": {
             "outlinewidth": 0,
             "ticks": ""
            },
            "colorscale": [
             [
              0,
              "#0d0887"
             ],
             [
              0.1111111111111111,
              "#46039f"
             ],
             [
              0.2222222222222222,
              "#7201a8"
             ],
             [
              0.3333333333333333,
              "#9c179e"
             ],
             [
              0.4444444444444444,
              "#bd3786"
             ],
             [
              0.5555555555555556,
              "#d8576b"
             ],
             [
              0.6666666666666666,
              "#ed7953"
             ],
             [
              0.7777777777777778,
              "#fb9f3a"
             ],
             [
              0.8888888888888888,
              "#fdca26"
             ],
             [
              1,
              "#f0f921"
             ]
            ],
            "type": "histogram2dcontour"
           }
          ],
          "mesh3d": [
           {
            "colorbar": {
             "outlinewidth": 0,
             "ticks": ""
            },
            "type": "mesh3d"
           }
          ],
          "parcoords": [
           {
            "line": {
             "colorbar": {
              "outlinewidth": 0,
              "ticks": ""
             }
            },
            "type": "parcoords"
           }
          ],
          "pie": [
           {
            "automargin": true,
            "type": "pie"
           }
          ],
          "scatter": [
           {
            "marker": {
             "colorbar": {
              "outlinewidth": 0,
              "ticks": ""
             }
            },
            "type": "scatter"
           }
          ],
          "scatter3d": [
           {
            "line": {
             "colorbar": {
              "outlinewidth": 0,
              "ticks": ""
             }
            },
            "marker": {
             "colorbar": {
              "outlinewidth": 0,
              "ticks": ""
             }
            },
            "type": "scatter3d"
           }
          ],
          "scattercarpet": [
           {
            "marker": {
             "colorbar": {
              "outlinewidth": 0,
              "ticks": ""
             }
            },
            "type": "scattercarpet"
           }
          ],
          "scattergeo": [
           {
            "marker": {
             "colorbar": {
              "outlinewidth": 0,
              "ticks": ""
             }
            },
            "type": "scattergeo"
           }
          ],
          "scattergl": [
           {
            "marker": {
             "colorbar": {
              "outlinewidth": 0,
              "ticks": ""
             }
            },
            "type": "scattergl"
           }
          ],
          "scattermapbox": [
           {
            "marker": {
             "colorbar": {
              "outlinewidth": 0,
              "ticks": ""
             }
            },
            "type": "scattermapbox"
           }
          ],
          "scatterpolar": [
           {
            "marker": {
             "colorbar": {
              "outlinewidth": 0,
              "ticks": ""
             }
            },
            "type": "scatterpolar"
           }
          ],
          "scatterpolargl": [
           {
            "marker": {
             "colorbar": {
              "outlinewidth": 0,
              "ticks": ""
             }
            },
            "type": "scatterpolargl"
           }
          ],
          "scatterternary": [
           {
            "marker": {
             "colorbar": {
              "outlinewidth": 0,
              "ticks": ""
             }
            },
            "type": "scatterternary"
           }
          ],
          "surface": [
           {
            "colorbar": {
             "outlinewidth": 0,
             "ticks": ""
            },
            "colorscale": [
             [
              0,
              "#0d0887"
             ],
             [
              0.1111111111111111,
              "#46039f"
             ],
             [
              0.2222222222222222,
              "#7201a8"
             ],
             [
              0.3333333333333333,
              "#9c179e"
             ],
             [
              0.4444444444444444,
              "#bd3786"
             ],
             [
              0.5555555555555556,
              "#d8576b"
             ],
             [
              0.6666666666666666,
              "#ed7953"
             ],
             [
              0.7777777777777778,
              "#fb9f3a"
             ],
             [
              0.8888888888888888,
              "#fdca26"
             ],
             [
              1,
              "#f0f921"
             ]
            ],
            "type": "surface"
           }
          ],
          "table": [
           {
            "cells": {
             "fill": {
              "color": "#EBF0F8"
             },
             "line": {
              "color": "white"
             }
            },
            "header": {
             "fill": {
              "color": "#C8D4E3"
             },
             "line": {
              "color": "white"
             }
            },
            "type": "table"
           }
          ]
         },
         "layout": {
          "annotationdefaults": {
           "arrowcolor": "#2a3f5f",
           "arrowhead": 0,
           "arrowwidth": 1
          },
          "coloraxis": {
           "colorbar": {
            "outlinewidth": 0,
            "ticks": ""
           }
          },
          "colorscale": {
           "diverging": [
            [
             0,
             "#8e0152"
            ],
            [
             0.1,
             "#c51b7d"
            ],
            [
             0.2,
             "#de77ae"
            ],
            [
             0.3,
             "#f1b6da"
            ],
            [
             0.4,
             "#fde0ef"
            ],
            [
             0.5,
             "#f7f7f7"
            ],
            [
             0.6,
             "#e6f5d0"
            ],
            [
             0.7,
             "#b8e186"
            ],
            [
             0.8,
             "#7fbc41"
            ],
            [
             0.9,
             "#4d9221"
            ],
            [
             1,
             "#276419"
            ]
           ],
           "sequential": [
            [
             0,
             "#0d0887"
            ],
            [
             0.1111111111111111,
             "#46039f"
            ],
            [
             0.2222222222222222,
             "#7201a8"
            ],
            [
             0.3333333333333333,
             "#9c179e"
            ],
            [
             0.4444444444444444,
             "#bd3786"
            ],
            [
             0.5555555555555556,
             "#d8576b"
            ],
            [
             0.6666666666666666,
             "#ed7953"
            ],
            [
             0.7777777777777778,
             "#fb9f3a"
            ],
            [
             0.8888888888888888,
             "#fdca26"
            ],
            [
             1,
             "#f0f921"
            ]
           ],
           "sequentialminus": [
            [
             0,
             "#0d0887"
            ],
            [
             0.1111111111111111,
             "#46039f"
            ],
            [
             0.2222222222222222,
             "#7201a8"
            ],
            [
             0.3333333333333333,
             "#9c179e"
            ],
            [
             0.4444444444444444,
             "#bd3786"
            ],
            [
             0.5555555555555556,
             "#d8576b"
            ],
            [
             0.6666666666666666,
             "#ed7953"
            ],
            [
             0.7777777777777778,
             "#fb9f3a"
            ],
            [
             0.8888888888888888,
             "#fdca26"
            ],
            [
             1,
             "#f0f921"
            ]
           ]
          },
          "colorway": [
           "#636efa",
           "#EF553B",
           "#00cc96",
           "#ab63fa",
           "#FFA15A",
           "#19d3f3",
           "#FF6692",
           "#B6E880",
           "#FF97FF",
           "#FECB52"
          ],
          "font": {
           "color": "#2a3f5f"
          },
          "geo": {
           "bgcolor": "white",
           "lakecolor": "white",
           "landcolor": "#E5ECF6",
           "showlakes": true,
           "showland": true,
           "subunitcolor": "white"
          },
          "hoverlabel": {
           "align": "left"
          },
          "hovermode": "closest",
          "mapbox": {
           "style": "light"
          },
          "paper_bgcolor": "white",
          "plot_bgcolor": "#E5ECF6",
          "polar": {
           "angularaxis": {
            "gridcolor": "white",
            "linecolor": "white",
            "ticks": ""
           },
           "bgcolor": "#E5ECF6",
           "radialaxis": {
            "gridcolor": "white",
            "linecolor": "white",
            "ticks": ""
           }
          },
          "scene": {
           "xaxis": {
            "backgroundcolor": "#E5ECF6",
            "gridcolor": "white",
            "gridwidth": 2,
            "linecolor": "white",
            "showbackground": true,
            "ticks": "",
            "zerolinecolor": "white"
           },
           "yaxis": {
            "backgroundcolor": "#E5ECF6",
            "gridcolor": "white",
            "gridwidth": 2,
            "linecolor": "white",
            "showbackground": true,
            "ticks": "",
            "zerolinecolor": "white"
           },
           "zaxis": {
            "backgroundcolor": "#E5ECF6",
            "gridcolor": "white",
            "gridwidth": 2,
            "linecolor": "white",
            "showbackground": true,
            "ticks": "",
            "zerolinecolor": "white"
           }
          },
          "shapedefaults": {
           "line": {
            "color": "#2a3f5f"
           }
          },
          "ternary": {
           "aaxis": {
            "gridcolor": "white",
            "linecolor": "white",
            "ticks": ""
           },
           "baxis": {
            "gridcolor": "white",
            "linecolor": "white",
            "ticks": ""
           },
           "bgcolor": "#E5ECF6",
           "caxis": {
            "gridcolor": "white",
            "linecolor": "white",
            "ticks": ""
           }
          },
          "title": {
           "x": 0.05
          },
          "xaxis": {
           "automargin": true,
           "gridcolor": "white",
           "linecolor": "white",
           "ticks": "",
           "title": {
            "standoff": 15
           },
           "zerolinecolor": "white",
           "zerolinewidth": 2
          },
          "yaxis": {
           "automargin": true,
           "gridcolor": "white",
           "linecolor": "white",
           "ticks": "",
           "title": {
            "standoff": 15
           },
           "zerolinecolor": "white",
           "zerolinewidth": 2
          }
         }
        },
        "xaxis": {
         "range": [
          2004,
          2014
         ]
        },
        "yaxis": {
         "range": [
          0,
          100
         ]
        }
       }
      },
      "text/html": [
       "<div>\n",
       "        \n",
       "        \n",
       "            <div id=\"78e6d44b-7377-4471-839b-e48d4c4e0e7c\" class=\"plotly-graph-div\" style=\"height:525px; width:100%;\"></div>\n",
       "            <script type=\"text/javascript\">\n",
       "                require([\"plotly\"], function(Plotly) {\n",
       "                    window.PLOTLYENV=window.PLOTLYENV || {};\n",
       "                    \n",
       "                if (document.getElementById(\"78e6d44b-7377-4471-839b-e48d4c4e0e7c\")) {\n",
       "                    Plotly.newPlot(\n",
       "                        '78e6d44b-7377-4471-839b-e48d4c4e0e7c',\n",
       "                        [{\"marker\": {\"line\": {\"width\": 0.1}, \"size\": 0.5}, \"mode\": \"lines\", \"name\": \"Badin\", \"opacity\": 1, \"type\": \"scatter\", \"x\": [2004, 2006, 2008, 2010, 2012, 2014], \"y\": [47.0, 66.0, 56.0, 49.0, 50.0, 47.0]}, {\"marker\": {\"line\": {\"width\": 0.1}, \"size\": 0.5}, \"mode\": \"lines\", \"name\": \"Dadu\", \"opacity\": 1, \"type\": \"scatter\", \"x\": [2004, 2006, 2008, 2010, 2012, 2014], \"y\": [52.0, 61.0, 48.0, 36.0, 44.0, 36.0]}, {\"marker\": {\"line\": {\"width\": 0.1}, \"size\": 0.5}, \"mode\": \"lines\", \"name\": \"Ghotki\", \"opacity\": 1, \"type\": \"scatter\", \"x\": [2004, 2006, 2008, 2010, 2012, 2014], \"y\": [45.0, 61.0, 55.0, 41.0, 51.0, 46.0]}, {\"marker\": {\"line\": {\"width\": 0.1}, \"size\": 0.5}, \"mode\": \"lines\", \"name\": \"Hyderabad\", \"opacity\": 1, \"type\": \"scatter\", \"x\": [2004, 2006, 2008, 2010, 2012, 2014], \"y\": [41.0, 50.0, 30.0, 26.0, 33.0, 28.0]}, {\"marker\": {\"line\": {\"width\": 0.1}, \"size\": 0.5}, \"mode\": \"lines\", \"name\": \"Jacobabad\", \"opacity\": 1, \"type\": \"scatter\", \"x\": [2004, 2006, 2008, 2010, 2012, 2014], \"y\": [52.0, 67.0, 58.0, 47.0, 49.0, 48.0]}, {\"marker\": {\"line\": {\"width\": 0.1}, \"size\": 0.5}, \"mode\": \"lines\", \"name\": \"Jamshoro\", \"opacity\": 1, \"type\": \"scatter\", \"x\": [2004, 2006, 2008, 2010, 2012, 2014], \"y\": [52.0, 61.0, 53.0, 43.0, 46.0, 42.0]}, {\"marker\": {\"line\": {\"width\": 0.1}, \"size\": 0.5}, \"mode\": \"lines\", \"name\": \"Karachi City\", \"opacity\": 1, \"type\": \"scatter\", \"x\": [2004, 2006, 2008, 2010, 2012, 2014], \"y\": [28.0, 23.0, 24.0, 21.0, 22.0, 17.0]}, {\"marker\": {\"line\": {\"width\": 0.1}, \"size\": 0.5}, \"mode\": \"lines\", \"name\": \"Kashmore\", \"opacity\": 1, \"type\": \"scatter\", \"x\": [2004, 2006, 2008, 2010, 2012, 2014], \"y\": [52.0, 67.0, 53.0, 42.0, 52.0, 48.0]}, {\"marker\": {\"line\": {\"width\": 0.1}, \"size\": 0.5}, \"mode\": \"lines\", \"name\": \"Khairpur\", \"opacity\": 1, \"type\": \"scatter\", \"x\": [2004, 2006, 2008, 2010, 2012, 2014], \"y\": [53.0, 58.0, 51.0, 42.0, 48.0, 42.0]}, {\"marker\": {\"line\": {\"width\": 0.1}, \"size\": 0.5}, \"mode\": \"lines\", \"name\": \"Larkana\", \"opacity\": 1, \"type\": \"scatter\", \"x\": [2004, 2006, 2008, 2010, 2012, 2014], \"y\": [55.0, 68.0, 49.0, 41.0, 47.0, 35.0]}, {\"marker\": {\"line\": {\"width\": 0.1}, \"size\": 0.5}, \"mode\": \"lines\", \"name\": \"Matiari\", \"opacity\": 1, \"type\": \"scatter\", \"x\": [2004, 2006, 2008, 2010, 2012, 2014], \"y\": [41.0, 50.0, 48.0, 40.0, 43.0, 41.0]}, {\"marker\": {\"line\": {\"width\": 0.1}, \"size\": 0.5}, \"mode\": \"lines\", \"name\": \"Mirpur Khas\", \"opacity\": 1, \"type\": \"scatter\", \"x\": [2004, 2006, 2008, 2010, 2012, 2014], \"y\": [43.0, 55.0, 55.0, 40.0, 43.0, 41.0]}, {\"marker\": {\"line\": {\"width\": 0.1}, \"size\": 0.5}, \"mode\": \"lines\", \"name\": \"Naushahro Feroze\", \"opacity\": 1, \"type\": \"scatter\", \"x\": [2004, 2006, 2008, 2010, 2012, 2014], \"y\": [52.0, 58.0, 38.0, 39.0, 46.0, 33.0]}, {\"marker\": {\"line\": {\"width\": 0.1}, \"size\": 0.5}, \"mode\": \"lines\", \"name\": \"Qambar Shahdadkot\", \"opacity\": 1, \"type\": \"scatter\", \"x\": [2004, 2006, 2008, 2010, 2012, 2014], \"y\": [55.0, 68.0, 58.0, 45.0, 52.0, 48.0]}, {\"marker\": {\"line\": {\"width\": 0.1}, \"size\": 0.5}, \"mode\": \"lines\", \"name\": \"Sanghar\", \"opacity\": 1, \"type\": \"scatter\", \"x\": [2004, 2006, 2008, 2010, 2012, 2014], \"y\": [45.0, 57.0, 50.0, 41.0, 44.0, 44.0]}, {\"marker\": {\"line\": {\"width\": 0.1}, \"size\": 0.5}, \"mode\": \"lines\", \"name\": \"Shaheed Benazirabad\", \"opacity\": 1, \"type\": \"scatter\", \"x\": [2004, 2006, 2008, 2010, 2012, 2014], \"y\": [50.0, 56.0, 50.0, 40.0, 45.0, 41.0]}, {\"marker\": {\"line\": {\"width\": 0.1}, \"size\": 0.5}, \"mode\": \"lines\", \"name\": \"Shikarpur\", \"opacity\": 1, \"type\": \"scatter\", \"x\": [2004, 2006, 2008, 2010, 2012, 2014], \"y\": [51.0, 70.0, 51.0, 42.0, 51.0, 44.0]}, {\"marker\": {\"line\": {\"width\": 0.1}, \"size\": 0.5}, \"mode\": \"lines\", \"name\": \"Sujawal\", \"opacity\": 1, \"type\": \"scatter\", \"x\": [2004, 2006, 2008, 2010, 2012, 2014], \"y\": [51.0, 59.0, 57.0, 50.0, 47.0, 52.0]}, {\"marker\": {\"line\": {\"width\": 0.1}, \"size\": 0.5}, \"mode\": \"lines\", \"name\": \"Sukkur\", \"opacity\": 1, \"type\": \"scatter\", \"x\": [2004, 2006, 2008, 2010, 2012, 2014], \"y\": [48.0, 54.0, 48.0, 37.0, 43.0, 36.0]}, {\"marker\": {\"line\": {\"width\": 0.1}, \"size\": 0.5}, \"mode\": \"lines\", \"name\": \"Tando Allah Yar\", \"opacity\": 1, \"type\": \"scatter\", \"x\": [2004, 2006, 2008, 2010, 2012, 2014], \"y\": [41.0, 50.0, 48.0, 44.0, 47.0, 46.0]}, {\"marker\": {\"line\": {\"width\": 0.1}, \"size\": 0.5}, \"mode\": \"lines\", \"name\": \"Tando Muhammad Khan\", \"opacity\": 1, \"type\": \"scatter\", \"x\": [2004, 2006, 2008, 2010, 2012, 2014], \"y\": [41.0, 50.0, 56.0, 50.0, 49.0, 49.0]}, {\"marker\": {\"line\": {\"width\": 0.1}, \"size\": 0.5}, \"mode\": \"lines\", \"name\": \"Tharparkar\", \"opacity\": 1, \"type\": \"scatter\", \"x\": [2004, 2006, 2008, 2010, 2012, 2014], \"y\": [45.0, 58.0, 60.0, 51.0, 45.0, 51.0]}, {\"marker\": {\"line\": {\"width\": 0.1}, \"size\": 0.5}, \"mode\": \"lines\", \"name\": \"Thatta\", \"opacity\": 1, \"type\": \"scatter\", \"x\": [2004, 2006, 2008, 2010, 2012, 2014], \"y\": [51.0, 59.0, 57.0, 50.0, 47.0, 51.0]}, {\"marker\": {\"line\": {\"width\": 0.1}, \"size\": 0.5}, \"mode\": \"lines\", \"name\": \"Umerkot\", \"opacity\": 1, \"type\": \"scatter\", \"x\": [2004, 2006, 2008, 2010, 2012, 2014], \"y\": [43.0, 55.0, 55.0, 46.0, 47.0, 46.0]}],\n",
       "                        {\"legend\": {\"title\": {\"text\": \"Cities\"}}, \"template\": {\"data\": {\"bar\": [{\"error_x\": {\"color\": \"#2a3f5f\"}, \"error_y\": {\"color\": \"#2a3f5f\"}, \"marker\": {\"line\": {\"color\": \"#E5ECF6\", \"width\": 0.5}}, \"type\": \"bar\"}], \"barpolar\": [{\"marker\": {\"line\": {\"color\": \"#E5ECF6\", \"width\": 0.5}}, \"type\": \"barpolar\"}], \"carpet\": [{\"aaxis\": {\"endlinecolor\": \"#2a3f5f\", \"gridcolor\": \"white\", \"linecolor\": \"white\", \"minorgridcolor\": \"white\", \"startlinecolor\": \"#2a3f5f\"}, \"baxis\": {\"endlinecolor\": \"#2a3f5f\", \"gridcolor\": \"white\", \"linecolor\": \"white\", \"minorgridcolor\": \"white\", \"startlinecolor\": \"#2a3f5f\"}, \"type\": \"carpet\"}], \"choropleth\": [{\"colorbar\": {\"outlinewidth\": 0, \"ticks\": \"\"}, \"type\": \"choropleth\"}], \"contour\": [{\"colorbar\": {\"outlinewidth\": 0, \"ticks\": \"\"}, \"colorscale\": [[0.0, \"#0d0887\"], [0.1111111111111111, \"#46039f\"], [0.2222222222222222, \"#7201a8\"], [0.3333333333333333, \"#9c179e\"], [0.4444444444444444, \"#bd3786\"], [0.5555555555555556, \"#d8576b\"], [0.6666666666666666, \"#ed7953\"], [0.7777777777777778, \"#fb9f3a\"], [0.8888888888888888, \"#fdca26\"], [1.0, \"#f0f921\"]], \"type\": \"contour\"}], \"contourcarpet\": [{\"colorbar\": {\"outlinewidth\": 0, \"ticks\": \"\"}, \"type\": \"contourcarpet\"}], \"heatmap\": [{\"colorbar\": {\"outlinewidth\": 0, \"ticks\": \"\"}, \"colorscale\": [[0.0, \"#0d0887\"], [0.1111111111111111, \"#46039f\"], [0.2222222222222222, \"#7201a8\"], [0.3333333333333333, \"#9c179e\"], [0.4444444444444444, \"#bd3786\"], [0.5555555555555556, \"#d8576b\"], [0.6666666666666666, \"#ed7953\"], [0.7777777777777778, \"#fb9f3a\"], [0.8888888888888888, \"#fdca26\"], [1.0, \"#f0f921\"]], \"type\": \"heatmap\"}], \"heatmapgl\": [{\"colorbar\": {\"outlinewidth\": 0, \"ticks\": \"\"}, \"colorscale\": [[0.0, \"#0d0887\"], [0.1111111111111111, \"#46039f\"], [0.2222222222222222, \"#7201a8\"], [0.3333333333333333, \"#9c179e\"], [0.4444444444444444, \"#bd3786\"], [0.5555555555555556, \"#d8576b\"], [0.6666666666666666, \"#ed7953\"], [0.7777777777777778, \"#fb9f3a\"], [0.8888888888888888, \"#fdca26\"], [1.0, \"#f0f921\"]], \"type\": \"heatmapgl\"}], \"histogram\": [{\"marker\": {\"colorbar\": {\"outlinewidth\": 0, \"ticks\": \"\"}}, \"type\": \"histogram\"}], \"histogram2d\": [{\"colorbar\": {\"outlinewidth\": 0, \"ticks\": \"\"}, \"colorscale\": [[0.0, \"#0d0887\"], [0.1111111111111111, \"#46039f\"], [0.2222222222222222, \"#7201a8\"], [0.3333333333333333, \"#9c179e\"], [0.4444444444444444, \"#bd3786\"], [0.5555555555555556, \"#d8576b\"], [0.6666666666666666, \"#ed7953\"], [0.7777777777777778, \"#fb9f3a\"], [0.8888888888888888, \"#fdca26\"], [1.0, \"#f0f921\"]], \"type\": \"histogram2d\"}], \"histogram2dcontour\": [{\"colorbar\": {\"outlinewidth\": 0, \"ticks\": \"\"}, \"colorscale\": [[0.0, \"#0d0887\"], [0.1111111111111111, \"#46039f\"], [0.2222222222222222, \"#7201a8\"], [0.3333333333333333, \"#9c179e\"], [0.4444444444444444, \"#bd3786\"], [0.5555555555555556, \"#d8576b\"], [0.6666666666666666, \"#ed7953\"], [0.7777777777777778, \"#fb9f3a\"], [0.8888888888888888, \"#fdca26\"], [1.0, \"#f0f921\"]], \"type\": \"histogram2dcontour\"}], \"mesh3d\": [{\"colorbar\": {\"outlinewidth\": 0, \"ticks\": \"\"}, \"type\": \"mesh3d\"}], \"parcoords\": [{\"line\": {\"colorbar\": {\"outlinewidth\": 0, \"ticks\": \"\"}}, \"type\": \"parcoords\"}], \"pie\": [{\"automargin\": true, \"type\": \"pie\"}], \"scatter\": [{\"marker\": {\"colorbar\": {\"outlinewidth\": 0, \"ticks\": \"\"}}, \"type\": \"scatter\"}], \"scatter3d\": [{\"line\": {\"colorbar\": {\"outlinewidth\": 0, \"ticks\": \"\"}}, \"marker\": {\"colorbar\": {\"outlinewidth\": 0, \"ticks\": \"\"}}, \"type\": \"scatter3d\"}], \"scattercarpet\": [{\"marker\": {\"colorbar\": {\"outlinewidth\": 0, \"ticks\": \"\"}}, \"type\": \"scattercarpet\"}], \"scattergeo\": [{\"marker\": {\"colorbar\": {\"outlinewidth\": 0, \"ticks\": \"\"}}, \"type\": \"scattergeo\"}], \"scattergl\": [{\"marker\": {\"colorbar\": {\"outlinewidth\": 0, \"ticks\": \"\"}}, \"type\": \"scattergl\"}], \"scattermapbox\": [{\"marker\": {\"colorbar\": {\"outlinewidth\": 0, \"ticks\": \"\"}}, \"type\": \"scattermapbox\"}], \"scatterpolar\": [{\"marker\": {\"colorbar\": {\"outlinewidth\": 0, \"ticks\": \"\"}}, \"type\": \"scatterpolar\"}], \"scatterpolargl\": [{\"marker\": {\"colorbar\": {\"outlinewidth\": 0, \"ticks\": \"\"}}, \"type\": \"scatterpolargl\"}], \"scatterternary\": [{\"marker\": {\"colorbar\": {\"outlinewidth\": 0, \"ticks\": \"\"}}, \"type\": \"scatterternary\"}], \"surface\": [{\"colorbar\": {\"outlinewidth\": 0, \"ticks\": \"\"}, \"colorscale\": [[0.0, \"#0d0887\"], [0.1111111111111111, \"#46039f\"], [0.2222222222222222, \"#7201a8\"], [0.3333333333333333, \"#9c179e\"], [0.4444444444444444, \"#bd3786\"], [0.5555555555555556, \"#d8576b\"], [0.6666666666666666, \"#ed7953\"], [0.7777777777777778, \"#fb9f3a\"], [0.8888888888888888, \"#fdca26\"], [1.0, \"#f0f921\"]], \"type\": \"surface\"}], \"table\": [{\"cells\": {\"fill\": {\"color\": \"#EBF0F8\"}, \"line\": {\"color\": \"white\"}}, \"header\": {\"fill\": {\"color\": \"#C8D4E3\"}, \"line\": {\"color\": \"white\"}}, \"type\": \"table\"}]}, \"layout\": {\"annotationdefaults\": {\"arrowcolor\": \"#2a3f5f\", \"arrowhead\": 0, \"arrowwidth\": 1}, \"coloraxis\": {\"colorbar\": {\"outlinewidth\": 0, \"ticks\": \"\"}}, \"colorscale\": {\"diverging\": [[0, \"#8e0152\"], [0.1, \"#c51b7d\"], [0.2, \"#de77ae\"], [0.3, \"#f1b6da\"], [0.4, \"#fde0ef\"], [0.5, \"#f7f7f7\"], [0.6, \"#e6f5d0\"], [0.7, \"#b8e186\"], [0.8, \"#7fbc41\"], [0.9, \"#4d9221\"], [1, \"#276419\"]], \"sequential\": [[0.0, \"#0d0887\"], [0.1111111111111111, \"#46039f\"], [0.2222222222222222, \"#7201a8\"], [0.3333333333333333, \"#9c179e\"], [0.4444444444444444, \"#bd3786\"], [0.5555555555555556, \"#d8576b\"], [0.6666666666666666, \"#ed7953\"], [0.7777777777777778, \"#fb9f3a\"], [0.8888888888888888, \"#fdca26\"], [1.0, \"#f0f921\"]], \"sequentialminus\": [[0.0, \"#0d0887\"], [0.1111111111111111, \"#46039f\"], [0.2222222222222222, \"#7201a8\"], [0.3333333333333333, \"#9c179e\"], [0.4444444444444444, \"#bd3786\"], [0.5555555555555556, \"#d8576b\"], [0.6666666666666666, \"#ed7953\"], [0.7777777777777778, \"#fb9f3a\"], [0.8888888888888888, \"#fdca26\"], [1.0, \"#f0f921\"]]}, \"colorway\": [\"#636efa\", \"#EF553B\", \"#00cc96\", \"#ab63fa\", \"#FFA15A\", \"#19d3f3\", \"#FF6692\", \"#B6E880\", \"#FF97FF\", \"#FECB52\"], \"font\": {\"color\": \"#2a3f5f\"}, \"geo\": {\"bgcolor\": \"white\", \"lakecolor\": \"white\", \"landcolor\": \"#E5ECF6\", \"showlakes\": true, \"showland\": true, \"subunitcolor\": \"white\"}, \"hoverlabel\": {\"align\": \"left\"}, \"hovermode\": \"closest\", \"mapbox\": {\"style\": \"light\"}, \"paper_bgcolor\": \"white\", \"plot_bgcolor\": \"#E5ECF6\", \"polar\": {\"angularaxis\": {\"gridcolor\": \"white\", \"linecolor\": \"white\", \"ticks\": \"\"}, \"bgcolor\": \"#E5ECF6\", \"radialaxis\": {\"gridcolor\": \"white\", \"linecolor\": \"white\", \"ticks\": \"\"}}, \"scene\": {\"xaxis\": {\"backgroundcolor\": \"#E5ECF6\", \"gridcolor\": \"white\", \"gridwidth\": 2, \"linecolor\": \"white\", \"showbackground\": true, \"ticks\": \"\", \"zerolinecolor\": \"white\"}, \"yaxis\": {\"backgroundcolor\": \"#E5ECF6\", \"gridcolor\": \"white\", \"gridwidth\": 2, \"linecolor\": \"white\", \"showbackground\": true, \"ticks\": \"\", \"zerolinecolor\": \"white\"}, \"zaxis\": {\"backgroundcolor\": \"#E5ECF6\", \"gridcolor\": \"white\", \"gridwidth\": 2, \"linecolor\": \"white\", \"showbackground\": true, \"ticks\": \"\", \"zerolinecolor\": \"white\"}}, \"shapedefaults\": {\"line\": {\"color\": \"#2a3f5f\"}}, \"ternary\": {\"aaxis\": {\"gridcolor\": \"white\", \"linecolor\": \"white\", \"ticks\": \"\"}, \"baxis\": {\"gridcolor\": \"white\", \"linecolor\": \"white\", \"ticks\": \"\"}, \"bgcolor\": \"#E5ECF6\", \"caxis\": {\"gridcolor\": \"white\", \"linecolor\": \"white\", \"ticks\": \"\"}}, \"title\": {\"x\": 0.05}, \"xaxis\": {\"automargin\": true, \"gridcolor\": \"white\", \"linecolor\": \"white\", \"ticks\": \"\", \"title\": {\"standoff\": 15}, \"zerolinecolor\": \"white\", \"zerolinewidth\": 2}, \"yaxis\": {\"automargin\": true, \"gridcolor\": \"white\", \"linecolor\": \"white\", \"ticks\": \"\", \"title\": {\"standoff\": 15}, \"zerolinecolor\": \"white\", \"zerolinewidth\": 2}}}, \"xaxis\": {\"range\": [2004, 2014]}, \"yaxis\": {\"range\": [0, 100]}},\n",
       "                        {\"responsive\": true}\n",
       "                    ).then(function(){\n",
       "                            \n",
       "var gd = document.getElementById('78e6d44b-7377-4471-839b-e48d4c4e0e7c');\n",
       "var x = new MutationObserver(function (mutations, observer) {{\n",
       "        var display = window.getComputedStyle(gd).display;\n",
       "        if (!display || display === 'none') {{\n",
       "            console.log([gd, 'removed!']);\n",
       "            Plotly.purge(gd);\n",
       "            observer.disconnect();\n",
       "        }}\n",
       "}});\n",
       "\n",
       "// Listen for the removal of the full notebook cells\n",
       "var notebookContainer = gd.closest('#notebook-container');\n",
       "if (notebookContainer) {{\n",
       "    x.observe(notebookContainer, {childList: true});\n",
       "}}\n",
       "\n",
       "// Listen for the clearing of the current output cell\n",
       "var outputEl = gd.closest('.output');\n",
       "if (outputEl) {{\n",
       "    x.observe(outputEl, {childList: true});\n",
       "}}\n",
       "\n",
       "                        })\n",
       "                };\n",
       "                });\n",
       "            </script>\n",
       "        </div>"
      ]
     },
     "metadata": {},
     "output_type": "display_data"
    }
   ],
   "source": [
    "import plotly.graph_objects as go\n",
    "from plotly.offline import iplot\n",
    "import plotly.express as px\n",
    "from itertools import cycle\n",
    "\n",
    "# colors\n",
    "palette = cycle(px.colors.qualitative.Bold)\n",
    "#palette = cycle(px.colors.sequential.PuBu)\n",
    "\n",
    "starting_year = 2004\n",
    "ending_year = 2014\n",
    "\n",
    "new_df = df[['Province', 'District', 'Year' , 'Poverty Rate (%)']]\n",
    "grouped_df = new_df.groupby(['Province'])\n",
    "\n",
    "\n",
    "for name, group in grouped_df:\n",
    "#     print(group.reset_index(drop=True))\n",
    "    dist_groups = group.groupby(['District'])\n",
    "    print(name.upper())\n",
    "    \n",
    "    \n",
    "    fig = go.Figure()\n",
    "\n",
    "    # Set axes ranges\n",
    "    fig.update_xaxes(range=[2004, 2014])\n",
    "    fig.update_yaxes(range=[0, 100])\n",
    "    \n",
    "    for dis_name, dis_group in dist_groups:\n",
    "        dis_group = dis_group.reset_index(drop=True)\n",
    "#         print(dis_group)\n",
    "        \n",
    "        min_poverty =  dis_group.loc[dis_group['Year']==2004]\n",
    "        max_poverty =  dis_group.loc[dis_group['Year']==2014]\n",
    "        \n",
    "        #print(\"MIN POVERTY=\", min_poverty)\n",
    "        if len(min_poverty) != 0 and  len(max_poverty) != 0:\n",
    "            min_poverty = min_poverty.iloc[0]['Poverty Rate (%)']\n",
    "            max_poverty = max_poverty.iloc[0]['Poverty Rate (%)']\n",
    "            \n",
    "            fig.add_trace(go.Scatter(\n",
    "                x=dis_group['Year'],\n",
    "                y=dis_group['Poverty Rate (%)'],\n",
    "#                 xref=\"x\",\n",
    "#                 yref=\"y\",\n",
    "#                 x0=starting_year,\n",
    "#                 y0=min_poverty,\n",
    "#                 x1=ending_year,\n",
    "#                 y1=max_poverty,\n",
    "                name=dis_name,\n",
    "                mode=\"lines\",\n",
    "                opacity = 1,\n",
    "                marker = dict(size =0.5 ,  line=dict(width=0.1)),\n",
    "                \n",
    "\n",
    "                #width=1,\n",
    "            ))\n",
    "    fig.update_layout(legend_title_text='Cities')       \n",
    "    fig.show()   \n",
    "\n",
    "\n",
    "                                \n"
   ]
  },
  {
   "cell_type": "code",
   "execution_count": 8,
   "metadata": {},
   "outputs": [
    {
     "ename": "IndentationError",
     "evalue": "unexpected indent (<ipython-input-8-ac7942a09d0d>, line 19)",
     "output_type": "error",
     "traceback": [
      "\u001b[0;36m  File \u001b[0;32m\"<ipython-input-8-ac7942a09d0d>\"\u001b[0;36m, line \u001b[0;32m19\u001b[0m\n\u001b[0;31m    trace = go.Scatter(\u001b[0m\n\u001b[0m    ^\u001b[0m\n\u001b[0;31mIndentationError\u001b[0m\u001b[0;31m:\u001b[0m unexpected indent\n"
     ]
    }
   ],
   "source": [
    "       \n",
    "                # Add shapes\n",
    "#             fig.add_shape(\n",
    "#                 # Line reference to the axes\n",
    "#                 type=\"line\",\n",
    "    \n",
    "#                 xref=\"x\",\n",
    "#                 yref=\"y\",\n",
    "#                 x0=starting_year,\n",
    "#                 y0=min_poverty,\n",
    "#                 x1=ending_year,\n",
    "#                 y1=max_poverty,\n",
    "     \n",
    "#                 line=dict(\n",
    "#                     color=\"LightSeaGreen\",\n",
    "#                     width=1,\n",
    "#                 ),\n",
    "#             )\n",
    "    trace = go.Scatter(\n",
    "              x=df['Year'],\n",
    "              y=df['Poverty Rate (%)'],\n",
    "              mode='lines',\n",
    "              line=dict(\n",
    "                  color=\"LightSeaGreen\",\n",
    "#                     width=1,\n",
    "              )\n",
    "            )\n",
    "            fig =  go.Figure(data=[trace], layout=)"
   ]
  },
  {
   "cell_type": "code",
   "execution_count": null,
   "metadata": {},
   "outputs": [],
   "source": [
    "import plotly.graph_objects as go\n",
    "from plotly.offline import iplot\n",
    "\n",
    "starting_year = 2004\n",
    "ending_year = 2014\n",
    "\n",
    "new_df = df[['Province', 'District', 'Year' , 'Poverty Rate (%)']]\n",
    "grouped_df = new_df.groupby(['Province'])\n",
    "\n",
    "\n",
    "for name, group in grouped_df:\n",
    "#     print(group.reset_index(drop=True))\n",
    "    dist_groups = group.groupby(['District'])\n",
    "    print(name.upper())\n",
    "    \n",
    "    \n",
    "    fig = go.Figure()\n",
    "#     fig.add_trace(go.Scatter(\n",
    "#         x=[0, 6],\n",
    "#         y=[1, 1],\n",
    " \n",
    "#         mode=\"lines\",\n",
    "#     ))\n",
    "\n",
    "    # Set axes ranges\n",
    "    fig.update_xaxes(range=[2004, 2014])\n",
    "    fig.update_yaxes(range=[0, 100])\n",
    "    \n",
    "    for dis_name, dis_group in dist_groups:\n",
    "        dis_group = dis_group.reset_index(drop=True)\n",
    "#         print(dis_group)\n",
    "        \n",
    "        min_poverty =  dis_group.loc[dis_group['Year']==2004]\n",
    "        max_poverty =  dis_group.loc[dis_group['Year']==2014]\n",
    "        \n",
    "        #print(\"MIN POVERTY=\", min_poverty)\n",
    "        if len(min_poverty) != 0 and  len(max_poverty) != 0:\n",
    "            min_poverty = min_poverty.iloc[0]['Poverty Rate (%)']\n",
    "            max_poverty = max_poverty.iloc[0]['Poverty Rate (%)']\n",
    "                    # Add shapes\n",
    "            fig.add_shape(\n",
    "                # Line reference to the axes\n",
    "                type=\"line\",\n",
    "    \n",
    "                xref=\"x\",\n",
    "                yref=\"y\",\n",
    "                x0=starting_year,\n",
    "                y0=min_poverty,\n",
    "                x1=ending_year,\n",
    "                y1=max_poverty,\n",
    "     \n",
    "                line=dict(\n",
    "                    color=\"LightSeaGreen\",\n",
    "                    width=1,\n",
    "                ),\n",
    "            )\n",
    "    fig.update_layout(legend_title_text='Cities')       \n",
    "    fig.show()   \n",
    "\n"
   ]
  },
  {
   "cell_type": "code",
   "execution_count": null,
   "metadata": {},
   "outputs": [],
   "source": [
    "\n",
    "from datetime import date\n",
    "\n",
    "from labella.scale import LinearScale\n",
    "from labella.timeline import TimelineSVG, TimelineTex\n",
    "\n",
    "def color5(d):\n",
    "    if d['team'] == 'GER':\n",
    "        return '#1F77B4'\n",
    "    else:\n",
    "        return '#FF7F0E'\n",
    "\n",
    "def main():\n",
    "    data = [\n",
    "            {'time': 1,  'name': 'Müller',  'team': 'GER'},\n",
    "            {'time': 23, 'name': 'Klose',   'team': 'GER'},\n",
    "            {'time': 24, 'name': 'Kroos',   'team': 'GER'},\n",
    "            {'time': 26, 'name': 'Kroos',   'team': 'GER'},\n",
    "            {'time': 29, 'name': 'Khedira', 'team': 'GER'},\n",
    "            {'time': 69, 'name': 'Schürrle', 'team': 'GER'},\n",
    "            {'time': 79, 'name': 'Schürrle', 'team': 'GER'},\n",
    "            {'time': 90, 'name': 'Oscar', 'team': 'BRA'},\n",
    "            ]\n",
    "\n",
    "    options = {\n",
    "        'direction': 'up',\n",
    "        'initialWidth': 804,\n",
    "        'initialHeight': 120,\n",
    "        'scale': LinearScale(),\n",
    "        'domain': [0, 90],\n",
    "        'margin': {'left': 20, 'right': 20, 'top': 30, 'bottom': 20},\n",
    "        'textFn': lambda d : d['name'],\n",
    "        'layerGap': 40,\n",
    "        'dotColor': color5,\n",
    "        'labelBgColor': color5,\n",
    "        'linkColor': color5,\n",
    "        'labella': {\n",
    "            'maxPos': 764,\n",
    "            'algorithm': 'simple',\n",
    "            },\n",
    "        'labelPadding': {'left': 0, 'right': 2, 'top': 0, 'bottom': 0},\n",
    "        }\n",
    "\n",
    "    tl = TimelineSVG(data, options=options)\n",
    "    tl.export('timeline_kit_5.svg')\n",
    "\n",
    "    tl = TimelineTex(data, options=options)\n",
    "    tl.export('timeline_kit_5.tex')\n",
    "\n",
    "if __name__ == '__main__':\n",
    "    main()"
   ]
  },
  {
   "cell_type": "code",
   "execution_count": null,
   "metadata": {},
   "outputs": [],
   "source": []
  }
 ],
 "metadata": {
  "kernelspec": {
   "display_name": "Python 3",
   "language": "python",
   "name": "python3"
  },
  "language_info": {
   "codemirror_mode": {
    "name": "ipython",
    "version": 3
   },
   "file_extension": ".py",
   "mimetype": "text/x-python",
   "name": "python",
   "nbconvert_exporter": "python",
   "pygments_lexer": "ipython3",
   "version": "3.6.7"
  }
 },
 "nbformat": 4,
 "nbformat_minor": 2
}
