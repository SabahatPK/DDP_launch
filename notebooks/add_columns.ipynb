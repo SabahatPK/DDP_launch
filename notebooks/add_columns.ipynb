{
 "cells": [
  {
   "cell_type": "code",
   "execution_count": 4,
   "metadata": {},
   "outputs": [
    {
     "data": {
      "text/plain": [
       "Index(['Province', 'District', 'Year', 'Poverty Rate (%)',\n",
       "       'Access to improved drinking water (% of population)',\n",
       "       'Access to piped water (% of population)',\n",
       "       'Access to improved toilet facilities (% of population)',\n",
       "       'Open defecation (% of population)',\n",
       "       'Access to electricity (% of population)',\n",
       "       'Households' mobile phone ownership (% of population)',\n",
       "       'Accessibility, health (% of population within 15 minutes to clinic/hospital)',\n",
       "       'Accessibility, transportation (% of population within 15 minutes to public transportation)',\n",
       "       'Household size', 'Household dependency ratio',\n",
       "       'Occupancy, present occupancy status-owner (% of population)',\n",
       "       'Occupancy, present occupancy status-rented (% of population)',\n",
       "       'Occupancy, present occupancy status-other (% of population)',\n",
       "       'Improved roof material (% of population)',\n",
       "       'Improved wall material (% of population)',\n",
       "       'Improved roof and wall material (% of population)',\n",
       "       'Household members per room', 'Overcrowding (% of population)',\n",
       "       'Labor force participation rate (% of working age population, 15-64 years old)',\n",
       "       'Employment in agriculture (% of total employment)',\n",
       "       'Employment in industry (% of total employment)',\n",
       "       'Employment services (% of total employment)',\n",
       "       'Wage and salaried employment (% of total employment)',\n",
       "       'Self-employment, non-agriculture (% of total employment)',\n",
       "       'Self-employment, agriculture (% of total employment)',\n",
       "       'Unpaid employment (% of total employment)',\n",
       "       'Child labor (% of children aged 10-17)',\n",
       "       'Net school enrollment, primary school, 6-10 years old (% net)',\n",
       "       'Net school enrollment, middle school, 11-13 years old (% net)',\n",
       "       'Youth literacy, 15-24 years old (% of population aged 15-24)',\n",
       "       'Adult literacy, 25 or more years old (% of population aged 25 or more)',\n",
       "       'Primary completion rate, 14-17 years old (% of population aged 14-17)',\n",
       "       'Youth literacy gender parity index, 15-24 years old',\n",
       "       'Adult literacy gender parity index, 25 or more years old',\n",
       "       'Primary completion gender parity index, 14-17 years old',\n",
       "       'Net enrolment rate in primary gender parity index, 6-10 years old',\n",
       "       'Net enrolment rate in middle school gender parity index, 11-13 years old',\n",
       "       'Urban share of population (% of population)',\n",
       "       'Access to flush toilet connected to sewer (% of population)',\n",
       "       'Access to flush toilet connected to septic tank (% of population)'],\n",
       "      dtype='object')"
      ]
     },
     "execution_count": 4,
     "metadata": {},
     "output_type": "execute_result"
    }
   ],
   "source": [
    "import pandas as pd\n",
    "full_data_file = '../Data/Data4Pakistan-AllData.csv' \n",
    "updated_data_file = '../Data/updatedData_old.csv'\n",
    "output_file = '../Data/updatedData.csv' \n",
    "\n",
    "full_df = pd.read_csv(full_data_file, encoding='latin1')\n",
    "updated_df = pd.read_csv(updated_data_file, encoding='latin1')\n",
    "\n",
    "updated_df[\"Access to flush toilet connected to sewer (% of population)\"] = full_df[\"Access to flush toilet connected to sewer (% of population)\"]\n",
    "updated_df[\"Access to flush toilet connected to septic tank (% of population)\"] = full_df[\"Access to flush toilet connected to septic tank (% of population)\"]\n",
    "\n",
    "\n",
    "updated_df.to_csv(output_file)\n",
    "updated_df.columns\n"
   ]
  },
  {
   "cell_type": "code",
   "execution_count": null,
   "metadata": {},
   "outputs": [],
   "source": []
  }
 ],
 "metadata": {
  "kernelspec": {
   "display_name": "Python 3",
   "language": "python",
   "name": "python3"
  },
  "language_info": {
   "codemirror_mode": {
    "name": "ipython",
    "version": 3
   },
   "file_extension": ".py",
   "mimetype": "text/x-python",
   "name": "python",
   "nbconvert_exporter": "python",
   "pygments_lexer": "ipython3",
   "version": "3.6.7"
  }
 },
 "nbformat": 4,
 "nbformat_minor": 2
}
